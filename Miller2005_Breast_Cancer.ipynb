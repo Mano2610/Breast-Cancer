{
 "cells": [
  {
   "cell_type": "markdown",
   "metadata": {
    "id": "8w4k6DR5Vfbr"
   },
   "source": [
    "# *Reading the Data*"
   ]
  },
  {
   "cell_type": "code",
   "execution_count": 1,
   "metadata": {
    "id": "33XvgGJBxJkW"
   },
   "outputs": [],
   "source": [
    "import pandas as pd\n",
    "import numpy as np\n",
    "import matplotlib.pyplot as plt\n",
    "import seaborn as sns"
   ]
  },
  {
   "cell_type": "markdown",
   "metadata": {
    "id": "6-xW-xptWDI7"
   },
   "source": [
    "### Gene Expression File - Input variables"
   ]
  },
  {
   "cell_type": "code",
   "execution_count": 2,
   "metadata": {
    "colab": {
     "base_uri": "https://localhost:8080/"
    },
    "id": "LFtXSF5JJPAq",
    "outputId": "28fa7461-a8a3-4f30-daa3-e26276ba75ed"
   },
   "outputs": [
    {
     "name": "stderr",
     "output_type": "stream",
     "text": [
      "C:\\Users\\kvman\\anaconda3\\lib\\site-packages\\IPython\\core\\interactiveshell.py:3077: DtypeWarning: Columns (1,2,3,4,5,6,7,8,9,10,11,12,13,14,15,16,17,18,19,20,21,22,23,24,25,26,27,28,29,30,31,32,33,34,35,36,37,38,39,40,41,42,43,44,45,46,47,48,49,50,51,52,53,54,55,56,57,58,59,60,61,62,63,64,65,66,67,68,69,70,71,72,73,74,75,76,77,78,79,80,81,82,83,84,85,86,87,88,89,90,91,92,93,94,95,96,97,98,99,100,101,102,103,104,105,106,107,108,109,110,111,112,113,114,115,116,117,118,119,120,121,122,123,124,125,126,127,128,129,130,131,132,133,134,135,136,137,138,139,140,141,142,143,144,145,146,147,148,149,150,151,152,153,154,155,156,157,158,159,160,161,162,163,164,165,166,167,168,169,170,171,172,173,174,175,176,177,178,179,180,181,182,183,184,185,186,187,188,189,190,191,192,193,194,195,196,197,198,199,200,201,202,203,204,205,206,207,208,209,210,211,212,213,214,215,216,217,218,219,220,221,222,223,224,225,226,227,228,229,230,231,232,233,234,235,236,237,238,239,240,241,242,243,244,245,246,247,248,249,250,251) have mixed types.Specify dtype option on import or set low_memory=False.\n",
      "  has_raised = await self.run_ast_nodes(code_ast.body, cell_name,\n"
     ]
    }
   ],
   "source": [
    "df_main = pd.read_csv(\"miller2005_genomicMatrix\", sep='\\t', header=None)"
   ]
  },
  {
   "cell_type": "code",
   "execution_count": 3,
   "metadata": {
    "colab": {
     "base_uri": "https://localhost:8080/",
     "height": 0
    },
    "id": "0jnlZN5zbJpQ",
    "outputId": "6aef293a-d300-4a36-8d25-f12e4af07d24"
   },
   "outputs": [
    {
     "data": {
      "text/html": [
       "<div>\n",
       "<style scoped>\n",
       "    .dataframe tbody tr th:only-of-type {\n",
       "        vertical-align: middle;\n",
       "    }\n",
       "\n",
       "    .dataframe tbody tr th {\n",
       "        vertical-align: top;\n",
       "    }\n",
       "\n",
       "    .dataframe thead th {\n",
       "        text-align: right;\n",
       "    }\n",
       "</style>\n",
       "<table border=\"1\" class=\"dataframe\">\n",
       "  <thead>\n",
       "    <tr style=\"text-align: right;\">\n",
       "      <th></th>\n",
       "      <th>0</th>\n",
       "      <th>1</th>\n",
       "      <th>2</th>\n",
       "      <th>3</th>\n",
       "      <th>4</th>\n",
       "      <th>5</th>\n",
       "      <th>6</th>\n",
       "      <th>7</th>\n",
       "      <th>8</th>\n",
       "      <th>9</th>\n",
       "      <th>...</th>\n",
       "      <th>242</th>\n",
       "      <th>243</th>\n",
       "      <th>244</th>\n",
       "      <th>245</th>\n",
       "      <th>246</th>\n",
       "      <th>247</th>\n",
       "      <th>248</th>\n",
       "      <th>249</th>\n",
       "      <th>250</th>\n",
       "      <th>251</th>\n",
       "    </tr>\n",
       "  </thead>\n",
       "  <tbody>\n",
       "    <tr>\n",
       "      <th>0</th>\n",
       "      <td>probe</td>\n",
       "      <td>X100B08</td>\n",
       "      <td>X101B88</td>\n",
       "      <td>X102B06</td>\n",
       "      <td>X103B41</td>\n",
       "      <td>X104B91</td>\n",
       "      <td>X105B13</td>\n",
       "      <td>X106B55</td>\n",
       "      <td>X10B88</td>\n",
       "      <td>X110B34</td>\n",
       "      <td>...</td>\n",
       "      <td>X85A03</td>\n",
       "      <td>X86A40</td>\n",
       "      <td>X87A79</td>\n",
       "      <td>X88A67</td>\n",
       "      <td>X8B87</td>\n",
       "      <td>X90A63</td>\n",
       "      <td>X94A16</td>\n",
       "      <td>X96A21</td>\n",
       "      <td>X99A50</td>\n",
       "      <td>X9B52</td>\n",
       "    </tr>\n",
       "    <tr>\n",
       "      <th>1</th>\n",
       "      <td>211050_x_at</td>\n",
       "      <td>-0.60609845997949</td>\n",
       "      <td>-0.71211732736651</td>\n",
       "      <td>-0.24902371657542</td>\n",
       "      <td>0.47339419538929</td>\n",
       "      <td>-0.54907184258026</td>\n",
       "      <td>-0.3092005016715</td>\n",
       "      <td>0.41897323719004</td>\n",
       "      <td>-0.3946572303695</td>\n",
       "      <td>-0.47251557515557</td>\n",
       "      <td>...</td>\n",
       "      <td>0.19425738895826</td>\n",
       "      <td>-0.0147835375762102</td>\n",
       "      <td>0.13407539167209</td>\n",
       "      <td>-0.19990245782577</td>\n",
       "      <td>0.11891965170859</td>\n",
       "      <td>-0.37927029343351</td>\n",
       "      <td>0.82007590513398</td>\n",
       "      <td>-0.0455767367670501</td>\n",
       "      <td>-0.0245526540187702</td>\n",
       "      <td>0.27066630092569</td>\n",
       "    </tr>\n",
       "    <tr>\n",
       "      <th>2</th>\n",
       "      <td>220399_at</td>\n",
       "      <td>0.297761884637424</td>\n",
       "      <td>0.108554028539094</td>\n",
       "      <td>0.529915688630775</td>\n",
       "      <td>-0.0236977596184555</td>\n",
       "      <td>-0.240674552924416</td>\n",
       "      <td>-0.186094550508416</td>\n",
       "      <td>0.00280455771169397</td>\n",
       "      <td>-0.131805918000736</td>\n",
       "      <td>0.113294687596224</td>\n",
       "      <td>...</td>\n",
       "      <td>0.158997493199424</td>\n",
       "      <td>0.228584615788685</td>\n",
       "      <td>-1.61824983812591</td>\n",
       "      <td>-0.237390400226426</td>\n",
       "      <td>0.228422630263264</td>\n",
       "      <td>-0.433716710549096</td>\n",
       "      <td>-1.76092467281198</td>\n",
       "      <td>0.290774879921944</td>\n",
       "      <td>0.248706789784914</td>\n",
       "      <td>-0.0227919448987057</td>\n",
       "    </tr>\n",
       "    <tr>\n",
       "      <th>3</th>\n",
       "      <td>202115_s_at</td>\n",
       "      <td>-0.0207199586993729</td>\n",
       "      <td>-0.329812842420013</td>\n",
       "      <td>-0.455559869614984</td>\n",
       "      <td>0.335866503578156</td>\n",
       "      <td>0.0914735642808466</td>\n",
       "      <td>-0.0649335936114834</td>\n",
       "      <td>0.232192293522567</td>\n",
       "      <td>-0.0245333551689031</td>\n",
       "      <td>0.390957101123317</td>\n",
       "      <td>...</td>\n",
       "      <td>0.611860013300097</td>\n",
       "      <td>0.303447871810647</td>\n",
       "      <td>0.0735930672214167</td>\n",
       "      <td>-0.082834904637803</td>\n",
       "      <td>0.133630190202147</td>\n",
       "      <td>0.0553951474851369</td>\n",
       "      <td>0.0711540480339563</td>\n",
       "      <td>-0.114437082375583</td>\n",
       "      <td>0.242832779585116</td>\n",
       "      <td>0.218242406811207</td>\n",
       "    </tr>\n",
       "    <tr>\n",
       "      <th>4</th>\n",
       "      <td>224501_at</td>\n",
       "      <td>0.0191163830257484</td>\n",
       "      <td>-0.508559867759712</td>\n",
       "      <td>0.0562016961050977</td>\n",
       "      <td>-0.0112785620922615</td>\n",
       "      <td>0.189045651599998</td>\n",
       "      <td>0.696562269810068</td>\n",
       "      <td>0.192981870643838</td>\n",
       "      <td>-0.319990873927932</td>\n",
       "      <td>-0.243858578920162</td>\n",
       "      <td>...</td>\n",
       "      <td>0.209863932679728</td>\n",
       "      <td>0.215091978389048</td>\n",
       "      <td>-0.323448141350642</td>\n",
       "      <td>-0.0203078647708521</td>\n",
       "      <td>0.214314624350358</td>\n",
       "      <td>0.212822716079898</td>\n",
       "      <td>0.368002424465348</td>\n",
       "      <td>0.207985730041758</td>\n",
       "      <td>0.267992659684308</td>\n",
       "      <td>0.791908891893848</td>\n",
       "    </tr>\n",
       "  </tbody>\n",
       "</table>\n",
       "<p>5 rows × 252 columns</p>\n",
       "</div>"
      ],
      "text/plain": [
       "           0                    1                   2                   3    \\\n",
       "0        probe              X100B08             X101B88             X102B06   \n",
       "1  211050_x_at    -0.60609845997949   -0.71211732736651   -0.24902371657542   \n",
       "2    220399_at    0.297761884637424   0.108554028539094   0.529915688630775   \n",
       "3  202115_s_at  -0.0207199586993729  -0.329812842420013  -0.455559869614984   \n",
       "4    224501_at   0.0191163830257484  -0.508559867759712  0.0562016961050977   \n",
       "\n",
       "                   4                   5                    6    \\\n",
       "0              X103B41             X104B91              X105B13   \n",
       "1     0.47339419538929   -0.54907184258026     -0.3092005016715   \n",
       "2  -0.0236977596184555  -0.240674552924416   -0.186094550508416   \n",
       "3    0.335866503578156  0.0914735642808466  -0.0649335936114834   \n",
       "4  -0.0112785620922615   0.189045651599998    0.696562269810068   \n",
       "\n",
       "                   7                    8                   9    ...  \\\n",
       "0              X106B55               X10B88             X110B34  ...   \n",
       "1     0.41897323719004     -0.3946572303695   -0.47251557515557  ...   \n",
       "2  0.00280455771169397   -0.131805918000736   0.113294687596224  ...   \n",
       "3    0.232192293522567  -0.0245333551689031   0.390957101123317  ...   \n",
       "4    0.192981870643838   -0.319990873927932  -0.243858578920162  ...   \n",
       "\n",
       "                 242                  243                 244  \\\n",
       "0             X85A03               X86A40              X87A79   \n",
       "1   0.19425738895826  -0.0147835375762102    0.13407539167209   \n",
       "2  0.158997493199424    0.228584615788685   -1.61824983812591   \n",
       "3  0.611860013300097    0.303447871810647  0.0735930672214167   \n",
       "4  0.209863932679728    0.215091978389048  -0.323448141350642   \n",
       "\n",
       "                   245                246                 247  \\\n",
       "0               X88A67              X8B87              X90A63   \n",
       "1    -0.19990245782577   0.11891965170859   -0.37927029343351   \n",
       "2   -0.237390400226426  0.228422630263264  -0.433716710549096   \n",
       "3   -0.082834904637803  0.133630190202147  0.0553951474851369   \n",
       "4  -0.0203078647708521  0.214314624350358   0.212822716079898   \n",
       "\n",
       "                  248                  249                  250  \\\n",
       "0              X94A16               X96A21               X99A50   \n",
       "1    0.82007590513398  -0.0455767367670501  -0.0245526540187702   \n",
       "2   -1.76092467281198    0.290774879921944    0.248706789784914   \n",
       "3  0.0711540480339563   -0.114437082375583    0.242832779585116   \n",
       "4   0.368002424465348    0.207985730041758    0.267992659684308   \n",
       "\n",
       "                   251  \n",
       "0                X9B52  \n",
       "1     0.27066630092569  \n",
       "2  -0.0227919448987057  \n",
       "3    0.218242406811207  \n",
       "4    0.791908891893848  \n",
       "\n",
       "[5 rows x 252 columns]"
      ]
     },
     "execution_count": 3,
     "metadata": {},
     "output_type": "execute_result"
    }
   ],
   "source": [
    "#input(x values)\n",
    "df_main.head()"
   ]
  },
  {
   "cell_type": "code",
   "execution_count": 4,
   "metadata": {
    "id": "7Kuh18pdJPAr"
   },
   "outputs": [],
   "source": [
    "#Making a copy of the original file\n",
    "df_main = df_main.T\n",
    "df_main.columns = df_main.iloc[0] \n",
    "df_main = df_main[1:]\n",
    "df = df_main.copy()"
   ]
  },
  {
   "cell_type": "code",
   "execution_count": 5,
   "metadata": {
    "colab": {
     "base_uri": "https://localhost:8080/",
     "height": 0
    },
    "id": "xWUUBrHFUuly",
    "outputId": "73218635-a8f5-4c7a-a545-87e31137fdfa"
   },
   "outputs": [
    {
     "data": {
      "text/html": [
       "<div>\n",
       "<style scoped>\n",
       "    .dataframe tbody tr th:only-of-type {\n",
       "        vertical-align: middle;\n",
       "    }\n",
       "\n",
       "    .dataframe tbody tr th {\n",
       "        vertical-align: top;\n",
       "    }\n",
       "\n",
       "    .dataframe thead th {\n",
       "        text-align: right;\n",
       "    }\n",
       "</style>\n",
       "<table border=\"1\" class=\"dataframe\">\n",
       "  <thead>\n",
       "    <tr style=\"text-align: right;\">\n",
       "      <th></th>\n",
       "      <th>probe</th>\n",
       "      <th>211050_x_at</th>\n",
       "      <th>220399_at</th>\n",
       "      <th>202115_s_at</th>\n",
       "      <th>224501_at</th>\n",
       "      <th>227347_x_at</th>\n",
       "      <th>205483_s_at</th>\n",
       "      <th>212283_at</th>\n",
       "      <th>212285_s_at</th>\n",
       "      <th>217419_x_at</th>\n",
       "      <th>...</th>\n",
       "      <th>216922_x_at</th>\n",
       "      <th>208331_at</th>\n",
       "      <th>211461_at</th>\n",
       "      <th>232402_at</th>\n",
       "      <th>207647_at</th>\n",
       "      <th>207646_s_at</th>\n",
       "      <th>207916_at</th>\n",
       "      <th>202829_s_at</th>\n",
       "      <th>214950_at</th>\n",
       "      <th>208164_s_at</th>\n",
       "    </tr>\n",
       "  </thead>\n",
       "  <tbody>\n",
       "    <tr>\n",
       "      <th>1</th>\n",
       "      <td>X100B08</td>\n",
       "      <td>-0.60609845997949</td>\n",
       "      <td>0.297761884637424</td>\n",
       "      <td>-0.0207199586993729</td>\n",
       "      <td>0.0191163830257484</td>\n",
       "      <td>0.217003285274825</td>\n",
       "      <td>-0.959765619734105</td>\n",
       "      <td>0.31905965380238</td>\n",
       "      <td>0.26743053282687</td>\n",
       "      <td>0.0546245393746343</td>\n",
       "      <td>...</td>\n",
       "      <td>0.585269</td>\n",
       "      <td>0.677886</td>\n",
       "      <td>0.294886</td>\n",
       "      <td>0.334739</td>\n",
       "      <td>-0.922423</td>\n",
       "      <td>0.525822</td>\n",
       "      <td>0.65593</td>\n",
       "      <td>-0.373383</td>\n",
       "      <td>0.533709</td>\n",
       "      <td>0.9551</td>\n",
       "    </tr>\n",
       "    <tr>\n",
       "      <th>2</th>\n",
       "      <td>X101B88</td>\n",
       "      <td>-0.71211732736651</td>\n",
       "      <td>0.108554028539094</td>\n",
       "      <td>-0.329812842420013</td>\n",
       "      <td>-0.508559867759712</td>\n",
       "      <td>0.750268555716166</td>\n",
       "      <td>-0.739373617253365</td>\n",
       "      <td>-0.63507596067365</td>\n",
       "      <td>0.404148351178069</td>\n",
       "      <td>0.553476301226864</td>\n",
       "      <td>...</td>\n",
       "      <td>0.34349</td>\n",
       "      <td>-0.37717</td>\n",
       "      <td>-0.146836</td>\n",
       "      <td>-0.027103</td>\n",
       "      <td>0.108189</td>\n",
       "      <td>-0.108456</td>\n",
       "      <td>0.800626</td>\n",
       "      <td>0.0473873</td>\n",
       "      <td>-0.630866</td>\n",
       "      <td>0.550008</td>\n",
       "    </tr>\n",
       "    <tr>\n",
       "      <th>3</th>\n",
       "      <td>X102B06</td>\n",
       "      <td>-0.24902371657542</td>\n",
       "      <td>0.529915688630775</td>\n",
       "      <td>-0.455559869614984</td>\n",
       "      <td>0.0562016961050977</td>\n",
       "      <td>0.469504094265635</td>\n",
       "      <td>0.436695502974866</td>\n",
       "      <td>0.253222377924609</td>\n",
       "      <td>0.236893737236249</td>\n",
       "      <td>0.263843536673264</td>\n",
       "      <td>...</td>\n",
       "      <td>-1.19229</td>\n",
       "      <td>-0.264924</td>\n",
       "      <td>-0.403073</td>\n",
       "      <td>-0.273291</td>\n",
       "      <td>0.408303</td>\n",
       "      <td>0.256424</td>\n",
       "      <td>0.0524039</td>\n",
       "      <td>-0.0767656</td>\n",
       "      <td>0.170939</td>\n",
       "      <td>-0.016254</td>\n",
       "    </tr>\n",
       "    <tr>\n",
       "      <th>4</th>\n",
       "      <td>X103B41</td>\n",
       "      <td>0.47339419538929</td>\n",
       "      <td>-0.0236977596184555</td>\n",
       "      <td>0.335866503578156</td>\n",
       "      <td>-0.0112785620922615</td>\n",
       "      <td>-0.182405554283685</td>\n",
       "      <td>0.913890761259296</td>\n",
       "      <td>0.134584773097739</td>\n",
       "      <td>0.46841163348552</td>\n",
       "      <td>0.508556696455114</td>\n",
       "      <td>...</td>\n",
       "      <td>0.233813</td>\n",
       "      <td>-0.182134</td>\n",
       "      <td>-0.132613</td>\n",
       "      <td>0.314508</td>\n",
       "      <td>0.147834</td>\n",
       "      <td>-0.766659</td>\n",
       "      <td>-1.51796</td>\n",
       "      <td>0.487872</td>\n",
       "      <td>0.394624</td>\n",
       "      <td>0.440938</td>\n",
       "    </tr>\n",
       "    <tr>\n",
       "      <th>5</th>\n",
       "      <td>X104B91</td>\n",
       "      <td>-0.54907184258026</td>\n",
       "      <td>-0.240674552924416</td>\n",
       "      <td>0.0914735642808466</td>\n",
       "      <td>0.189045651599998</td>\n",
       "      <td>-0.472259746631345</td>\n",
       "      <td>1.18484495173342</td>\n",
       "      <td>0.204097424289389</td>\n",
       "      <td>0.397235706101899</td>\n",
       "      <td>0.107319891585904</td>\n",
       "      <td>...</td>\n",
       "      <td>-0.0637161</td>\n",
       "      <td>-0.0511183</td>\n",
       "      <td>-0.149773</td>\n",
       "      <td>-0.304061</td>\n",
       "      <td>-1.2299</td>\n",
       "      <td>-0.000545084</td>\n",
       "      <td>0.574513</td>\n",
       "      <td>0.597032</td>\n",
       "      <td>0.196972</td>\n",
       "      <td>0.120323</td>\n",
       "    </tr>\n",
       "  </tbody>\n",
       "</table>\n",
       "<p>5 rows × 24712 columns</p>\n",
       "</div>"
      ],
      "text/plain": [
       "0    probe        211050_x_at            220399_at          202115_s_at  \\\n",
       "1  X100B08  -0.60609845997949    0.297761884637424  -0.0207199586993729   \n",
       "2  X101B88  -0.71211732736651    0.108554028539094   -0.329812842420013   \n",
       "3  X102B06  -0.24902371657542    0.529915688630775   -0.455559869614984   \n",
       "4  X103B41   0.47339419538929  -0.0236977596184555    0.335866503578156   \n",
       "5  X104B91  -0.54907184258026   -0.240674552924416   0.0914735642808466   \n",
       "\n",
       "0            224501_at         227347_x_at         205483_s_at  \\\n",
       "1   0.0191163830257484   0.217003285274825  -0.959765619734105   \n",
       "2   -0.508559867759712   0.750268555716166  -0.739373617253365   \n",
       "3   0.0562016961050977   0.469504094265635   0.436695502974866   \n",
       "4  -0.0112785620922615  -0.182405554283685   0.913890761259296   \n",
       "5    0.189045651599998  -0.472259746631345    1.18484495173342   \n",
       "\n",
       "0          212283_at        212285_s_at         217419_x_at  ... 216922_x_at  \\\n",
       "1   0.31905965380238   0.26743053282687  0.0546245393746343  ...    0.585269   \n",
       "2  -0.63507596067365  0.404148351178069   0.553476301226864  ...     0.34349   \n",
       "3  0.253222377924609  0.236893737236249   0.263843536673264  ...    -1.19229   \n",
       "4  0.134584773097739   0.46841163348552   0.508556696455114  ...    0.233813   \n",
       "5  0.204097424289389  0.397235706101899   0.107319891585904  ...  -0.0637161   \n",
       "\n",
       "0  208331_at 211461_at 232402_at 207647_at  207646_s_at  207916_at  \\\n",
       "1   0.677886  0.294886  0.334739 -0.922423     0.525822    0.65593   \n",
       "2   -0.37717 -0.146836 -0.027103  0.108189    -0.108456   0.800626   \n",
       "3  -0.264924 -0.403073 -0.273291  0.408303     0.256424  0.0524039   \n",
       "4  -0.182134 -0.132613  0.314508  0.147834    -0.766659   -1.51796   \n",
       "5 -0.0511183 -0.149773 -0.304061   -1.2299 -0.000545084   0.574513   \n",
       "\n",
       "0 202829_s_at 214950_at 208164_s_at  \n",
       "1   -0.373383  0.533709      0.9551  \n",
       "2   0.0473873 -0.630866    0.550008  \n",
       "3  -0.0767656  0.170939   -0.016254  \n",
       "4    0.487872  0.394624    0.440938  \n",
       "5    0.597032  0.196972    0.120323  \n",
       "\n",
       "[5 rows x 24712 columns]"
      ]
     },
     "execution_count": 5,
     "metadata": {},
     "output_type": "execute_result"
    }
   ],
   "source": [
    "df.head()"
   ]
  },
  {
   "cell_type": "markdown",
   "metadata": {
    "id": "6fpymr2hWWJn"
   },
   "source": [
    "### Phenotype - Output variables (Target Variables)"
   ]
  },
  {
   "cell_type": "code",
   "execution_count": 6,
   "metadata": {
    "id": "78Zl0b3vJ2C9"
   },
   "outputs": [],
   "source": [
    "df_output = pd.read_csv(\"miller2005_public_clinicalMatrix\", sep='\\t', index_col=0)"
   ]
  },
  {
   "cell_type": "code",
   "execution_count": 7,
   "metadata": {
    "colab": {
     "base_uri": "https://localhost:8080/",
     "height": 270
    },
    "id": "97WeuavONO8_",
    "outputId": "a451dbdf-6bf5-40a8-e7c1-7ad88ef163f6"
   },
   "outputs": [
    {
     "data": {
      "text/html": [
       "<div>\n",
       "<style scoped>\n",
       "    .dataframe tbody tr th:only-of-type {\n",
       "        vertical-align: middle;\n",
       "    }\n",
       "\n",
       "    .dataframe tbody tr th {\n",
       "        vertical-align: top;\n",
       "    }\n",
       "\n",
       "    .dataframe thead th {\n",
       "        text-align: right;\n",
       "    }\n",
       "</style>\n",
       "<table border=\"1\" class=\"dataframe\">\n",
       "  <thead>\n",
       "    <tr style=\"text-align: right;\">\n",
       "      <th></th>\n",
       "      <th>AgeAtDiagnosis</th>\n",
       "      <th>DLDAerror</th>\n",
       "      <th>DSS</th>\n",
       "      <th>DSS.time</th>\n",
       "      <th>ERstatus</th>\n",
       "      <th>EistonHistologicGrade</th>\n",
       "      <th>LymphNodeStatus</th>\n",
       "      <th>PgRstatus</th>\n",
       "      <th>TumorSize</th>\n",
       "      <th>_INTEGRATION</th>\n",
       "      <th>_PATIENT</th>\n",
       "      <th>p53DLDAclassResult</th>\n",
       "      <th>p53mutant</th>\n",
       "      <th>_GENOMIC_ID_miller2005</th>\n",
       "    </tr>\n",
       "  </thead>\n",
       "  <tbody>\n",
       "    <tr>\n",
       "      <th>0</th>\n",
       "      <td>68</td>\n",
       "      <td>No</td>\n",
       "      <td>AliveOrCensored</td>\n",
       "      <td>12.0</td>\n",
       "      <td>ER+</td>\n",
       "      <td>G1</td>\n",
       "      <td>LN-</td>\n",
       "      <td>PgR-</td>\n",
       "      <td>9.0</td>\n",
       "      <td>X100B08</td>\n",
       "      <td>X100B08</td>\n",
       "      <td>WT-like</td>\n",
       "      <td>p53-</td>\n",
       "      <td>X100B08</td>\n",
       "    </tr>\n",
       "    <tr>\n",
       "      <th>1</th>\n",
       "      <td>40</td>\n",
       "      <td>No</td>\n",
       "      <td>AliveOrCensored</td>\n",
       "      <td>12.0</td>\n",
       "      <td>ER-</td>\n",
       "      <td>G3</td>\n",
       "      <td>LN-</td>\n",
       "      <td>PgR-</td>\n",
       "      <td>12.0</td>\n",
       "      <td>X101B88</td>\n",
       "      <td>X101B88</td>\n",
       "      <td>MT-like</td>\n",
       "      <td>p53+</td>\n",
       "      <td>X101B88</td>\n",
       "    </tr>\n",
       "    <tr>\n",
       "      <th>2</th>\n",
       "      <td>51</td>\n",
       "      <td>No</td>\n",
       "      <td>AliveOrCensored</td>\n",
       "      <td>12.0</td>\n",
       "      <td>ER+</td>\n",
       "      <td>G3</td>\n",
       "      <td>LN-</td>\n",
       "      <td>PgR+</td>\n",
       "      <td>26.0</td>\n",
       "      <td>X102B06</td>\n",
       "      <td>X102B06</td>\n",
       "      <td>MT-like</td>\n",
       "      <td>p53+</td>\n",
       "      <td>X102B06</td>\n",
       "    </tr>\n",
       "    <tr>\n",
       "      <th>3</th>\n",
       "      <td>52</td>\n",
       "      <td>Yes</td>\n",
       "      <td>NaN</td>\n",
       "      <td>NaN</td>\n",
       "      <td>ER-</td>\n",
       "      <td>G3</td>\n",
       "      <td>LN+</td>\n",
       "      <td>PgR-</td>\n",
       "      <td>22.0</td>\n",
       "      <td>X103B41</td>\n",
       "      <td>X103B41</td>\n",
       "      <td>MT-like</td>\n",
       "      <td>p53-</td>\n",
       "      <td>X103B41</td>\n",
       "    </tr>\n",
       "    <tr>\n",
       "      <th>4</th>\n",
       "      <td>80</td>\n",
       "      <td>Yes</td>\n",
       "      <td>AliveOrCensored</td>\n",
       "      <td>4.0</td>\n",
       "      <td>ER+</td>\n",
       "      <td>G3</td>\n",
       "      <td>NaN</td>\n",
       "      <td>PgR+</td>\n",
       "      <td>24.0</td>\n",
       "      <td>X104B91</td>\n",
       "      <td>X104B91</td>\n",
       "      <td>WT-like</td>\n",
       "      <td>p53+</td>\n",
       "      <td>X104B91</td>\n",
       "    </tr>\n",
       "  </tbody>\n",
       "</table>\n",
       "</div>"
      ],
      "text/plain": [
       "   AgeAtDiagnosis DLDAerror              DSS  DSS.time ERstatus  \\\n",
       "0              68        No  AliveOrCensored      12.0      ER+   \n",
       "1              40        No  AliveOrCensored      12.0      ER-   \n",
       "2              51        No  AliveOrCensored      12.0      ER+   \n",
       "3              52       Yes              NaN       NaN      ER-   \n",
       "4              80       Yes  AliveOrCensored       4.0      ER+   \n",
       "\n",
       "  EistonHistologicGrade LymphNodeStatus PgRstatus  TumorSize _INTEGRATION  \\\n",
       "0                    G1             LN-      PgR-        9.0      X100B08   \n",
       "1                    G3             LN-      PgR-       12.0      X101B88   \n",
       "2                    G3             LN-      PgR+       26.0      X102B06   \n",
       "3                    G3             LN+      PgR-       22.0      X103B41   \n",
       "4                    G3             NaN      PgR+       24.0      X104B91   \n",
       "\n",
       "  _PATIENT p53DLDAclassResult p53mutant _GENOMIC_ID_miller2005  \n",
       "0  X100B08            WT-like      p53-                X100B08  \n",
       "1  X101B88            MT-like      p53+                X101B88  \n",
       "2  X102B06            MT-like      p53+                X102B06  \n",
       "3  X103B41            MT-like      p53-                X103B41  \n",
       "4  X104B91            WT-like      p53+                X104B91  "
      ]
     },
     "execution_count": 7,
     "metadata": {},
     "output_type": "execute_result"
    }
   ],
   "source": [
    "df_output = df_output.reset_index(drop=True)\n",
    "df1 = df_output.copy()\n",
    "df1.head()"
   ]
  },
  {
   "cell_type": "code",
   "execution_count": 8,
   "metadata": {
    "colab": {
     "base_uri": "https://localhost:8080/"
    },
    "id": "FE9C54IOcuWi",
    "outputId": "ee709351-9af4-4a17-baa4-0067bada2782"
   },
   "outputs": [
    {
     "data": {
      "text/plain": [
       "Index(['AgeAtDiagnosis', 'DLDAerror', 'DSS', 'DSS.time', 'ERstatus',\n",
       "       'EistonHistologicGrade', 'LymphNodeStatus', 'PgRstatus', 'TumorSize',\n",
       "       '_INTEGRATION', '_PATIENT', 'p53DLDAclassResult', 'p53mutant',\n",
       "       '_GENOMIC_ID_miller2005'],\n",
       "      dtype='object')"
      ]
     },
     "execution_count": 8,
     "metadata": {},
     "output_type": "execute_result"
    }
   ],
   "source": [
    "df1.columns"
   ]
  },
  {
   "cell_type": "code",
   "execution_count": 9,
   "metadata": {
    "colab": {
     "base_uri": "https://localhost:8080/",
     "height": 595
    },
    "id": "zIFYhtd-JPAs",
    "outputId": "e64c7e65-d747-4017-f553-503a88aeca68"
   },
   "outputs": [
    {
     "name": "stdout",
     "output_type": "stream",
     "text": [
      "AgeAtDiagnosis             0\n",
      "DLDAerror                  0\n",
      "DSS                       15\n",
      "DSS.time                  15\n",
      "ERstatus                   4\n",
      "EistonHistologicGrade      2\n",
      "LymphNodeStatus            9\n",
      "PgRstatus                  0\n",
      "TumorSize                  0\n",
      "_INTEGRATION               0\n",
      "_PATIENT                   0\n",
      "p53DLDAclassResult         0\n",
      "p53mutant                  0\n",
      "_GENOMIC_ID_miller2005     0\n",
      "dtype: int64\n"
     ]
    },
    {
     "data": {
      "text/plain": [
       "<BarContainer object of 14 artists>"
      ]
     },
     "execution_count": 9,
     "metadata": {},
     "output_type": "execute_result"
    }
   ],
   "source": [
    "print(df1.isnull().sum())\n",
    "plt.figure(figsize=(25,5))\n",
    "plt.bar(df1.columns, df1.isnull().sum())"
   ]
  },
  {
   "cell_type": "markdown",
   "metadata": {
    "id": "pjd94bIhYVcc"
   },
   "source": [
    "# 1. Target Variable - DLDAerror:"
   ]
  },
  {
   "cell_type": "markdown",
   "metadata": {
    "id": "P221fAA5XA2l"
   },
   "source": [
    "### Combining both Input data and Output data(DLDAerror)"
   ]
  },
  {
   "cell_type": "markdown",
   "metadata": {
    "id": "rMxeJNoRXOSL"
   },
   "source": [
    "Merging all the input data from the dataframe \"df\" and \"DLDAerror\" variable from the dataframe \"df1\"\n"
   ]
  },
  {
   "cell_type": "code",
   "execution_count": 10,
   "metadata": {
    "id": "OU0jzBwrJPAt"
   },
   "outputs": [],
   "source": [
    "df_final = pd.merge(df,df1[['DLDAerror']], left_on=['probe'],right_on=[df1['_PATIENT']],how='inner')"
   ]
  },
  {
   "cell_type": "code",
   "execution_count": 11,
   "metadata": {
    "colab": {
     "base_uri": "https://localhost:8080/",
     "height": 299
    },
    "id": "zC5MrPV-mOK1",
    "outputId": "097e738c-8c1b-4f01-8673-d9b9913e0150"
   },
   "outputs": [
    {
     "data": {
      "text/html": [
       "<div>\n",
       "<style scoped>\n",
       "    .dataframe tbody tr th:only-of-type {\n",
       "        vertical-align: middle;\n",
       "    }\n",
       "\n",
       "    .dataframe tbody tr th {\n",
       "        vertical-align: top;\n",
       "    }\n",
       "\n",
       "    .dataframe thead th {\n",
       "        text-align: right;\n",
       "    }\n",
       "</style>\n",
       "<table border=\"1\" class=\"dataframe\">\n",
       "  <thead>\n",
       "    <tr style=\"text-align: right;\">\n",
       "      <th></th>\n",
       "      <th>probe</th>\n",
       "      <th>211050_x_at</th>\n",
       "      <th>220399_at</th>\n",
       "      <th>202115_s_at</th>\n",
       "      <th>224501_at</th>\n",
       "      <th>227347_x_at</th>\n",
       "      <th>205483_s_at</th>\n",
       "      <th>212283_at</th>\n",
       "      <th>212285_s_at</th>\n",
       "      <th>217419_x_at</th>\n",
       "      <th>...</th>\n",
       "      <th>208331_at</th>\n",
       "      <th>211461_at</th>\n",
       "      <th>232402_at</th>\n",
       "      <th>207647_at</th>\n",
       "      <th>207646_s_at</th>\n",
       "      <th>207916_at</th>\n",
       "      <th>202829_s_at</th>\n",
       "      <th>214950_at</th>\n",
       "      <th>208164_s_at</th>\n",
       "      <th>DLDAerror</th>\n",
       "    </tr>\n",
       "  </thead>\n",
       "  <tbody>\n",
       "    <tr>\n",
       "      <th>0</th>\n",
       "      <td>X100B08</td>\n",
       "      <td>-0.60609845997949</td>\n",
       "      <td>0.297761884637424</td>\n",
       "      <td>-0.0207199586993729</td>\n",
       "      <td>0.0191163830257484</td>\n",
       "      <td>0.217003285274825</td>\n",
       "      <td>-0.959765619734105</td>\n",
       "      <td>0.31905965380238</td>\n",
       "      <td>0.26743053282687</td>\n",
       "      <td>0.0546245393746343</td>\n",
       "      <td>...</td>\n",
       "      <td>0.677886</td>\n",
       "      <td>0.294886</td>\n",
       "      <td>0.334739</td>\n",
       "      <td>-0.922423</td>\n",
       "      <td>0.525822</td>\n",
       "      <td>0.65593</td>\n",
       "      <td>-0.373383</td>\n",
       "      <td>0.533709</td>\n",
       "      <td>0.9551</td>\n",
       "      <td>No</td>\n",
       "    </tr>\n",
       "    <tr>\n",
       "      <th>1</th>\n",
       "      <td>X101B88</td>\n",
       "      <td>-0.71211732736651</td>\n",
       "      <td>0.108554028539094</td>\n",
       "      <td>-0.329812842420013</td>\n",
       "      <td>-0.508559867759712</td>\n",
       "      <td>0.750268555716166</td>\n",
       "      <td>-0.739373617253365</td>\n",
       "      <td>-0.63507596067365</td>\n",
       "      <td>0.404148351178069</td>\n",
       "      <td>0.553476301226864</td>\n",
       "      <td>...</td>\n",
       "      <td>-0.37717</td>\n",
       "      <td>-0.146836</td>\n",
       "      <td>-0.027103</td>\n",
       "      <td>0.108189</td>\n",
       "      <td>-0.108456</td>\n",
       "      <td>0.800626</td>\n",
       "      <td>0.0473873</td>\n",
       "      <td>-0.630866</td>\n",
       "      <td>0.550008</td>\n",
       "      <td>No</td>\n",
       "    </tr>\n",
       "    <tr>\n",
       "      <th>2</th>\n",
       "      <td>X102B06</td>\n",
       "      <td>-0.24902371657542</td>\n",
       "      <td>0.529915688630775</td>\n",
       "      <td>-0.455559869614984</td>\n",
       "      <td>0.0562016961050977</td>\n",
       "      <td>0.469504094265635</td>\n",
       "      <td>0.436695502974866</td>\n",
       "      <td>0.253222377924609</td>\n",
       "      <td>0.236893737236249</td>\n",
       "      <td>0.263843536673264</td>\n",
       "      <td>...</td>\n",
       "      <td>-0.264924</td>\n",
       "      <td>-0.403073</td>\n",
       "      <td>-0.273291</td>\n",
       "      <td>0.408303</td>\n",
       "      <td>0.256424</td>\n",
       "      <td>0.0524039</td>\n",
       "      <td>-0.0767656</td>\n",
       "      <td>0.170939</td>\n",
       "      <td>-0.016254</td>\n",
       "      <td>No</td>\n",
       "    </tr>\n",
       "    <tr>\n",
       "      <th>3</th>\n",
       "      <td>X103B41</td>\n",
       "      <td>0.47339419538929</td>\n",
       "      <td>-0.0236977596184555</td>\n",
       "      <td>0.335866503578156</td>\n",
       "      <td>-0.0112785620922615</td>\n",
       "      <td>-0.182405554283685</td>\n",
       "      <td>0.913890761259296</td>\n",
       "      <td>0.134584773097739</td>\n",
       "      <td>0.46841163348552</td>\n",
       "      <td>0.508556696455114</td>\n",
       "      <td>...</td>\n",
       "      <td>-0.182134</td>\n",
       "      <td>-0.132613</td>\n",
       "      <td>0.314508</td>\n",
       "      <td>0.147834</td>\n",
       "      <td>-0.766659</td>\n",
       "      <td>-1.51796</td>\n",
       "      <td>0.487872</td>\n",
       "      <td>0.394624</td>\n",
       "      <td>0.440938</td>\n",
       "      <td>Yes</td>\n",
       "    </tr>\n",
       "    <tr>\n",
       "      <th>4</th>\n",
       "      <td>X104B91</td>\n",
       "      <td>-0.54907184258026</td>\n",
       "      <td>-0.240674552924416</td>\n",
       "      <td>0.0914735642808466</td>\n",
       "      <td>0.189045651599998</td>\n",
       "      <td>-0.472259746631345</td>\n",
       "      <td>1.18484495173342</td>\n",
       "      <td>0.204097424289389</td>\n",
       "      <td>0.397235706101899</td>\n",
       "      <td>0.107319891585904</td>\n",
       "      <td>...</td>\n",
       "      <td>-0.0511183</td>\n",
       "      <td>-0.149773</td>\n",
       "      <td>-0.304061</td>\n",
       "      <td>-1.2299</td>\n",
       "      <td>-0.000545084</td>\n",
       "      <td>0.574513</td>\n",
       "      <td>0.597032</td>\n",
       "      <td>0.196972</td>\n",
       "      <td>0.120323</td>\n",
       "      <td>Yes</td>\n",
       "    </tr>\n",
       "  </tbody>\n",
       "</table>\n",
       "<p>5 rows × 24713 columns</p>\n",
       "</div>"
      ],
      "text/plain": [
       "     probe        211050_x_at            220399_at          202115_s_at  \\\n",
       "0  X100B08  -0.60609845997949    0.297761884637424  -0.0207199586993729   \n",
       "1  X101B88  -0.71211732736651    0.108554028539094   -0.329812842420013   \n",
       "2  X102B06  -0.24902371657542    0.529915688630775   -0.455559869614984   \n",
       "3  X103B41   0.47339419538929  -0.0236977596184555    0.335866503578156   \n",
       "4  X104B91  -0.54907184258026   -0.240674552924416   0.0914735642808466   \n",
       "\n",
       "             224501_at         227347_x_at         205483_s_at  \\\n",
       "0   0.0191163830257484   0.217003285274825  -0.959765619734105   \n",
       "1   -0.508559867759712   0.750268555716166  -0.739373617253365   \n",
       "2   0.0562016961050977   0.469504094265635   0.436695502974866   \n",
       "3  -0.0112785620922615  -0.182405554283685   0.913890761259296   \n",
       "4    0.189045651599998  -0.472259746631345    1.18484495173342   \n",
       "\n",
       "           212283_at        212285_s_at         217419_x_at  ...  208331_at  \\\n",
       "0   0.31905965380238   0.26743053282687  0.0546245393746343  ...   0.677886   \n",
       "1  -0.63507596067365  0.404148351178069   0.553476301226864  ...   -0.37717   \n",
       "2  0.253222377924609  0.236893737236249   0.263843536673264  ...  -0.264924   \n",
       "3  0.134584773097739   0.46841163348552   0.508556696455114  ...  -0.182134   \n",
       "4  0.204097424289389  0.397235706101899   0.107319891585904  ... -0.0511183   \n",
       "\n",
       "  211461_at 232402_at 207647_at  207646_s_at  207916_at 202829_s_at 214950_at  \\\n",
       "0  0.294886  0.334739 -0.922423     0.525822    0.65593   -0.373383  0.533709   \n",
       "1 -0.146836 -0.027103  0.108189    -0.108456   0.800626   0.0473873 -0.630866   \n",
       "2 -0.403073 -0.273291  0.408303     0.256424  0.0524039  -0.0767656  0.170939   \n",
       "3 -0.132613  0.314508  0.147834    -0.766659   -1.51796    0.487872  0.394624   \n",
       "4 -0.149773 -0.304061   -1.2299 -0.000545084   0.574513    0.597032  0.196972   \n",
       "\n",
       "  208164_s_at DLDAerror  \n",
       "0      0.9551        No  \n",
       "1    0.550008        No  \n",
       "2   -0.016254        No  \n",
       "3    0.440938       Yes  \n",
       "4    0.120323       Yes  \n",
       "\n",
       "[5 rows x 24713 columns]"
      ]
     },
     "execution_count": 11,
     "metadata": {},
     "output_type": "execute_result"
    }
   ],
   "source": [
    "df_final.head()"
   ]
  },
  {
   "cell_type": "markdown",
   "metadata": {
    "id": "DVCr_CzSYDIj"
   },
   "source": [
    "## Imbalance data in the Target Variable"
   ]
  },
  {
   "cell_type": "code",
   "execution_count": 12,
   "metadata": {
    "colab": {
     "base_uri": "https://localhost:8080/",
     "height": 389
    },
    "id": "kI8gAhutLk2b",
    "outputId": "a0877247-3455-4c30-fc81-6f1dbefa03be"
   },
   "outputs": [
    {
     "name": "stdout",
     "output_type": "stream",
     "text": [
      "No     213\n",
      "Yes     38\n",
      "Name: DLDAerror, dtype: int64\n"
     ]
    },
    {
     "data": {
      "text/plain": [
       "<function matplotlib.pyplot.show(close=None, block=None)>"
      ]
     },
     "execution_count": 12,
     "metadata": {},
     "output_type": "execute_result"
    }
   ],
   "source": [
    "print(df_final['DLDAerror'].value_counts())\n",
    "plt.figure(figsize=(1.5,1.5), dpi=227)\n",
    "plt.pie(df_final['DLDAerror'].value_counts(), labels=['No', 'Yes'], textprops={'fontsize':6}, startangle=0, autopct='%1.1f%%')\n",
    "plt.show"
   ]
  },
  {
   "cell_type": "markdown",
   "metadata": {
    "id": "Qlj6ZILLY5Wh"
   },
   "source": [
    "We could see that the Target Variable has \n",
    "\n",
    "No - 213  &  Yes - 38,\n",
    "\n",
    "Data looks so imbalanced. Imbalanced dataset may make the model to perform poor."
   ]
  },
  {
   "cell_type": "code",
   "execution_count": 13,
   "metadata": {
    "id": "z4pOJRYfUkQ8"
   },
   "outputs": [],
   "source": [
    "from sklearn.linear_model import LinearRegression\n",
    "from sklearn.feature_selection import RFE\n",
    "from sklearn import preprocessing\n",
    "\n",
    "\n",
    "X = df_final.drop(columns = ['probe','DLDAerror'],axis=1)\n",
    "Y = df_final['DLDAerror']\n",
    "\n",
    "X=X.astype(float)\n",
    "le = preprocessing.LabelEncoder()\n",
    "Y = le.fit_transform(Y)\n"
   ]
  },
  {
   "cell_type": "markdown",
   "metadata": {
    "id": "-KQSuBvVYrwP"
   },
   "source": [
    "Label Encoder is used to encode the categorical value into numerical value in the Target Variable"
   ]
  },
  {
   "cell_type": "code",
   "execution_count": 14,
   "metadata": {
    "colab": {
     "base_uri": "https://localhost:8080/"
    },
    "id": "AOIUpoBYow8y",
    "outputId": "2cfe112b-8edd-4aa6-88fe-300aa078c41b"
   },
   "outputs": [
    {
     "name": "stdout",
     "output_type": "stream",
     "text": [
      "(251, 24711) (251,)\n"
     ]
    }
   ],
   "source": [
    "print(X.shape,Y.shape)"
   ]
  },
  {
   "cell_type": "markdown",
   "metadata": {
    "id": "fFOoZ37jZd4V"
   },
   "source": [
    "We could see that the X shape is 251 rows and 24711 columns.\n",
    "More columns can make the model to perform poor, so its better to reject the features, which is highly correlated. \n",
    "\n",
    "Here, we have choosen Forward Feature selection to select the best feature for the target variable - DLDAerror."
   ]
  },
  {
   "cell_type": "markdown",
   "metadata": {
    "id": "KNzfCFdYZQzL"
   },
   "source": [
    "### Feature Selection - Forward Feature Selection:"
   ]
  },
  {
   "cell_type": "code",
   "execution_count": 15,
   "metadata": {
    "id": "elMD9rvin6Nb"
   },
   "outputs": [],
   "source": [
    "from sklearn.feature_selection import f_regression\n",
    "ffs = f_regression(X,Y)\n",
    "\n",
    "variable = [ ]\n",
    "for i in range(0,len(X.columns)-1):\n",
    "    if ffs[0][i] >=10:\n",
    "       variable.append(X.columns[i])"
   ]
  },
  {
   "cell_type": "code",
   "execution_count": 16,
   "metadata": {
    "colab": {
     "base_uri": "https://localhost:8080/"
    },
    "id": "Xaqesq1ZoBvk",
    "outputId": "f8eaa326-91cb-447f-bb79-c71019eeb58d"
   },
   "outputs": [
    {
     "data": {
      "text/plain": [
       "(251, 2396)"
      ]
     },
     "execution_count": 16,
     "metadata": {},
     "output_type": "execute_result"
    }
   ],
   "source": [
    "df_best = df_final[variable]\n",
    "\n",
    "df_best.shape"
   ]
  },
  {
   "cell_type": "markdown",
   "metadata": {
    "id": "F0lXFGPVaA7Y"
   },
   "source": [
    "We have choosen f-value as 10. Based on the value, 2396 features were selected out of 24711."
   ]
  },
  {
   "cell_type": "code",
   "execution_count": 17,
   "metadata": {
    "colab": {
     "base_uri": "https://localhost:8080/"
    },
    "id": "FM4TwQ9YqKGa",
    "outputId": "193ba254-d160-493a-cbee-b1a499a61314"
   },
   "outputs": [
    {
     "name": "stdout",
     "output_type": "stream",
     "text": [
      "<class 'pandas.core.frame.DataFrame'>\n",
      "Int64Index: 251 entries, 0 to 250\n",
      "Columns: 2396 entries, 205483_s_at to 206779_s_at\n",
      "dtypes: float64(2396)\n",
      "memory usage: 4.6 MB\n"
     ]
    }
   ],
   "source": [
    "#converting all the datatypes of dataframe to float\n",
    "df_best = df_best.astype(float)\n",
    "df_best.info()"
   ]
  },
  {
   "cell_type": "markdown",
   "metadata": {
    "id": "okQZRyQean1c"
   },
   "source": [
    "## Principle component analysis & Decision Tree:"
   ]
  },
  {
   "cell_type": "markdown",
   "metadata": {
    "id": "7aPywJJLbADa"
   },
   "source": [
    "Principle Component Analysis is used to reduce the dimension of the obtained feature(2396).\n",
    "\n",
    "PCA reduce the total features less than or equal to the samples."
   ]
  },
  {
   "cell_type": "code",
   "execution_count": 18,
   "metadata": {
    "id": "M9eUD3kJehRx"
   },
   "outputs": [],
   "source": [
    "#Decision Tree model is used here for the classification\n",
    "\n",
    "from sklearn.tree import DecisionTreeClassifier\n",
    "from sklearn.model_selection import train_test_split\n",
    "from sklearn.metrics import confusion_matrix,classification_report,accuracy_score\n",
    "from sklearn.decomposition import PCA\n",
    "\n",
    "RF_acc = []\n",
    "val = []\n",
    "acc =0\n",
    "for i in range(5,250,5):\n",
    "\n",
    "  pca = PCA(n_components = i)\n",
    "  x_pca = pca.fit_transform(df_best)\n",
    "   \n",
    "  X_train1, X_test1, y_train1, y_test1 = train_test_split(x_pca, Y, train_size=0.7, random_state=11, shuffle=True)\n",
    "\n",
    "  dtree = DecisionTreeClassifier()\n",
    "  dtree.fit(X_train1, y_train1)\n",
    "  p3 = dtree.predict(X_test1)\n",
    "  accuracy=accuracy_score(y_test1,p3)*100\n",
    "  RF_acc.append(accuracy)\n",
    "  val.append(i)\n",
    "  if (acc < accuracy):\n",
    "    acc = accuracy\n",
    "    best_feat = i\n",
    "    best_pca = x_pca"
   ]
  },
  {
   "cell_type": "markdown",
   "metadata": {
    "id": "DzeRa4RibdIa"
   },
   "source": [
    "## Visualising and selecting the best number of features"
   ]
  },
  {
   "cell_type": "code",
   "execution_count": 19,
   "metadata": {
    "colab": {
     "base_uri": "https://localhost:8080/",
     "height": 406
    },
    "id": "7Y1AlrehdzCF",
    "outputId": "b836de19-08ac-4828-9615-52779b295d52"
   },
   "outputs": [
    {
     "name": "stderr",
     "output_type": "stream",
     "text": [
      "C:\\Users\\kvman\\anaconda3\\lib\\site-packages\\seaborn\\_decorators.py:36: FutureWarning: Pass the following variables as keyword args: x, y. From version 0.12, the only valid positional argument will be `data`, and passing other arguments without an explicit keyword will result in an error or misinterpretation.\n",
      "  warnings.warn(\n"
     ]
    },
    {
     "name": "stdout",
     "output_type": "stream",
     "text": [
      "Maximum Accuracy is  90.78947368421053  Best number of features :  85\n"
     ]
    }
   ],
   "source": [
    "plt.figure(figsize=(18,5))\n",
    "#plt.bar(models,accuracies)\n",
    "plt.xlabel(\"Number of Features\")\n",
    "plt.ylabel(\"Accuracy in %\")\n",
    "sns.barplot(val,RF_acc)\n",
    "print(\"Maximum Accuracy is \",acc, \" Best number of features : \", best_feat)"
   ]
  },
  {
   "cell_type": "markdown",
   "metadata": {
    "id": "7NE47btPamOO"
   },
   "source": []
  },
  {
   "cell_type": "markdown",
   "metadata": {
    "id": "Qjj_xX8JbrK-"
   },
   "source": [
    "## K-Fold cross-Validation"
   ]
  },
  {
   "cell_type": "markdown",
   "metadata": {
    "id": "QgUUZIAZbzQY"
   },
   "source": [
    "Here, K-Fold cross validation is used for the training and validating the data with the best number of features which we have choosen from the above."
   ]
  },
  {
   "cell_type": "code",
   "execution_count": 20,
   "metadata": {
    "colab": {
     "base_uri": "https://localhost:8080/"
    },
    "id": "sEXHqjJRmMlz",
    "outputId": "3b9b0d32-129e-4937-a34a-848264c20244"
   },
   "outputs": [
    {
     "name": "stdout",
     "output_type": "stream",
     "text": [
      "(175, 85)\n",
      "(76, 85)\n",
      "accuracy of each fold - [0.847457627118644, 0.8448275862068966, 0.7068965517241379]\n",
      "Avg accuracy : 0.7997272550165594\n",
      "Test Accuracy :  85.52631578947368\n"
     ]
    }
   ],
   "source": [
    "from sklearn.model_selection import KFold\n",
    "from sklearn.preprocessing import StandardScaler\n",
    "\n",
    "X_train1, X_test1, y_train1, y_test1 = train_test_split(best_pca, Y, train_size=0.7, random_state=11, shuffle=True)\n",
    "print(X_train1.shape)\n",
    "print(X_test1.shape)\n",
    "\n",
    "acc_score = []\n",
    "k = 3\n",
    "kf = KFold(n_splits=k, shuffle=False, random_state=None)\n",
    "for train_index , test_index in kf.split(X_train1):\n",
    "  X_train , X_val = X_train1[train_index,:],X_train1[test_index,:]\n",
    "  y_train , y_val = y_train1[train_index] , y_train1[test_index]\n",
    "  \n",
    "  dtree.fit(X_train,y_train)\n",
    "  pred_values = dtree.predict(X_val)\n",
    "    \n",
    "  acc = accuracy_score(pred_values , y_val)\n",
    "  acc_score.append(acc)\n",
    "     \n",
    "avg_acc_score = sum(acc_score)/k\n",
    " \n",
    "print('accuracy of each fold - {}'.format(acc_score))\n",
    "print('Avg accuracy : {}'.format(avg_acc_score))\n",
    "\n",
    "\n",
    "pred2=dtree.predict(X_test1)\n",
    "print(\"Test Accuracy : \", accuracy_score(y_test1,pred2)*100)"
   ]
  },
  {
   "cell_type": "markdown",
   "metadata": {
    "id": "wKa73LQ3cdr2"
   },
   "source": [
    "# 2. Target Variable - PgRstatus:"
   ]
  },
  {
   "cell_type": "code",
   "execution_count": 21,
   "metadata": {
    "id": "zcXddpZGgmg8"
   },
   "outputs": [],
   "source": [
    "df = df_main.copy()\n",
    "df1 =df_output.copy()"
   ]
  },
  {
   "cell_type": "markdown",
   "metadata": {
    "id": "3Mf6nBG_cdr3"
   },
   "source": [
    "### Combining both Input data and Output data(PgRstatus)"
   ]
  },
  {
   "cell_type": "markdown",
   "metadata": {
    "id": "DSIRUHn9cdr4"
   },
   "source": [
    "Merging all the input data from the dataframe \"df\" and \"PgRstatus\" variable from the dataframe \"df1\"\n"
   ]
  },
  {
   "cell_type": "code",
   "execution_count": 22,
   "metadata": {
    "id": "ghxZ8XZ1cdr4"
   },
   "outputs": [],
   "source": [
    "df_final = pd.merge(df,df1[['PgRstatus']], left_on=['probe'],right_on=[df1['_PATIENT']],how='inner')"
   ]
  },
  {
   "cell_type": "code",
   "execution_count": 23,
   "metadata": {
    "colab": {
     "base_uri": "https://localhost:8080/",
     "height": 299
    },
    "id": "iSfFc7HKcdr5",
    "outputId": "c25f4231-786f-45b1-e198-6b352dd509eb"
   },
   "outputs": [
    {
     "data": {
      "text/html": [
       "<div>\n",
       "<style scoped>\n",
       "    .dataframe tbody tr th:only-of-type {\n",
       "        vertical-align: middle;\n",
       "    }\n",
       "\n",
       "    .dataframe tbody tr th {\n",
       "        vertical-align: top;\n",
       "    }\n",
       "\n",
       "    .dataframe thead th {\n",
       "        text-align: right;\n",
       "    }\n",
       "</style>\n",
       "<table border=\"1\" class=\"dataframe\">\n",
       "  <thead>\n",
       "    <tr style=\"text-align: right;\">\n",
       "      <th></th>\n",
       "      <th>probe</th>\n",
       "      <th>211050_x_at</th>\n",
       "      <th>220399_at</th>\n",
       "      <th>202115_s_at</th>\n",
       "      <th>224501_at</th>\n",
       "      <th>227347_x_at</th>\n",
       "      <th>205483_s_at</th>\n",
       "      <th>212283_at</th>\n",
       "      <th>212285_s_at</th>\n",
       "      <th>217419_x_at</th>\n",
       "      <th>...</th>\n",
       "      <th>208331_at</th>\n",
       "      <th>211461_at</th>\n",
       "      <th>232402_at</th>\n",
       "      <th>207647_at</th>\n",
       "      <th>207646_s_at</th>\n",
       "      <th>207916_at</th>\n",
       "      <th>202829_s_at</th>\n",
       "      <th>214950_at</th>\n",
       "      <th>208164_s_at</th>\n",
       "      <th>PgRstatus</th>\n",
       "    </tr>\n",
       "  </thead>\n",
       "  <tbody>\n",
       "    <tr>\n",
       "      <th>0</th>\n",
       "      <td>X100B08</td>\n",
       "      <td>-0.60609845997949</td>\n",
       "      <td>0.297761884637424</td>\n",
       "      <td>-0.0207199586993729</td>\n",
       "      <td>0.0191163830257484</td>\n",
       "      <td>0.217003285274825</td>\n",
       "      <td>-0.959765619734105</td>\n",
       "      <td>0.31905965380238</td>\n",
       "      <td>0.26743053282687</td>\n",
       "      <td>0.0546245393746343</td>\n",
       "      <td>...</td>\n",
       "      <td>0.677886</td>\n",
       "      <td>0.294886</td>\n",
       "      <td>0.334739</td>\n",
       "      <td>-0.922423</td>\n",
       "      <td>0.525822</td>\n",
       "      <td>0.65593</td>\n",
       "      <td>-0.373383</td>\n",
       "      <td>0.533709</td>\n",
       "      <td>0.9551</td>\n",
       "      <td>PgR-</td>\n",
       "    </tr>\n",
       "    <tr>\n",
       "      <th>1</th>\n",
       "      <td>X101B88</td>\n",
       "      <td>-0.71211732736651</td>\n",
       "      <td>0.108554028539094</td>\n",
       "      <td>-0.329812842420013</td>\n",
       "      <td>-0.508559867759712</td>\n",
       "      <td>0.750268555716166</td>\n",
       "      <td>-0.739373617253365</td>\n",
       "      <td>-0.63507596067365</td>\n",
       "      <td>0.404148351178069</td>\n",
       "      <td>0.553476301226864</td>\n",
       "      <td>...</td>\n",
       "      <td>-0.37717</td>\n",
       "      <td>-0.146836</td>\n",
       "      <td>-0.027103</td>\n",
       "      <td>0.108189</td>\n",
       "      <td>-0.108456</td>\n",
       "      <td>0.800626</td>\n",
       "      <td>0.0473873</td>\n",
       "      <td>-0.630866</td>\n",
       "      <td>0.550008</td>\n",
       "      <td>PgR-</td>\n",
       "    </tr>\n",
       "    <tr>\n",
       "      <th>2</th>\n",
       "      <td>X102B06</td>\n",
       "      <td>-0.24902371657542</td>\n",
       "      <td>0.529915688630775</td>\n",
       "      <td>-0.455559869614984</td>\n",
       "      <td>0.0562016961050977</td>\n",
       "      <td>0.469504094265635</td>\n",
       "      <td>0.436695502974866</td>\n",
       "      <td>0.253222377924609</td>\n",
       "      <td>0.236893737236249</td>\n",
       "      <td>0.263843536673264</td>\n",
       "      <td>...</td>\n",
       "      <td>-0.264924</td>\n",
       "      <td>-0.403073</td>\n",
       "      <td>-0.273291</td>\n",
       "      <td>0.408303</td>\n",
       "      <td>0.256424</td>\n",
       "      <td>0.0524039</td>\n",
       "      <td>-0.0767656</td>\n",
       "      <td>0.170939</td>\n",
       "      <td>-0.016254</td>\n",
       "      <td>PgR+</td>\n",
       "    </tr>\n",
       "    <tr>\n",
       "      <th>3</th>\n",
       "      <td>X103B41</td>\n",
       "      <td>0.47339419538929</td>\n",
       "      <td>-0.0236977596184555</td>\n",
       "      <td>0.335866503578156</td>\n",
       "      <td>-0.0112785620922615</td>\n",
       "      <td>-0.182405554283685</td>\n",
       "      <td>0.913890761259296</td>\n",
       "      <td>0.134584773097739</td>\n",
       "      <td>0.46841163348552</td>\n",
       "      <td>0.508556696455114</td>\n",
       "      <td>...</td>\n",
       "      <td>-0.182134</td>\n",
       "      <td>-0.132613</td>\n",
       "      <td>0.314508</td>\n",
       "      <td>0.147834</td>\n",
       "      <td>-0.766659</td>\n",
       "      <td>-1.51796</td>\n",
       "      <td>0.487872</td>\n",
       "      <td>0.394624</td>\n",
       "      <td>0.440938</td>\n",
       "      <td>PgR-</td>\n",
       "    </tr>\n",
       "    <tr>\n",
       "      <th>4</th>\n",
       "      <td>X104B91</td>\n",
       "      <td>-0.54907184258026</td>\n",
       "      <td>-0.240674552924416</td>\n",
       "      <td>0.0914735642808466</td>\n",
       "      <td>0.189045651599998</td>\n",
       "      <td>-0.472259746631345</td>\n",
       "      <td>1.18484495173342</td>\n",
       "      <td>0.204097424289389</td>\n",
       "      <td>0.397235706101899</td>\n",
       "      <td>0.107319891585904</td>\n",
       "      <td>...</td>\n",
       "      <td>-0.0511183</td>\n",
       "      <td>-0.149773</td>\n",
       "      <td>-0.304061</td>\n",
       "      <td>-1.2299</td>\n",
       "      <td>-0.000545084</td>\n",
       "      <td>0.574513</td>\n",
       "      <td>0.597032</td>\n",
       "      <td>0.196972</td>\n",
       "      <td>0.120323</td>\n",
       "      <td>PgR+</td>\n",
       "    </tr>\n",
       "  </tbody>\n",
       "</table>\n",
       "<p>5 rows × 24713 columns</p>\n",
       "</div>"
      ],
      "text/plain": [
       "     probe        211050_x_at            220399_at          202115_s_at  \\\n",
       "0  X100B08  -0.60609845997949    0.297761884637424  -0.0207199586993729   \n",
       "1  X101B88  -0.71211732736651    0.108554028539094   -0.329812842420013   \n",
       "2  X102B06  -0.24902371657542    0.529915688630775   -0.455559869614984   \n",
       "3  X103B41   0.47339419538929  -0.0236977596184555    0.335866503578156   \n",
       "4  X104B91  -0.54907184258026   -0.240674552924416   0.0914735642808466   \n",
       "\n",
       "             224501_at         227347_x_at         205483_s_at  \\\n",
       "0   0.0191163830257484   0.217003285274825  -0.959765619734105   \n",
       "1   -0.508559867759712   0.750268555716166  -0.739373617253365   \n",
       "2   0.0562016961050977   0.469504094265635   0.436695502974866   \n",
       "3  -0.0112785620922615  -0.182405554283685   0.913890761259296   \n",
       "4    0.189045651599998  -0.472259746631345    1.18484495173342   \n",
       "\n",
       "           212283_at        212285_s_at         217419_x_at  ...  208331_at  \\\n",
       "0   0.31905965380238   0.26743053282687  0.0546245393746343  ...   0.677886   \n",
       "1  -0.63507596067365  0.404148351178069   0.553476301226864  ...   -0.37717   \n",
       "2  0.253222377924609  0.236893737236249   0.263843536673264  ...  -0.264924   \n",
       "3  0.134584773097739   0.46841163348552   0.508556696455114  ...  -0.182134   \n",
       "4  0.204097424289389  0.397235706101899   0.107319891585904  ... -0.0511183   \n",
       "\n",
       "  211461_at 232402_at 207647_at  207646_s_at  207916_at 202829_s_at 214950_at  \\\n",
       "0  0.294886  0.334739 -0.922423     0.525822    0.65593   -0.373383  0.533709   \n",
       "1 -0.146836 -0.027103  0.108189    -0.108456   0.800626   0.0473873 -0.630866   \n",
       "2 -0.403073 -0.273291  0.408303     0.256424  0.0524039  -0.0767656  0.170939   \n",
       "3 -0.132613  0.314508  0.147834    -0.766659   -1.51796    0.487872  0.394624   \n",
       "4 -0.149773 -0.304061   -1.2299 -0.000545084   0.574513    0.597032  0.196972   \n",
       "\n",
       "  208164_s_at PgRstatus  \n",
       "0      0.9551      PgR-  \n",
       "1    0.550008      PgR-  \n",
       "2   -0.016254      PgR+  \n",
       "3    0.440938      PgR-  \n",
       "4    0.120323      PgR+  \n",
       "\n",
       "[5 rows x 24713 columns]"
      ]
     },
     "execution_count": 23,
     "metadata": {},
     "output_type": "execute_result"
    }
   ],
   "source": [
    "df_final.head()"
   ]
  },
  {
   "cell_type": "markdown",
   "metadata": {
    "id": "Nyl6SUM0cdr6"
   },
   "source": [
    "## Imbalance data in the Target Variable"
   ]
  },
  {
   "cell_type": "code",
   "execution_count": 24,
   "metadata": {
    "colab": {
     "base_uri": "https://localhost:8080/",
     "height": 389
    },
    "id": "qxn8gYG7cdr6",
    "outputId": "f5242f25-7a9f-4d1b-f7cd-7eb13c650b05"
   },
   "outputs": [
    {
     "name": "stdout",
     "output_type": "stream",
     "text": [
      "PgR+    190\n",
      "PgR-     61\n",
      "Name: PgRstatus, dtype: int64\n"
     ]
    },
    {
     "data": {
      "text/plain": [
       "<function matplotlib.pyplot.show(close=None, block=None)>"
      ]
     },
     "execution_count": 24,
     "metadata": {},
     "output_type": "execute_result"
    }
   ],
   "source": [
    "print(df_final['PgRstatus'].value_counts())\n",
    "plt.figure(figsize=(1.5,1.5), dpi=227)\n",
    "plt.pie(df_final['PgRstatus'].value_counts(), labels=['PgR+', 'PgR-'], textprops={'fontsize':6}, startangle=0, autopct='%1.1f%%')\n",
    "plt.show"
   ]
  },
  {
   "cell_type": "markdown",
   "metadata": {
    "id": "g5zAkLjBcdr7"
   },
   "source": [
    "We could see that the Target Variable has \n",
    "\n",
    "PgR+ : 190  &  PgR- : 61,\n",
    "\n",
    "Data looks imbalanced. Imbalanced dataset may make the model to perform poor."
   ]
  },
  {
   "cell_type": "code",
   "execution_count": 25,
   "metadata": {
    "id": "oMFHrL3Icdr8"
   },
   "outputs": [],
   "source": [
    "from sklearn.linear_model import LinearRegression\n",
    "from sklearn.feature_selection import RFE\n",
    "from sklearn import preprocessing\n",
    "\n",
    "\n",
    "X = df_final.drop(columns = ['probe','PgRstatus'],axis=1)\n",
    "Y = df_final['PgRstatus']\n",
    "\n",
    "X=X.astype(float)\n",
    "le = preprocessing.LabelEncoder()\n",
    "Y = le.fit_transform(Y)\n"
   ]
  },
  {
   "cell_type": "markdown",
   "metadata": {
    "id": "zfvy0x57cdr8"
   },
   "source": [
    "Label Encoder is used to encode the categorical value into numerical value in the Target Variable"
   ]
  },
  {
   "cell_type": "code",
   "execution_count": 26,
   "metadata": {
    "colab": {
     "base_uri": "https://localhost:8080/"
    },
    "id": "KYPx4s4jjlts",
    "outputId": "8bddfffe-154e-493d-d30c-2369051f365b"
   },
   "outputs": [
    {
     "name": "stdout",
     "output_type": "stream",
     "text": [
      "Original dataset shape Counter({0: 190, 1: 61})\n",
      "Resample dataset shape Counter({1: 190, 0: 190})\n"
     ]
    },
    {
     "data": {
      "text/plain": [
       "(380, 24711)"
      ]
     },
     "execution_count": 26,
     "metadata": {},
     "output_type": "execute_result"
    }
   ],
   "source": [
    "from imblearn.over_sampling import SMOTE\n",
    "from collections import Counter\n",
    "\n",
    "smote = SMOTE()\n",
    "\n",
    "# fit predictor and target variable\n",
    "x_smote, y_smote = smote.fit_resample(X,Y)\n",
    "\n",
    "print('Original dataset shape', Counter(Y))\n",
    "print('Resample dataset shape', Counter(y_smote))\n",
    "x_smote.shape"
   ]
  },
  {
   "cell_type": "markdown",
   "metadata": {
    "id": "EyPyS_O6kJqZ"
   },
   "source": [
    "Synthetic Minority Oversampling Technique (SMOTE) is used to balance the dataset.\n",
    "\n",
    "Here, Oversampling is done, since we have less number of samples."
   ]
  },
  {
   "cell_type": "code",
   "execution_count": 27,
   "metadata": {
    "colab": {
     "base_uri": "https://localhost:8080/"
    },
    "id": "LxRgLEVIjxkC",
    "outputId": "5b1f3f2c-7a73-4210-d19d-678ee7eb53df"
   },
   "outputs": [
    {
     "name": "stdout",
     "output_type": "stream",
     "text": [
      "(380, 24711) (380,)\n"
     ]
    }
   ],
   "source": [
    "print(x_smote.shape, y_smote.shape)"
   ]
  },
  {
   "cell_type": "markdown",
   "metadata": {
    "id": "6qiD_fCXcdr9"
   },
   "source": [
    "We could see that the X shape is 380 rows and 24711 columns.\n",
    "More columns can make the model to perform poor, so its better to reject the features, which is highly correlated. \n",
    "\n",
    "Here, we have choosen Forward Feature selection to select the best feature for the target variable - PgRstatus."
   ]
  },
  {
   "cell_type": "markdown",
   "metadata": {
    "id": "sxK9lNF5cdr-"
   },
   "source": [
    "### Feature Selection - Forward Feature Selection:"
   ]
  },
  {
   "cell_type": "code",
   "execution_count": 28,
   "metadata": {
    "id": "_bNh6J6Ccdr-"
   },
   "outputs": [],
   "source": [
    "from sklearn.feature_selection import f_regression\n",
    "ffs = f_regression(x_smote,y_smote)\n",
    "\n",
    "variable = [ ]\n",
    "for i in range(0,len(x_smote.columns)-1):\n",
    "    if ffs[0][i] >=10:\n",
    "       variable.append(x_smote.columns[i])"
   ]
  },
  {
   "cell_type": "code",
   "execution_count": 29,
   "metadata": {
    "colab": {
     "base_uri": "https://localhost:8080/"
    },
    "id": "Xm5Czw78cdr-",
    "outputId": "ab5a306a-e33b-4d4a-d801-83ac4bcefcfd"
   },
   "outputs": [
    {
     "data": {
      "text/plain": [
       "(380, 6920)"
      ]
     },
     "execution_count": 29,
     "metadata": {},
     "output_type": "execute_result"
    }
   ],
   "source": [
    "df_best = x_smote[variable]\n",
    "\n",
    "df_best.shape"
   ]
  },
  {
   "cell_type": "markdown",
   "metadata": {
    "id": "QXPv7EQOcdr_"
   },
   "source": [
    "We have choosen f-value as 10. Based on the value, 7623 features were selected out of 24711."
   ]
  },
  {
   "cell_type": "code",
   "execution_count": 30,
   "metadata": {
    "colab": {
     "base_uri": "https://localhost:8080/"
    },
    "id": "l6RC8h_Jcdr_",
    "outputId": "2bd827b7-44ab-445c-d26f-35bc2b54c98c"
   },
   "outputs": [
    {
     "name": "stdout",
     "output_type": "stream",
     "text": [
      "<class 'pandas.core.frame.DataFrame'>\n",
      "RangeIndex: 380 entries, 0 to 379\n",
      "Columns: 6920 entries, 212283_at to 209772_s_at\n",
      "dtypes: float64(6920)\n",
      "memory usage: 20.1 MB\n"
     ]
    }
   ],
   "source": [
    "#converting all the datatypes of dataframe to float\n",
    "df_best = df_best.astype(float)\n",
    "df_best.info()"
   ]
  },
  {
   "cell_type": "markdown",
   "metadata": {
    "id": "Q5ia2167cdr_"
   },
   "source": [
    "## Principle component analysis, K_Fold & Random Forest:"
   ]
  },
  {
   "cell_type": "markdown",
   "metadata": {
    "id": "ZUkwXILFcdr_"
   },
   "source": [
    "Principle Component Analysis is used to reduce the dimension of the obtained feature(7623).\n",
    "\n",
    "PCA reduce the total features less than or equal to the samples."
   ]
  },
  {
   "cell_type": "code",
   "execution_count": 31,
   "metadata": {
    "id": "pqN2impQcdsA"
   },
   "outputs": [],
   "source": [
    "#Random Forest model is used here for the classification\n",
    "\n",
    "from sklearn.ensemble import RandomForestClassifier\n",
    "from sklearn.model_selection import train_test_split\n",
    "from sklearn.metrics import confusion_matrix,classification_report,accuracy_score\n",
    "from sklearn.decomposition import PCA\n",
    "from sklearn.model_selection import KFold\n",
    "\n",
    "\n",
    "RF_acc = []\n",
    "val = []\n",
    "acc =0\n",
    "for i in range(5,250,5):\n",
    "\n",
    "  pca = PCA(n_components = i)\n",
    "  x_pca = pca.fit_transform(df_best)\n",
    "  \n",
    "  X_train, X_test, y_train, y_test = train_test_split(x_pca, y_smote, train_size=0.7, random_state=11, shuffle=True)\n",
    "\n",
    "  #Splitting the training data into training and validation data using K-Fold\n",
    "  acc_score = []\n",
    "  k = 3\n",
    "  kf = KFold(n_splits=k, shuffle=False, random_state=None)\n",
    "  for train_index , test_index in kf.split(X_train):\n",
    "    X_train1 , X_test1 = X_train[train_index,:],X_train[test_index,:]\n",
    "    y_train1 , y_test1 = y_train[train_index] , y_train[test_index]\n",
    "\n",
    "    RF = RandomForestClassifier(n_estimators=1000)\n",
    "    RF.fit(X_train1, y_train1)\n",
    "    pred2=RF.predict(X_test1)\n",
    "    accuracy = accuracy_score(y_test1,pred2)*100\n",
    "    acc_score.append(accuracy)\n",
    "  avg_acc_score = sum(acc_score)/k\n",
    "  RF_acc.append(avg_acc_score)\n",
    "  val.append(i)\n",
    "  if (acc < accuracy):\n",
    "    acc = accuracy\n",
    "    best_feat = i\n",
    "    best_pca = x_pca"
   ]
  },
  {
   "cell_type": "markdown",
   "metadata": {
    "id": "DrA43yT8cdsB"
   },
   "source": [
    "Here, K-Fold cross validation is used for the training and validating the data with the best number of features which we have choosen from the above.\n",
    "\n",
    "This helps the model to avoid overfitting"
   ]
  },
  {
   "cell_type": "markdown",
   "metadata": {
    "id": "niEzJUGncdsA"
   },
   "source": [
    "## Visualising and selecting the best number of features"
   ]
  },
  {
   "cell_type": "code",
   "execution_count": 32,
   "metadata": {
    "colab": {
     "base_uri": "https://localhost:8080/",
     "height": 408
    },
    "id": "7D-Zon7vcdsB",
    "outputId": "050a5046-8565-4907-b901-365ef535aefc"
   },
   "outputs": [
    {
     "name": "stderr",
     "output_type": "stream",
     "text": [
      "C:\\Users\\kvman\\anaconda3\\lib\\site-packages\\seaborn\\_decorators.py:36: FutureWarning: Pass the following variables as keyword args: x, y. From version 0.12, the only valid positional argument will be `data`, and passing other arguments without an explicit keyword will result in an error or misinterpretation.\n",
      "  warnings.warn(\n"
     ]
    },
    {
     "name": "stdout",
     "output_type": "stream",
     "text": [
      "Maximum Accuracy is  97.72727272727273  Best number of features :  205\n"
     ]
    }
   ],
   "source": [
    "plt.figure(figsize=(18,5))\n",
    "#plt.bar(models,accuracies)\n",
    "plt.xlabel(\"Number of Features\")\n",
    "plt.ylabel(\"Accuracy in %\")\n",
    "sns.barplot(val,RF_acc)\n",
    "print(\"Maximum Accuracy is \",acc, \" Best number of features : \", best_feat)"
   ]
  },
  {
   "cell_type": "markdown",
   "metadata": {
    "id": "AaqnyodXmYIf"
   },
   "source": [
    "## GridSearchCV"
   ]
  },
  {
   "cell_type": "markdown",
   "metadata": {
    "id": "vQEzeZ1qmc2k"
   },
   "source": [
    "GridSearchCV is used to tuning the parameters of the model - Random Forest."
   ]
  },
  {
   "cell_type": "code",
   "execution_count": 33,
   "metadata": {
    "colab": {
     "base_uri": "https://localhost:8080/"
    },
    "id": "186VKvkqmKZf",
    "outputId": "25ab635f-ead6-47cc-dc07-7170d34f01b7"
   },
   "outputs": [
    {
     "data": {
      "text/plain": [
       "GridSearchCV(estimator=RandomForestClassifier(n_estimators=1000),\n",
       "             param_grid={'max_depth': [5, 10, 20],\n",
       "                         'max_features': ['auto', 'sqrt'],\n",
       "                         'n_estimators': [200, 500, 1000]})"
      ]
     },
     "execution_count": 33,
     "metadata": {},
     "output_type": "execute_result"
    }
   ],
   "source": [
    "#GridSearchCV\n",
    "from sklearn.model_selection import GridSearchCV\n",
    "\n",
    "X_train1, X_test1, y_train1, y_test1 = train_test_split(best_pca, y_smote, train_size=0.7, random_state=11, shuffle=True)\n",
    "\n",
    "parameters = {'max_depth': [5,10,20],\n",
    " 'max_features': ['auto', 'sqrt'],\n",
    " 'n_estimators': [200,500,1000]}\n",
    "\n",
    "clf = GridSearchCV(RF, parameters)\n",
    "clf.fit(X_train1, y_train1)"
   ]
  },
  {
   "cell_type": "code",
   "execution_count": 34,
   "metadata": {
    "colab": {
     "base_uri": "https://localhost:8080/"
    },
    "id": "Zyx2p3DDmsyo",
    "outputId": "2a986eec-6865-494a-e605-55fbf5efdaed"
   },
   "outputs": [
    {
     "data": {
      "text/plain": [
       "{'max_depth': 5, 'max_features': 'auto', 'n_estimators': 200}"
      ]
     },
     "execution_count": 34,
     "metadata": {},
     "output_type": "execute_result"
    }
   ],
   "source": [
    "clf.best_params_"
   ]
  },
  {
   "cell_type": "markdown",
   "metadata": {
    "id": "seF5KGtimv6P"
   },
   "source": [
    "Best Parameters for the Random Forest is identified using gridsearchCV"
   ]
  },
  {
   "cell_type": "markdown",
   "metadata": {
    "id": "_P4Mdm1bcdsB"
   },
   "source": [
    "## Evaluation on Test Data"
   ]
  },
  {
   "cell_type": "code",
   "execution_count": 35,
   "metadata": {
    "colab": {
     "base_uri": "https://localhost:8080/"
    },
    "id": "8aNO-b70cdsC",
    "outputId": "87182d6c-574f-4987-dc80-71de7fdbce04"
   },
   "outputs": [
    {
     "name": "stdout",
     "output_type": "stream",
     "text": [
      "(266, 205)\n",
      "(114, 205)\n",
      "accuracy of each fold - [0.9438202247191011, 0.9550561797752809, 0.9772727272727273]\n",
      "Avg accuracy : 0.958716377255703\n",
      "Test Accuracy :  98.24561403508771\n"
     ]
    }
   ],
   "source": [
    "X_train1, X_test1, y_train1, y_test1 = train_test_split(best_pca, y_smote, train_size=0.7, random_state=11, shuffle=True)\n",
    "print(X_train1.shape)\n",
    "print(X_test1.shape)\n",
    "\n",
    "acc_score = []\n",
    "k = 3\n",
    "RF = RandomForestClassifier(max_depth = 5, n_estimators=500, max_features='sqrt')\n",
    "kf = KFold(n_splits=k, shuffle=False, random_state=None)\n",
    "for train_index , test_index in kf.split(X_train1):\n",
    "  X_train , X_val = X_train1[train_index,:],X_train1[test_index,:]\n",
    "  y_train , y_val = y_train1[train_index] , y_train1[test_index]\n",
    "  \n",
    "  RF.fit(X_train,y_train)\n",
    "  pred_values = RF.predict(X_val)\n",
    "    \n",
    "  acc = accuracy_score(pred_values , y_val)\n",
    "  acc_score.append(acc)\n",
    "     \n",
    "avg_acc_score = sum(acc_score)/k\n",
    " \n",
    "print('accuracy of each fold - {}'.format(acc_score))\n",
    "print('Avg accuracy : {}'.format(avg_acc_score))\n",
    "\n",
    "\n",
    "pred2=RF.predict(X_test1)\n",
    "print(\"Test Accuracy : \", accuracy_score(y_test1,pred2)*100)"
   ]
  },
  {
   "cell_type": "markdown",
   "metadata": {
    "id": "r_cZWqxB2gNX"
   },
   "source": [
    "Conclusion:\n",
    "\n",
    "Model Performs good in both Training and Testing data.\n",
    "\n",
    "Required Number of features to achieve good accuracy = **230**\n",
    "\n",
    "Training Accuracy =**96%**\n",
    "\n",
    "Testing Accuracy = **94%**"
   ]
  },
  {
   "cell_type": "markdown",
   "metadata": {
    "id": "1O1LSz_Tnf4L"
   },
   "source": [
    "# 3. Target Variable - p53DLDAclassResult:"
   ]
  },
  {
   "cell_type": "code",
   "execution_count": 36,
   "metadata": {
    "id": "t_l0_g5vnf4M"
   },
   "outputs": [],
   "source": [
    "df = df_main.copy()\n",
    "df1 =df_output.copy()"
   ]
  },
  {
   "cell_type": "markdown",
   "metadata": {
    "id": "NlMcg1_Fnf4M"
   },
   "source": [
    "### Combining both Input data and Output data(p53DLDAclassResult)"
   ]
  },
  {
   "cell_type": "markdown",
   "metadata": {
    "id": "jZOqItl9nf4M"
   },
   "source": [
    "Merging all the input data from the dataframe \"df\" and \"p53DLDAclassResult\" variable from the dataframe \"df1\"\n"
   ]
  },
  {
   "cell_type": "code",
   "execution_count": 37,
   "metadata": {
    "id": "a_DeJ9prnf4M"
   },
   "outputs": [],
   "source": [
    "df_final = pd.merge(df,df1[['p53DLDAclassResult']], left_on=['probe'],right_on=[df1['_PATIENT']],how='inner')"
   ]
  },
  {
   "cell_type": "code",
   "execution_count": 38,
   "metadata": {
    "colab": {
     "base_uri": "https://localhost:8080/",
     "height": 299
    },
    "id": "TQRPYIqanf4N",
    "outputId": "17ece48b-fd87-45dd-eb02-9c160a7e64fb"
   },
   "outputs": [
    {
     "data": {
      "text/html": [
       "<div>\n",
       "<style scoped>\n",
       "    .dataframe tbody tr th:only-of-type {\n",
       "        vertical-align: middle;\n",
       "    }\n",
       "\n",
       "    .dataframe tbody tr th {\n",
       "        vertical-align: top;\n",
       "    }\n",
       "\n",
       "    .dataframe thead th {\n",
       "        text-align: right;\n",
       "    }\n",
       "</style>\n",
       "<table border=\"1\" class=\"dataframe\">\n",
       "  <thead>\n",
       "    <tr style=\"text-align: right;\">\n",
       "      <th></th>\n",
       "      <th>probe</th>\n",
       "      <th>211050_x_at</th>\n",
       "      <th>220399_at</th>\n",
       "      <th>202115_s_at</th>\n",
       "      <th>224501_at</th>\n",
       "      <th>227347_x_at</th>\n",
       "      <th>205483_s_at</th>\n",
       "      <th>212283_at</th>\n",
       "      <th>212285_s_at</th>\n",
       "      <th>217419_x_at</th>\n",
       "      <th>...</th>\n",
       "      <th>208331_at</th>\n",
       "      <th>211461_at</th>\n",
       "      <th>232402_at</th>\n",
       "      <th>207647_at</th>\n",
       "      <th>207646_s_at</th>\n",
       "      <th>207916_at</th>\n",
       "      <th>202829_s_at</th>\n",
       "      <th>214950_at</th>\n",
       "      <th>208164_s_at</th>\n",
       "      <th>p53DLDAclassResult</th>\n",
       "    </tr>\n",
       "  </thead>\n",
       "  <tbody>\n",
       "    <tr>\n",
       "      <th>0</th>\n",
       "      <td>X100B08</td>\n",
       "      <td>-0.60609845997949</td>\n",
       "      <td>0.297761884637424</td>\n",
       "      <td>-0.0207199586993729</td>\n",
       "      <td>0.0191163830257484</td>\n",
       "      <td>0.217003285274825</td>\n",
       "      <td>-0.959765619734105</td>\n",
       "      <td>0.31905965380238</td>\n",
       "      <td>0.26743053282687</td>\n",
       "      <td>0.0546245393746343</td>\n",
       "      <td>...</td>\n",
       "      <td>0.677886</td>\n",
       "      <td>0.294886</td>\n",
       "      <td>0.334739</td>\n",
       "      <td>-0.922423</td>\n",
       "      <td>0.525822</td>\n",
       "      <td>0.65593</td>\n",
       "      <td>-0.373383</td>\n",
       "      <td>0.533709</td>\n",
       "      <td>0.9551</td>\n",
       "      <td>WT-like</td>\n",
       "    </tr>\n",
       "    <tr>\n",
       "      <th>1</th>\n",
       "      <td>X101B88</td>\n",
       "      <td>-0.71211732736651</td>\n",
       "      <td>0.108554028539094</td>\n",
       "      <td>-0.329812842420013</td>\n",
       "      <td>-0.508559867759712</td>\n",
       "      <td>0.750268555716166</td>\n",
       "      <td>-0.739373617253365</td>\n",
       "      <td>-0.63507596067365</td>\n",
       "      <td>0.404148351178069</td>\n",
       "      <td>0.553476301226864</td>\n",
       "      <td>...</td>\n",
       "      <td>-0.37717</td>\n",
       "      <td>-0.146836</td>\n",
       "      <td>-0.027103</td>\n",
       "      <td>0.108189</td>\n",
       "      <td>-0.108456</td>\n",
       "      <td>0.800626</td>\n",
       "      <td>0.0473873</td>\n",
       "      <td>-0.630866</td>\n",
       "      <td>0.550008</td>\n",
       "      <td>MT-like</td>\n",
       "    </tr>\n",
       "    <tr>\n",
       "      <th>2</th>\n",
       "      <td>X102B06</td>\n",
       "      <td>-0.24902371657542</td>\n",
       "      <td>0.529915688630775</td>\n",
       "      <td>-0.455559869614984</td>\n",
       "      <td>0.0562016961050977</td>\n",
       "      <td>0.469504094265635</td>\n",
       "      <td>0.436695502974866</td>\n",
       "      <td>0.253222377924609</td>\n",
       "      <td>0.236893737236249</td>\n",
       "      <td>0.263843536673264</td>\n",
       "      <td>...</td>\n",
       "      <td>-0.264924</td>\n",
       "      <td>-0.403073</td>\n",
       "      <td>-0.273291</td>\n",
       "      <td>0.408303</td>\n",
       "      <td>0.256424</td>\n",
       "      <td>0.0524039</td>\n",
       "      <td>-0.0767656</td>\n",
       "      <td>0.170939</td>\n",
       "      <td>-0.016254</td>\n",
       "      <td>MT-like</td>\n",
       "    </tr>\n",
       "    <tr>\n",
       "      <th>3</th>\n",
       "      <td>X103B41</td>\n",
       "      <td>0.47339419538929</td>\n",
       "      <td>-0.0236977596184555</td>\n",
       "      <td>0.335866503578156</td>\n",
       "      <td>-0.0112785620922615</td>\n",
       "      <td>-0.182405554283685</td>\n",
       "      <td>0.913890761259296</td>\n",
       "      <td>0.134584773097739</td>\n",
       "      <td>0.46841163348552</td>\n",
       "      <td>0.508556696455114</td>\n",
       "      <td>...</td>\n",
       "      <td>-0.182134</td>\n",
       "      <td>-0.132613</td>\n",
       "      <td>0.314508</td>\n",
       "      <td>0.147834</td>\n",
       "      <td>-0.766659</td>\n",
       "      <td>-1.51796</td>\n",
       "      <td>0.487872</td>\n",
       "      <td>0.394624</td>\n",
       "      <td>0.440938</td>\n",
       "      <td>MT-like</td>\n",
       "    </tr>\n",
       "    <tr>\n",
       "      <th>4</th>\n",
       "      <td>X104B91</td>\n",
       "      <td>-0.54907184258026</td>\n",
       "      <td>-0.240674552924416</td>\n",
       "      <td>0.0914735642808466</td>\n",
       "      <td>0.189045651599998</td>\n",
       "      <td>-0.472259746631345</td>\n",
       "      <td>1.18484495173342</td>\n",
       "      <td>0.204097424289389</td>\n",
       "      <td>0.397235706101899</td>\n",
       "      <td>0.107319891585904</td>\n",
       "      <td>...</td>\n",
       "      <td>-0.0511183</td>\n",
       "      <td>-0.149773</td>\n",
       "      <td>-0.304061</td>\n",
       "      <td>-1.2299</td>\n",
       "      <td>-0.000545084</td>\n",
       "      <td>0.574513</td>\n",
       "      <td>0.597032</td>\n",
       "      <td>0.196972</td>\n",
       "      <td>0.120323</td>\n",
       "      <td>WT-like</td>\n",
       "    </tr>\n",
       "  </tbody>\n",
       "</table>\n",
       "<p>5 rows × 24713 columns</p>\n",
       "</div>"
      ],
      "text/plain": [
       "     probe        211050_x_at            220399_at          202115_s_at  \\\n",
       "0  X100B08  -0.60609845997949    0.297761884637424  -0.0207199586993729   \n",
       "1  X101B88  -0.71211732736651    0.108554028539094   -0.329812842420013   \n",
       "2  X102B06  -0.24902371657542    0.529915688630775   -0.455559869614984   \n",
       "3  X103B41   0.47339419538929  -0.0236977596184555    0.335866503578156   \n",
       "4  X104B91  -0.54907184258026   -0.240674552924416   0.0914735642808466   \n",
       "\n",
       "             224501_at         227347_x_at         205483_s_at  \\\n",
       "0   0.0191163830257484   0.217003285274825  -0.959765619734105   \n",
       "1   -0.508559867759712   0.750268555716166  -0.739373617253365   \n",
       "2   0.0562016961050977   0.469504094265635   0.436695502974866   \n",
       "3  -0.0112785620922615  -0.182405554283685   0.913890761259296   \n",
       "4    0.189045651599998  -0.472259746631345    1.18484495173342   \n",
       "\n",
       "           212283_at        212285_s_at         217419_x_at  ...  208331_at  \\\n",
       "0   0.31905965380238   0.26743053282687  0.0546245393746343  ...   0.677886   \n",
       "1  -0.63507596067365  0.404148351178069   0.553476301226864  ...   -0.37717   \n",
       "2  0.253222377924609  0.236893737236249   0.263843536673264  ...  -0.264924   \n",
       "3  0.134584773097739   0.46841163348552   0.508556696455114  ...  -0.182134   \n",
       "4  0.204097424289389  0.397235706101899   0.107319891585904  ... -0.0511183   \n",
       "\n",
       "  211461_at 232402_at 207647_at  207646_s_at  207916_at 202829_s_at 214950_at  \\\n",
       "0  0.294886  0.334739 -0.922423     0.525822    0.65593   -0.373383  0.533709   \n",
       "1 -0.146836 -0.027103  0.108189    -0.108456   0.800626   0.0473873 -0.630866   \n",
       "2 -0.403073 -0.273291  0.408303     0.256424  0.0524039  -0.0767656  0.170939   \n",
       "3 -0.132613  0.314508  0.147834    -0.766659   -1.51796    0.487872  0.394624   \n",
       "4 -0.149773 -0.304061   -1.2299 -0.000545084   0.574513    0.597032  0.196972   \n",
       "\n",
       "  208164_s_at p53DLDAclassResult  \n",
       "0      0.9551            WT-like  \n",
       "1    0.550008            MT-like  \n",
       "2   -0.016254            MT-like  \n",
       "3    0.440938            MT-like  \n",
       "4    0.120323            WT-like  \n",
       "\n",
       "[5 rows x 24713 columns]"
      ]
     },
     "execution_count": 38,
     "metadata": {},
     "output_type": "execute_result"
    }
   ],
   "source": [
    "df_final.head()"
   ]
  },
  {
   "cell_type": "markdown",
   "metadata": {
    "id": "Ttdoxq3onf4N"
   },
   "source": [
    "## Imbalance data in the Target Variable"
   ]
  },
  {
   "cell_type": "code",
   "execution_count": 39,
   "metadata": {
    "colab": {
     "base_uri": "https://localhost:8080/",
     "height": 389
    },
    "id": "H6bP7drDnf4N",
    "outputId": "68ac0a63-59a5-406d-a958-61cbdbbc076e"
   },
   "outputs": [
    {
     "name": "stdout",
     "output_type": "stream",
     "text": [
      "WT-like    179\n",
      "MT-like     72\n",
      "Name: p53DLDAclassResult, dtype: int64\n"
     ]
    },
    {
     "data": {
      "text/plain": [
       "<function matplotlib.pyplot.show(close=None, block=None)>"
      ]
     },
     "execution_count": 39,
     "metadata": {},
     "output_type": "execute_result"
    }
   ],
   "source": [
    "print(df_final['p53DLDAclassResult'].value_counts())\n",
    "plt.figure(figsize=(1.5,1.5), dpi=227)\n",
    "plt.pie(df_final['p53DLDAclassResult'].value_counts(), labels=['WT-like', 'MT-like'], textprops={'fontsize':6}, startangle=0, autopct='%1.1f%%')\n",
    "plt.show"
   ]
  },
  {
   "cell_type": "markdown",
   "metadata": {
    "id": "i2UJM3USnf4N"
   },
   "source": [
    "We could see that the Target Variable has \n",
    "\n",
    "WT-like : 179  &  MT-like : 72,\n",
    "\n",
    "Data looks imbalanced. Imbalanced dataset may make the model to perform poor."
   ]
  },
  {
   "cell_type": "code",
   "execution_count": 40,
   "metadata": {
    "id": "G5bKTNiynf4O"
   },
   "outputs": [],
   "source": [
    "from sklearn.linear_model import LinearRegression\n",
    "from sklearn.feature_selection import RFE\n",
    "from sklearn import preprocessing\n",
    "\n",
    "\n",
    "X = df_final.drop(columns = ['probe','p53DLDAclassResult'],axis=1)\n",
    "Y = df_final['p53DLDAclassResult']\n",
    "\n",
    "X=X.astype(float)\n",
    "le = preprocessing.LabelEncoder()\n",
    "Y = le.fit_transform(Y)\n"
   ]
  },
  {
   "cell_type": "markdown",
   "metadata": {
    "id": "H0OD1I2Nnf4O"
   },
   "source": [
    "Label Encoder is used to encode the categorical value into numerical value in the Target Variable"
   ]
  },
  {
   "cell_type": "code",
   "execution_count": 41,
   "metadata": {
    "colab": {
     "base_uri": "https://localhost:8080/"
    },
    "id": "T_TcsVzNnf4O",
    "outputId": "84144657-07de-495f-a26d-fae3b639c5b0"
   },
   "outputs": [
    {
     "name": "stdout",
     "output_type": "stream",
     "text": [
      "Original dataset shape Counter({1: 179, 0: 72})\n",
      "Resample dataset shape Counter({1: 179, 0: 179})\n"
     ]
    },
    {
     "data": {
      "text/plain": [
       "(358, 24711)"
      ]
     },
     "execution_count": 41,
     "metadata": {},
     "output_type": "execute_result"
    }
   ],
   "source": [
    "from imblearn.over_sampling import SMOTE\n",
    "from collections import Counter\n",
    "\n",
    "smote = SMOTE()\n",
    "\n",
    "# fit predictor and target variable\n",
    "x_smote, y_smote = smote.fit_resample(X,Y)\n",
    "\n",
    "print('Original dataset shape', Counter(Y))\n",
    "print('Resample dataset shape', Counter(y_smote))\n",
    "x_smote.shape"
   ]
  },
  {
   "cell_type": "markdown",
   "metadata": {
    "id": "-zOtH1fanf4O"
   },
   "source": [
    "Synthetic Minority Oversampling Technique (SMOTE) is used to balance the dataset.\n",
    "\n",
    "Here, Oversampling is done, since we have less number of samples."
   ]
  },
  {
   "cell_type": "code",
   "execution_count": 42,
   "metadata": {
    "colab": {
     "base_uri": "https://localhost:8080/"
    },
    "id": "9zZFqmM4nf4O",
    "outputId": "c65ad092-e2ad-4a92-b341-8041867768c6"
   },
   "outputs": [
    {
     "name": "stdout",
     "output_type": "stream",
     "text": [
      "(358, 24711) (358,)\n"
     ]
    }
   ],
   "source": [
    "print(x_smote.shape, y_smote.shape)"
   ]
  },
  {
   "cell_type": "markdown",
   "metadata": {
    "id": "OkBWrGqBnf4O"
   },
   "source": [
    "We could see that the X shape is 380 rows and 24711 columns.\n",
    "More columns can make the model to perform poor, so its better to reject the features, which is highly correlated. \n",
    "\n",
    "Here, we have choosen Forward Feature selection to select the best feature for the target variable - p53DLDAclassResult."
   ]
  },
  {
   "cell_type": "markdown",
   "metadata": {
    "id": "BpNnEVownf4P"
   },
   "source": [
    "### Feature Selection - Forward Feature Selection:"
   ]
  },
  {
   "cell_type": "code",
   "execution_count": 43,
   "metadata": {
    "id": "cichSuf_nf4P"
   },
   "outputs": [],
   "source": [
    "from sklearn.feature_selection import f_regression\n",
    "ffs = f_regression(x_smote,y_smote)\n",
    "\n",
    "variable = [ ]\n",
    "for i in range(0,len(x_smote.columns)-1):\n",
    "    if ffs[0][i] >=10:\n",
    "       variable.append(x_smote.columns[i])"
   ]
  },
  {
   "cell_type": "code",
   "execution_count": 44,
   "metadata": {
    "colab": {
     "base_uri": "https://localhost:8080/"
    },
    "id": "jZwKMyQgnf4P",
    "outputId": "6338b9df-d274-4dcb-b455-1a17ebcc41b3"
   },
   "outputs": [
    {
     "data": {
      "text/plain": [
       "(358, 10346)"
      ]
     },
     "execution_count": 44,
     "metadata": {},
     "output_type": "execute_result"
    }
   ],
   "source": [
    "df_best = x_smote[variable]\n",
    "\n",
    "df_best.shape"
   ]
  },
  {
   "cell_type": "markdown",
   "metadata": {
    "id": "O9w_ce7Qnf4P"
   },
   "source": [
    "We have choosen f-value as 10. Based on the value, 10846 features were selected out of 24711."
   ]
  },
  {
   "cell_type": "code",
   "execution_count": 45,
   "metadata": {
    "colab": {
     "base_uri": "https://localhost:8080/"
    },
    "id": "wiJ4nu9xnf4P",
    "outputId": "94bb8b26-64f2-4214-aff2-f8d984abe73a"
   },
   "outputs": [
    {
     "name": "stdout",
     "output_type": "stream",
     "text": [
      "<class 'pandas.core.frame.DataFrame'>\n",
      "RangeIndex: 358 entries, 0 to 357\n",
      "Columns: 10346 entries, 220399_at to 202829_s_at\n",
      "dtypes: float64(10346)\n",
      "memory usage: 28.3 MB\n"
     ]
    }
   ],
   "source": [
    "#converting all the datatypes of dataframe to float\n",
    "df_best = df_best.astype(float)\n",
    "df_best.info()"
   ]
  },
  {
   "cell_type": "markdown",
   "metadata": {
    "id": "AfGh8mV5nf4P"
   },
   "source": [
    "## Principle component analysis & Logistic Regression:"
   ]
  },
  {
   "cell_type": "markdown",
   "metadata": {
    "id": "GtNamvMOnf4Q"
   },
   "source": [
    "Principle Component Analysis is used to reduce the dimension of the obtained feature(10846).\n",
    "\n",
    "PCA reduce the total features less than or equal to the samples."
   ]
  },
  {
   "cell_type": "code",
   "execution_count": 46,
   "metadata": {
    "id": "lw1aIDwhnf4Q"
   },
   "outputs": [],
   "source": [
    "from re import A\n",
    "#Logistic Regression model is used here for the classification\n",
    "from sklearn.linear_model import LogisticRegression\n",
    "from sklearn.model_selection import train_test_split\n",
    "from sklearn.metrics import confusion_matrix,classification_report,accuracy_score\n",
    "from sklearn.decomposition import PCA\n",
    "\n",
    "lr_acc = []\n",
    "val = []\n",
    "acc =0\n",
    "for i in range(10,250,10):\n",
    "\n",
    "  pca = PCA(n_components = i)\n",
    "  x_pca = pca.fit_transform(df_best)\n",
    "  \n",
    "  X_train, X_test, y_train, y_test = train_test_split(x_pca, y_smote, train_size=0.7, random_state=11, shuffle=True) #Train Test Split\n",
    "\n",
    "  #Splitting the training data into training and validation data using K-Fold\n",
    "  acc_score = []\n",
    "  k = 3\n",
    "  kf = KFold(n_splits=k, shuffle=False, random_state=None)\n",
    "  for train_index , test_index in kf.split(X_train):\n",
    "    X_train1 , X_test1 = X_train[train_index,:],X_train[test_index,:]\n",
    "    y_train1 , y_test1 = y_train[train_index] , y_train[test_index]\n",
    "\n",
    "    logreg = LogisticRegression(max_iter=500)\n",
    "    logreg.fit(X_train1, y_train1)\n",
    "    pred1 = logreg.predict(X_test1)\n",
    "    accuracy=accuracy_score(y_test1,pred1)*100\n",
    "    acc_score.append(accuracy)\n",
    "     \n",
    "  avg_acc_score = sum(acc_score)/k\n",
    "  lr_acc.append(avg_acc_score)\n",
    "  val.append(i)\n",
    "  if (acc < avg_acc_score):\n",
    "    acc = avg_acc_score\n",
    "    best_feat = i\n",
    "    best_pca = x_pca"
   ]
  },
  {
   "cell_type": "markdown",
   "metadata": {
    "id": "71lF2Dnxnf4R"
   },
   "source": [
    "Here, K-Fold cross validation is used for the training and validating the data with the best number of features which we have choosen from the above.\n",
    "\n",
    "This helps the model to avoid overfitting"
   ]
  },
  {
   "cell_type": "markdown",
   "metadata": {
    "id": "9uqWYKIEnf4Q"
   },
   "source": [
    "## Visualising and selecting the best number of features"
   ]
  },
  {
   "cell_type": "code",
   "execution_count": 47,
   "metadata": {
    "colab": {
     "base_uri": "https://localhost:8080/",
     "height": 406
    },
    "id": "3lWQ1WzInf4Q",
    "outputId": "2f084dfb-bf1c-46e6-8d24-7e3a2d3ef475"
   },
   "outputs": [
    {
     "name": "stderr",
     "output_type": "stream",
     "text": [
      "C:\\Users\\kvman\\anaconda3\\lib\\site-packages\\seaborn\\_decorators.py:36: FutureWarning: Pass the following variables as keyword args: x, y. From version 0.12, the only valid positional argument will be `data`, and passing other arguments without an explicit keyword will result in an error or misinterpretation.\n",
      "  warnings.warn(\n"
     ]
    },
    {
     "name": "stdout",
     "output_type": "stream",
     "text": [
      "Maximum Accuracy is  98.40791738382099  Best number of features :  60\n"
     ]
    }
   ],
   "source": [
    "plt.figure(figsize=(18,5))\n",
    "#plt.bar(models,accuracies)\n",
    "plt.xlabel(\"Number of Features\")\n",
    "plt.ylabel(\"Accuracy in %\")\n",
    "sns.barplot(val,lr_acc)\n",
    "print(\"Maximum Accuracy is \",acc, \" Best number of features : \", best_feat)"
   ]
  },
  {
   "cell_type": "markdown",
   "metadata": {
    "id": "JS7bfkU6uUN9"
   },
   "source": [
    "### Predicting the Test Data"
   ]
  },
  {
   "cell_type": "code",
   "execution_count": 48,
   "metadata": {
    "colab": {
     "base_uri": "https://localhost:8080/"
    },
    "id": "fVr4QzeBt65h",
    "outputId": "77723b4f-5200-4a61-e880-a45ce63df887"
   },
   "outputs": [
    {
     "data": {
      "text/plain": [
       "96.29629629629629"
      ]
     },
     "execution_count": 48,
     "metadata": {},
     "output_type": "execute_result"
    }
   ],
   "source": [
    "accuracy_score(y_test,logreg.predict(X_test))*100"
   ]
  },
  {
   "cell_type": "markdown",
   "metadata": {
    "id": "POyUPb77u2At"
   },
   "source": [
    "Conclusion:\n",
    "\n",
    "Model Performs good in both Training and Testing data.\n",
    "\n",
    "Required Number of features to achieve good accuracy = **90**\n",
    "\n",
    "Training Accuracy =**98%**\n",
    "\n",
    "Testing Accuracy = **95%**"
   ]
  },
  {
   "cell_type": "markdown",
   "metadata": {
    "id": "TMi3OOGIxaIY"
   },
   "source": [
    "# 4. Target Variable - p53mutant:"
   ]
  },
  {
   "cell_type": "code",
   "execution_count": 49,
   "metadata": {
    "id": "p78yshTMxaIZ"
   },
   "outputs": [],
   "source": [
    "df = df_main.copy()\n",
    "df1 =df_output.copy()"
   ]
  },
  {
   "cell_type": "markdown",
   "metadata": {
    "id": "qiqZOiQ9xaIZ"
   },
   "source": [
    "### Combining both Input data and Output data(p53mutant)"
   ]
  },
  {
   "cell_type": "markdown",
   "metadata": {
    "id": "dY_f2QmIxaIZ"
   },
   "source": [
    "Merging all the input data from the dataframe \"df\" and \"p53mutant\" variable from the dataframe \"df1\"\n"
   ]
  },
  {
   "cell_type": "code",
   "execution_count": 50,
   "metadata": {
    "id": "jDbCslEixaIZ"
   },
   "outputs": [],
   "source": [
    "df_final = pd.merge(df,df1[['p53mutant']], left_on=['probe'],right_on=[df1['_PATIENT']],how='inner')"
   ]
  },
  {
   "cell_type": "code",
   "execution_count": 51,
   "metadata": {
    "colab": {
     "base_uri": "https://localhost:8080/",
     "height": 299
    },
    "id": "AjTZShI9xaIZ",
    "outputId": "9f12befc-9106-47d4-b6d1-e8610c505fba"
   },
   "outputs": [
    {
     "data": {
      "text/html": [
       "<div>\n",
       "<style scoped>\n",
       "    .dataframe tbody tr th:only-of-type {\n",
       "        vertical-align: middle;\n",
       "    }\n",
       "\n",
       "    .dataframe tbody tr th {\n",
       "        vertical-align: top;\n",
       "    }\n",
       "\n",
       "    .dataframe thead th {\n",
       "        text-align: right;\n",
       "    }\n",
       "</style>\n",
       "<table border=\"1\" class=\"dataframe\">\n",
       "  <thead>\n",
       "    <tr style=\"text-align: right;\">\n",
       "      <th></th>\n",
       "      <th>probe</th>\n",
       "      <th>211050_x_at</th>\n",
       "      <th>220399_at</th>\n",
       "      <th>202115_s_at</th>\n",
       "      <th>224501_at</th>\n",
       "      <th>227347_x_at</th>\n",
       "      <th>205483_s_at</th>\n",
       "      <th>212283_at</th>\n",
       "      <th>212285_s_at</th>\n",
       "      <th>217419_x_at</th>\n",
       "      <th>...</th>\n",
       "      <th>208331_at</th>\n",
       "      <th>211461_at</th>\n",
       "      <th>232402_at</th>\n",
       "      <th>207647_at</th>\n",
       "      <th>207646_s_at</th>\n",
       "      <th>207916_at</th>\n",
       "      <th>202829_s_at</th>\n",
       "      <th>214950_at</th>\n",
       "      <th>208164_s_at</th>\n",
       "      <th>p53mutant</th>\n",
       "    </tr>\n",
       "  </thead>\n",
       "  <tbody>\n",
       "    <tr>\n",
       "      <th>0</th>\n",
       "      <td>X100B08</td>\n",
       "      <td>-0.60609845997949</td>\n",
       "      <td>0.297761884637424</td>\n",
       "      <td>-0.0207199586993729</td>\n",
       "      <td>0.0191163830257484</td>\n",
       "      <td>0.217003285274825</td>\n",
       "      <td>-0.959765619734105</td>\n",
       "      <td>0.31905965380238</td>\n",
       "      <td>0.26743053282687</td>\n",
       "      <td>0.0546245393746343</td>\n",
       "      <td>...</td>\n",
       "      <td>0.677886</td>\n",
       "      <td>0.294886</td>\n",
       "      <td>0.334739</td>\n",
       "      <td>-0.922423</td>\n",
       "      <td>0.525822</td>\n",
       "      <td>0.65593</td>\n",
       "      <td>-0.373383</td>\n",
       "      <td>0.533709</td>\n",
       "      <td>0.9551</td>\n",
       "      <td>p53-</td>\n",
       "    </tr>\n",
       "    <tr>\n",
       "      <th>1</th>\n",
       "      <td>X101B88</td>\n",
       "      <td>-0.71211732736651</td>\n",
       "      <td>0.108554028539094</td>\n",
       "      <td>-0.329812842420013</td>\n",
       "      <td>-0.508559867759712</td>\n",
       "      <td>0.750268555716166</td>\n",
       "      <td>-0.739373617253365</td>\n",
       "      <td>-0.63507596067365</td>\n",
       "      <td>0.404148351178069</td>\n",
       "      <td>0.553476301226864</td>\n",
       "      <td>...</td>\n",
       "      <td>-0.37717</td>\n",
       "      <td>-0.146836</td>\n",
       "      <td>-0.027103</td>\n",
       "      <td>0.108189</td>\n",
       "      <td>-0.108456</td>\n",
       "      <td>0.800626</td>\n",
       "      <td>0.0473873</td>\n",
       "      <td>-0.630866</td>\n",
       "      <td>0.550008</td>\n",
       "      <td>p53+</td>\n",
       "    </tr>\n",
       "    <tr>\n",
       "      <th>2</th>\n",
       "      <td>X102B06</td>\n",
       "      <td>-0.24902371657542</td>\n",
       "      <td>0.529915688630775</td>\n",
       "      <td>-0.455559869614984</td>\n",
       "      <td>0.0562016961050977</td>\n",
       "      <td>0.469504094265635</td>\n",
       "      <td>0.436695502974866</td>\n",
       "      <td>0.253222377924609</td>\n",
       "      <td>0.236893737236249</td>\n",
       "      <td>0.263843536673264</td>\n",
       "      <td>...</td>\n",
       "      <td>-0.264924</td>\n",
       "      <td>-0.403073</td>\n",
       "      <td>-0.273291</td>\n",
       "      <td>0.408303</td>\n",
       "      <td>0.256424</td>\n",
       "      <td>0.0524039</td>\n",
       "      <td>-0.0767656</td>\n",
       "      <td>0.170939</td>\n",
       "      <td>-0.016254</td>\n",
       "      <td>p53+</td>\n",
       "    </tr>\n",
       "    <tr>\n",
       "      <th>3</th>\n",
       "      <td>X103B41</td>\n",
       "      <td>0.47339419538929</td>\n",
       "      <td>-0.0236977596184555</td>\n",
       "      <td>0.335866503578156</td>\n",
       "      <td>-0.0112785620922615</td>\n",
       "      <td>-0.182405554283685</td>\n",
       "      <td>0.913890761259296</td>\n",
       "      <td>0.134584773097739</td>\n",
       "      <td>0.46841163348552</td>\n",
       "      <td>0.508556696455114</td>\n",
       "      <td>...</td>\n",
       "      <td>-0.182134</td>\n",
       "      <td>-0.132613</td>\n",
       "      <td>0.314508</td>\n",
       "      <td>0.147834</td>\n",
       "      <td>-0.766659</td>\n",
       "      <td>-1.51796</td>\n",
       "      <td>0.487872</td>\n",
       "      <td>0.394624</td>\n",
       "      <td>0.440938</td>\n",
       "      <td>p53-</td>\n",
       "    </tr>\n",
       "    <tr>\n",
       "      <th>4</th>\n",
       "      <td>X104B91</td>\n",
       "      <td>-0.54907184258026</td>\n",
       "      <td>-0.240674552924416</td>\n",
       "      <td>0.0914735642808466</td>\n",
       "      <td>0.189045651599998</td>\n",
       "      <td>-0.472259746631345</td>\n",
       "      <td>1.18484495173342</td>\n",
       "      <td>0.204097424289389</td>\n",
       "      <td>0.397235706101899</td>\n",
       "      <td>0.107319891585904</td>\n",
       "      <td>...</td>\n",
       "      <td>-0.0511183</td>\n",
       "      <td>-0.149773</td>\n",
       "      <td>-0.304061</td>\n",
       "      <td>-1.2299</td>\n",
       "      <td>-0.000545084</td>\n",
       "      <td>0.574513</td>\n",
       "      <td>0.597032</td>\n",
       "      <td>0.196972</td>\n",
       "      <td>0.120323</td>\n",
       "      <td>p53+</td>\n",
       "    </tr>\n",
       "  </tbody>\n",
       "</table>\n",
       "<p>5 rows × 24713 columns</p>\n",
       "</div>"
      ],
      "text/plain": [
       "     probe        211050_x_at            220399_at          202115_s_at  \\\n",
       "0  X100B08  -0.60609845997949    0.297761884637424  -0.0207199586993729   \n",
       "1  X101B88  -0.71211732736651    0.108554028539094   -0.329812842420013   \n",
       "2  X102B06  -0.24902371657542    0.529915688630775   -0.455559869614984   \n",
       "3  X103B41   0.47339419538929  -0.0236977596184555    0.335866503578156   \n",
       "4  X104B91  -0.54907184258026   -0.240674552924416   0.0914735642808466   \n",
       "\n",
       "             224501_at         227347_x_at         205483_s_at  \\\n",
       "0   0.0191163830257484   0.217003285274825  -0.959765619734105   \n",
       "1   -0.508559867759712   0.750268555716166  -0.739373617253365   \n",
       "2   0.0562016961050977   0.469504094265635   0.436695502974866   \n",
       "3  -0.0112785620922615  -0.182405554283685   0.913890761259296   \n",
       "4    0.189045651599998  -0.472259746631345    1.18484495173342   \n",
       "\n",
       "           212283_at        212285_s_at         217419_x_at  ...  208331_at  \\\n",
       "0   0.31905965380238   0.26743053282687  0.0546245393746343  ...   0.677886   \n",
       "1  -0.63507596067365  0.404148351178069   0.553476301226864  ...   -0.37717   \n",
       "2  0.253222377924609  0.236893737236249   0.263843536673264  ...  -0.264924   \n",
       "3  0.134584773097739   0.46841163348552   0.508556696455114  ...  -0.182134   \n",
       "4  0.204097424289389  0.397235706101899   0.107319891585904  ... -0.0511183   \n",
       "\n",
       "  211461_at 232402_at 207647_at  207646_s_at  207916_at 202829_s_at 214950_at  \\\n",
       "0  0.294886  0.334739 -0.922423     0.525822    0.65593   -0.373383  0.533709   \n",
       "1 -0.146836 -0.027103  0.108189    -0.108456   0.800626   0.0473873 -0.630866   \n",
       "2 -0.403073 -0.273291  0.408303     0.256424  0.0524039  -0.0767656  0.170939   \n",
       "3 -0.132613  0.314508  0.147834    -0.766659   -1.51796    0.487872  0.394624   \n",
       "4 -0.149773 -0.304061   -1.2299 -0.000545084   0.574513    0.597032  0.196972   \n",
       "\n",
       "  208164_s_at p53mutant  \n",
       "0      0.9551      p53-  \n",
       "1    0.550008      p53+  \n",
       "2   -0.016254      p53+  \n",
       "3    0.440938      p53-  \n",
       "4    0.120323      p53+  \n",
       "\n",
       "[5 rows x 24713 columns]"
      ]
     },
     "execution_count": 51,
     "metadata": {},
     "output_type": "execute_result"
    }
   ],
   "source": [
    "df_final.head()"
   ]
  },
  {
   "cell_type": "markdown",
   "metadata": {
    "id": "qZHmsoXfxaIZ"
   },
   "source": [
    "## Imbalance data in the Target Variable"
   ]
  },
  {
   "cell_type": "code",
   "execution_count": 52,
   "metadata": {
    "colab": {
     "base_uri": "https://localhost:8080/",
     "height": 389
    },
    "id": "map-hp_jxaIZ",
    "outputId": "fc6bd5b3-89e1-4a68-c5ce-471a0b60feef"
   },
   "outputs": [
    {
     "name": "stdout",
     "output_type": "stream",
     "text": [
      "p53-    193\n",
      "p53+     58\n",
      "Name: p53mutant, dtype: int64\n"
     ]
    },
    {
     "data": {
      "text/plain": [
       "<function matplotlib.pyplot.show(close=None, block=None)>"
      ]
     },
     "execution_count": 52,
     "metadata": {},
     "output_type": "execute_result"
    }
   ],
   "source": [
    "print(df_final['p53mutant'].value_counts())\n",
    "plt.figure(figsize=(1.5,1.5), dpi=227)\n",
    "plt.pie(df_final['p53mutant'].value_counts(), labels=['P53-', 'P53+'], textprops={'fontsize':6}, startangle=0, autopct='%1.1f%%')\n",
    "plt.show"
   ]
  },
  {
   "cell_type": "markdown",
   "metadata": {
    "id": "-KfrlD6nxaIZ"
   },
   "source": [
    "We could see that the Target Variable has \n",
    "\n",
    "P53- : 193  &  P53+ : 58,\n",
    "\n",
    "Data looks imbalanced. Imbalanced dataset may make the model to perform poor."
   ]
  },
  {
   "cell_type": "code",
   "execution_count": 53,
   "metadata": {
    "id": "ZS8_KntqxaIa"
   },
   "outputs": [],
   "source": [
    "from sklearn.linear_model import LinearRegression\n",
    "from sklearn.feature_selection import RFE\n",
    "from sklearn import preprocessing\n",
    "\n",
    "\n",
    "X = df_final.drop(columns = ['probe','p53mutant'],axis=1)\n",
    "Y = df_final['p53mutant']\n",
    "\n",
    "X=X.astype(float)\n",
    "le = preprocessing.LabelEncoder()\n",
    "Y = le.fit_transform(Y)\n"
   ]
  },
  {
   "cell_type": "markdown",
   "metadata": {
    "id": "5qx8QuQOxaIa"
   },
   "source": [
    "Label Encoder is used to encode the categorical value into numerical value in the Target Variable"
   ]
  },
  {
   "cell_type": "code",
   "execution_count": 54,
   "metadata": {
    "colab": {
     "base_uri": "https://localhost:8080/"
    },
    "id": "aD6Z4Mu6xaIa",
    "outputId": "abb63ca3-c302-4ab2-800b-7559bb79c101"
   },
   "outputs": [
    {
     "name": "stdout",
     "output_type": "stream",
     "text": [
      "Original dataset shape Counter({1: 193, 0: 58})\n",
      "Resample dataset shape Counter({1: 193, 0: 193})\n"
     ]
    },
    {
     "data": {
      "text/plain": [
       "(386, 24711)"
      ]
     },
     "execution_count": 54,
     "metadata": {},
     "output_type": "execute_result"
    }
   ],
   "source": [
    "from imblearn.over_sampling import SMOTE\n",
    "from collections import Counter\n",
    "\n",
    "smote = SMOTE()\n",
    "\n",
    "# fit predictor and target variable\n",
    "x_smote, y_smote = smote.fit_resample(X,Y)\n",
    "\n",
    "print('Original dataset shape', Counter(Y))\n",
    "print('Resample dataset shape', Counter(y_smote))\n",
    "x_smote.shape"
   ]
  },
  {
   "cell_type": "markdown",
   "metadata": {
    "id": "_9cZj9-axaIa"
   },
   "source": [
    "Synthetic Minority Oversampling Technique (SMOTE) is used to balance the dataset.\n",
    "\n",
    "Here, Oversampling is done, since we have less number of samples."
   ]
  },
  {
   "cell_type": "code",
   "execution_count": 55,
   "metadata": {
    "colab": {
     "base_uri": "https://localhost:8080/"
    },
    "id": "BdANfp6MxaIa",
    "outputId": "03cc6270-807e-478f-ae4a-86c5197c6ec1"
   },
   "outputs": [
    {
     "name": "stdout",
     "output_type": "stream",
     "text": [
      "(386, 24711) (386,)\n"
     ]
    }
   ],
   "source": [
    "print(x_smote.shape, y_smote.shape)"
   ]
  },
  {
   "cell_type": "markdown",
   "metadata": {
    "id": "l_o-wup1xaIa"
   },
   "source": [
    "We could see that the X shape is 386 rows and 24711 columns.\n",
    "More columns can make the model to perform poor, so its better to reject the features, which is highly correlated. \n",
    "\n",
    "Here, we have choosen Forward Feature selection to select the best feature for the target variable - p53mutant."
   ]
  },
  {
   "cell_type": "markdown",
   "metadata": {
    "id": "6LFg8UI2xaIa"
   },
   "source": [
    "### Feature Selection - Forward Feature Selection:"
   ]
  },
  {
   "cell_type": "code",
   "execution_count": 56,
   "metadata": {
    "id": "GbnghAewxaIa"
   },
   "outputs": [],
   "source": [
    "from sklearn.feature_selection import f_regression\n",
    "ffs = f_regression(x_smote,y_smote)\n",
    "\n",
    "variable = [ ]\n",
    "for i in range(0,len(x_smote.columns)-1):\n",
    "    if ffs[0][i] >=10:\n",
    "       variable.append(x_smote.columns[i])"
   ]
  },
  {
   "cell_type": "code",
   "execution_count": 57,
   "metadata": {
    "colab": {
     "base_uri": "https://localhost:8080/"
    },
    "id": "0mtHwPp_xaIa",
    "outputId": "1231d06b-6c5a-472b-9268-5b8fc760ec50"
   },
   "outputs": [
    {
     "data": {
      "text/plain": [
       "(386, 8702)"
      ]
     },
     "execution_count": 57,
     "metadata": {},
     "output_type": "execute_result"
    }
   ],
   "source": [
    "df_best = x_smote[variable]\n",
    "\n",
    "df_best.shape"
   ]
  },
  {
   "cell_type": "markdown",
   "metadata": {
    "id": "w-hCc145xaIb"
   },
   "source": [
    "We have choosen f-value as 10. Based on the value, 9215 features were selected out of 24711."
   ]
  },
  {
   "cell_type": "code",
   "execution_count": 58,
   "metadata": {
    "colab": {
     "base_uri": "https://localhost:8080/"
    },
    "id": "CucURZx1xaIb",
    "outputId": "b4639b56-7ff1-45be-c81d-e03b0c8cbbf6"
   },
   "outputs": [
    {
     "name": "stdout",
     "output_type": "stream",
     "text": [
      "<class 'pandas.core.frame.DataFrame'>\n",
      "RangeIndex: 386 entries, 0 to 385\n",
      "Columns: 8702 entries, 220399_at to 202829_s_at\n",
      "dtypes: float64(8702)\n",
      "memory usage: 25.6 MB\n"
     ]
    }
   ],
   "source": [
    "#converting all the datatypes of dataframe to float\n",
    "df_best = df_best.astype(float)\n",
    "df_best.info()"
   ]
  },
  {
   "cell_type": "markdown",
   "metadata": {
    "id": "9IvUpKxVxaIb"
   },
   "source": [
    "## Principle component analysis & SVC:"
   ]
  },
  {
   "cell_type": "markdown",
   "metadata": {
    "id": "uIGel2CJxaIb"
   },
   "source": [
    "Principle Component Analysis is used to reduce the dimension of the obtained feature(9215).\n",
    "\n",
    "PCA reduce the total features less than or equal to the samples."
   ]
  },
  {
   "cell_type": "code",
   "execution_count": 59,
   "metadata": {
    "id": "MoO48trkxaIb"
   },
   "outputs": [],
   "source": [
    "from re import A\n",
    "#Support Vector Classification (SVC) model is used here for the classification\n",
    "from sklearn import svm\n",
    "from sklearn.model_selection import train_test_split\n",
    "from sklearn.metrics import confusion_matrix,classification_report,accuracy_score\n",
    "from sklearn.decomposition import PCA\n",
    "\n",
    "svr_acc = []\n",
    "val = []\n",
    "acc =0\n",
    "for i in range(10,250,10):\n",
    "\n",
    "  pca = PCA(n_components = i)\n",
    "  x_pca = pca.fit_transform(df_best)\n",
    "  \n",
    "  X_train, X_test, y_train, y_test = train_test_split(x_pca, y_smote, train_size=0.7, random_state=11, shuffle=True) #Train Test Split\n",
    "\n",
    "  #Splitting the training data into training and validation data using K-Fold\n",
    "  acc_score = []\n",
    "  k = 3\n",
    "  kf = KFold(n_splits=k, shuffle=False, random_state=None)\n",
    "  for train_index , test_index in kf.split(X_train):\n",
    "    X_train1 , X_test1 = X_train[train_index,:],X_train[test_index,:]\n",
    "    y_train1 , y_test1 = y_train[train_index] , y_train[test_index]\n",
    "\n",
    "    svc = svm.SVC(kernel='rbf', C =10)\n",
    "    svc.fit(X_train1,y_train1)\n",
    "    pred3 = svc.predict(X_test1)\n",
    "    accuracy = accuracy_score(y_test1,pred3)*100\n",
    "    acc_score.append(accuracy)\n",
    "     \n",
    "  avg_acc_score = sum(acc_score)/k\n",
    "  svr_acc.append(avg_acc_score)\n",
    "  val.append(i)\n",
    "  if (acc < avg_acc_score):\n",
    "    acc = avg_acc_score\n",
    "    best_feat = i\n",
    "    best_pca = x_pca"
   ]
  },
  {
   "cell_type": "markdown",
   "metadata": {
    "id": "H12vg7JfxaIb"
   },
   "source": [
    "Here, K-Fold cross validation is used for the training and validating the data with the best number of features which we have choosen from the above.\n",
    "\n",
    "This helps the model to avoid overfitting"
   ]
  },
  {
   "cell_type": "markdown",
   "metadata": {
    "id": "VGAAueVZxaIb"
   },
   "source": [
    "## Visualising and selecting the best number of features"
   ]
  },
  {
   "cell_type": "code",
   "execution_count": 60,
   "metadata": {
    "colab": {
     "base_uri": "https://localhost:8080/",
     "height": 406
    },
    "id": "LK_g6oYyxaIb",
    "outputId": "fb0c0170-e98a-4c5d-dfe8-ae071e963a55"
   },
   "outputs": [
    {
     "name": "stderr",
     "output_type": "stream",
     "text": [
      "C:\\Users\\kvman\\anaconda3\\lib\\site-packages\\seaborn\\_decorators.py:36: FutureWarning: Pass the following variables as keyword args: x, y. From version 0.12, the only valid positional argument will be `data`, and passing other arguments without an explicit keyword will result in an error or misinterpretation.\n",
      "  warnings.warn(\n"
     ]
    },
    {
     "name": "stdout",
     "output_type": "stream",
     "text": [
      "Maximum Accuracy is  94.44444444444444  Best number of features :  60\n"
     ]
    }
   ],
   "source": [
    "plt.figure(figsize=(18,5))\n",
    "#plt.bar(models,accuracies)\n",
    "plt.xlabel(\"Number of Features\")\n",
    "plt.ylabel(\"Accuracy in %\")\n",
    "sns.barplot(val,svr_acc)\n",
    "print(\"Maximum Accuracy is \",acc, \" Best number of features : \", best_feat)"
   ]
  },
  {
   "cell_type": "markdown",
   "metadata": {
    "id": "yolOI5voxaIc"
   },
   "source": [
    "### Predicting the Test Data"
   ]
  },
  {
   "cell_type": "code",
   "execution_count": 61,
   "metadata": {
    "colab": {
     "base_uri": "https://localhost:8080/"
    },
    "id": "oCbRONOgxaIc",
    "outputId": "12e79d8d-af35-429f-a733-475749653f32"
   },
   "outputs": [
    {
     "data": {
      "text/plain": [
       "88.79310344827587"
      ]
     },
     "execution_count": 61,
     "metadata": {},
     "output_type": "execute_result"
    }
   ],
   "source": [
    "accuracy_score(y_test,svc.predict(X_test))*100"
   ]
  },
  {
   "cell_type": "markdown",
   "metadata": {
    "id": "jRkPYOWCxaIc"
   },
   "source": [
    "Conclusion:\n",
    "\n",
    "Model Performs good in both Training and Testing data.\n",
    "\n",
    "Required Number of features to achieve good accuracy = **70**\n",
    "\n",
    "Training Accuracy =**93%**\n",
    "\n",
    "Testing Accuracy = **91%**"
   ]
  },
  {
   "cell_type": "markdown",
   "metadata": {
    "id": "HKCuc2zV5Caw"
   },
   "source": [
    "# 5. Target Variable - LymphNodeStatus:"
   ]
  },
  {
   "cell_type": "code",
   "execution_count": 62,
   "metadata": {
    "id": "Uu0zROqA5Cax"
   },
   "outputs": [],
   "source": [
    "df = df_main.copy()\n",
    "df1 =df_output.copy()"
   ]
  },
  {
   "cell_type": "markdown",
   "metadata": {
    "id": "CT61lnl15Cax"
   },
   "source": [
    "### Combining both Input data and Output data(LymphNodeStatus)"
   ]
  },
  {
   "cell_type": "markdown",
   "metadata": {
    "id": "QWAHaa1n5Cax"
   },
   "source": [
    "Merging all the input data from the dataframe \"df\" and \"LymphNodeStatus\" variable from the dataframe \"df1\"\n"
   ]
  },
  {
   "cell_type": "code",
   "execution_count": 63,
   "metadata": {
    "id": "qe9LuEKJ5Cax"
   },
   "outputs": [],
   "source": [
    "df_final = pd.merge(df,df1[['LymphNodeStatus']], left_on=['probe'],right_on=[df1['_PATIENT']],how='inner')"
   ]
  },
  {
   "cell_type": "code",
   "execution_count": 64,
   "metadata": {
    "colab": {
     "base_uri": "https://localhost:8080/",
     "height": 299
    },
    "id": "m6jO4Xpr5Cax",
    "outputId": "115d69bb-cd81-449e-d0c8-da3eaa8f447a"
   },
   "outputs": [
    {
     "data": {
      "text/html": [
       "<div>\n",
       "<style scoped>\n",
       "    .dataframe tbody tr th:only-of-type {\n",
       "        vertical-align: middle;\n",
       "    }\n",
       "\n",
       "    .dataframe tbody tr th {\n",
       "        vertical-align: top;\n",
       "    }\n",
       "\n",
       "    .dataframe thead th {\n",
       "        text-align: right;\n",
       "    }\n",
       "</style>\n",
       "<table border=\"1\" class=\"dataframe\">\n",
       "  <thead>\n",
       "    <tr style=\"text-align: right;\">\n",
       "      <th></th>\n",
       "      <th>probe</th>\n",
       "      <th>211050_x_at</th>\n",
       "      <th>220399_at</th>\n",
       "      <th>202115_s_at</th>\n",
       "      <th>224501_at</th>\n",
       "      <th>227347_x_at</th>\n",
       "      <th>205483_s_at</th>\n",
       "      <th>212283_at</th>\n",
       "      <th>212285_s_at</th>\n",
       "      <th>217419_x_at</th>\n",
       "      <th>...</th>\n",
       "      <th>208331_at</th>\n",
       "      <th>211461_at</th>\n",
       "      <th>232402_at</th>\n",
       "      <th>207647_at</th>\n",
       "      <th>207646_s_at</th>\n",
       "      <th>207916_at</th>\n",
       "      <th>202829_s_at</th>\n",
       "      <th>214950_at</th>\n",
       "      <th>208164_s_at</th>\n",
       "      <th>LymphNodeStatus</th>\n",
       "    </tr>\n",
       "  </thead>\n",
       "  <tbody>\n",
       "    <tr>\n",
       "      <th>0</th>\n",
       "      <td>X100B08</td>\n",
       "      <td>-0.60609845997949</td>\n",
       "      <td>0.297761884637424</td>\n",
       "      <td>-0.0207199586993729</td>\n",
       "      <td>0.0191163830257484</td>\n",
       "      <td>0.217003285274825</td>\n",
       "      <td>-0.959765619734105</td>\n",
       "      <td>0.31905965380238</td>\n",
       "      <td>0.26743053282687</td>\n",
       "      <td>0.0546245393746343</td>\n",
       "      <td>...</td>\n",
       "      <td>0.677886</td>\n",
       "      <td>0.294886</td>\n",
       "      <td>0.334739</td>\n",
       "      <td>-0.922423</td>\n",
       "      <td>0.525822</td>\n",
       "      <td>0.65593</td>\n",
       "      <td>-0.373383</td>\n",
       "      <td>0.533709</td>\n",
       "      <td>0.9551</td>\n",
       "      <td>LN-</td>\n",
       "    </tr>\n",
       "    <tr>\n",
       "      <th>1</th>\n",
       "      <td>X101B88</td>\n",
       "      <td>-0.71211732736651</td>\n",
       "      <td>0.108554028539094</td>\n",
       "      <td>-0.329812842420013</td>\n",
       "      <td>-0.508559867759712</td>\n",
       "      <td>0.750268555716166</td>\n",
       "      <td>-0.739373617253365</td>\n",
       "      <td>-0.63507596067365</td>\n",
       "      <td>0.404148351178069</td>\n",
       "      <td>0.553476301226864</td>\n",
       "      <td>...</td>\n",
       "      <td>-0.37717</td>\n",
       "      <td>-0.146836</td>\n",
       "      <td>-0.027103</td>\n",
       "      <td>0.108189</td>\n",
       "      <td>-0.108456</td>\n",
       "      <td>0.800626</td>\n",
       "      <td>0.0473873</td>\n",
       "      <td>-0.630866</td>\n",
       "      <td>0.550008</td>\n",
       "      <td>LN-</td>\n",
       "    </tr>\n",
       "    <tr>\n",
       "      <th>2</th>\n",
       "      <td>X102B06</td>\n",
       "      <td>-0.24902371657542</td>\n",
       "      <td>0.529915688630775</td>\n",
       "      <td>-0.455559869614984</td>\n",
       "      <td>0.0562016961050977</td>\n",
       "      <td>0.469504094265635</td>\n",
       "      <td>0.436695502974866</td>\n",
       "      <td>0.253222377924609</td>\n",
       "      <td>0.236893737236249</td>\n",
       "      <td>0.263843536673264</td>\n",
       "      <td>...</td>\n",
       "      <td>-0.264924</td>\n",
       "      <td>-0.403073</td>\n",
       "      <td>-0.273291</td>\n",
       "      <td>0.408303</td>\n",
       "      <td>0.256424</td>\n",
       "      <td>0.0524039</td>\n",
       "      <td>-0.0767656</td>\n",
       "      <td>0.170939</td>\n",
       "      <td>-0.016254</td>\n",
       "      <td>LN-</td>\n",
       "    </tr>\n",
       "    <tr>\n",
       "      <th>3</th>\n",
       "      <td>X103B41</td>\n",
       "      <td>0.47339419538929</td>\n",
       "      <td>-0.0236977596184555</td>\n",
       "      <td>0.335866503578156</td>\n",
       "      <td>-0.0112785620922615</td>\n",
       "      <td>-0.182405554283685</td>\n",
       "      <td>0.913890761259296</td>\n",
       "      <td>0.134584773097739</td>\n",
       "      <td>0.46841163348552</td>\n",
       "      <td>0.508556696455114</td>\n",
       "      <td>...</td>\n",
       "      <td>-0.182134</td>\n",
       "      <td>-0.132613</td>\n",
       "      <td>0.314508</td>\n",
       "      <td>0.147834</td>\n",
       "      <td>-0.766659</td>\n",
       "      <td>-1.51796</td>\n",
       "      <td>0.487872</td>\n",
       "      <td>0.394624</td>\n",
       "      <td>0.440938</td>\n",
       "      <td>LN+</td>\n",
       "    </tr>\n",
       "    <tr>\n",
       "      <th>4</th>\n",
       "      <td>X104B91</td>\n",
       "      <td>-0.54907184258026</td>\n",
       "      <td>-0.240674552924416</td>\n",
       "      <td>0.0914735642808466</td>\n",
       "      <td>0.189045651599998</td>\n",
       "      <td>-0.472259746631345</td>\n",
       "      <td>1.18484495173342</td>\n",
       "      <td>0.204097424289389</td>\n",
       "      <td>0.397235706101899</td>\n",
       "      <td>0.107319891585904</td>\n",
       "      <td>...</td>\n",
       "      <td>-0.0511183</td>\n",
       "      <td>-0.149773</td>\n",
       "      <td>-0.304061</td>\n",
       "      <td>-1.2299</td>\n",
       "      <td>-0.000545084</td>\n",
       "      <td>0.574513</td>\n",
       "      <td>0.597032</td>\n",
       "      <td>0.196972</td>\n",
       "      <td>0.120323</td>\n",
       "      <td>NaN</td>\n",
       "    </tr>\n",
       "  </tbody>\n",
       "</table>\n",
       "<p>5 rows × 24713 columns</p>\n",
       "</div>"
      ],
      "text/plain": [
       "     probe        211050_x_at            220399_at          202115_s_at  \\\n",
       "0  X100B08  -0.60609845997949    0.297761884637424  -0.0207199586993729   \n",
       "1  X101B88  -0.71211732736651    0.108554028539094   -0.329812842420013   \n",
       "2  X102B06  -0.24902371657542    0.529915688630775   -0.455559869614984   \n",
       "3  X103B41   0.47339419538929  -0.0236977596184555    0.335866503578156   \n",
       "4  X104B91  -0.54907184258026   -0.240674552924416   0.0914735642808466   \n",
       "\n",
       "             224501_at         227347_x_at         205483_s_at  \\\n",
       "0   0.0191163830257484   0.217003285274825  -0.959765619734105   \n",
       "1   -0.508559867759712   0.750268555716166  -0.739373617253365   \n",
       "2   0.0562016961050977   0.469504094265635   0.436695502974866   \n",
       "3  -0.0112785620922615  -0.182405554283685   0.913890761259296   \n",
       "4    0.189045651599998  -0.472259746631345    1.18484495173342   \n",
       "\n",
       "           212283_at        212285_s_at         217419_x_at  ...  208331_at  \\\n",
       "0   0.31905965380238   0.26743053282687  0.0546245393746343  ...   0.677886   \n",
       "1  -0.63507596067365  0.404148351178069   0.553476301226864  ...   -0.37717   \n",
       "2  0.253222377924609  0.236893737236249   0.263843536673264  ...  -0.264924   \n",
       "3  0.134584773097739   0.46841163348552   0.508556696455114  ...  -0.182134   \n",
       "4  0.204097424289389  0.397235706101899   0.107319891585904  ... -0.0511183   \n",
       "\n",
       "  211461_at 232402_at 207647_at  207646_s_at  207916_at 202829_s_at 214950_at  \\\n",
       "0  0.294886  0.334739 -0.922423     0.525822    0.65593   -0.373383  0.533709   \n",
       "1 -0.146836 -0.027103  0.108189    -0.108456   0.800626   0.0473873 -0.630866   \n",
       "2 -0.403073 -0.273291  0.408303     0.256424  0.0524039  -0.0767656  0.170939   \n",
       "3 -0.132613  0.314508  0.147834    -0.766659   -1.51796    0.487872  0.394624   \n",
       "4 -0.149773 -0.304061   -1.2299 -0.000545084   0.574513    0.597032  0.196972   \n",
       "\n",
       "  208164_s_at LymphNodeStatus  \n",
       "0      0.9551             LN-  \n",
       "1    0.550008             LN-  \n",
       "2   -0.016254             LN-  \n",
       "3    0.440938             LN+  \n",
       "4    0.120323             NaN  \n",
       "\n",
       "[5 rows x 24713 columns]"
      ]
     },
     "execution_count": 64,
     "metadata": {},
     "output_type": "execute_result"
    }
   ],
   "source": [
    "df_final.head()"
   ]
  },
  {
   "cell_type": "markdown",
   "metadata": {
    "id": "AN_i-5k35k__"
   },
   "source": [
    "## Missing Values"
   ]
  },
  {
   "cell_type": "markdown",
   "metadata": {
    "id": "59jbcGQB6jP7"
   },
   "source": [
    "Removing the missing values"
   ]
  },
  {
   "cell_type": "code",
   "execution_count": 65,
   "metadata": {
    "colab": {
     "base_uri": "https://localhost:8080/"
    },
    "id": "aC7TAsGZ56Pa",
    "outputId": "22615870-34e9-466c-94e1-bdeab32e008d"
   },
   "outputs": [
    {
     "data": {
      "text/plain": [
       "probe              0\n",
       "211050_x_at        0\n",
       "220399_at          0\n",
       "202115_s_at        0\n",
       "224501_at          0\n",
       "                  ..\n",
       "207916_at          0\n",
       "202829_s_at        0\n",
       "214950_at          0\n",
       "208164_s_at        0\n",
       "LymphNodeStatus    9\n",
       "Length: 24713, dtype: int64"
      ]
     },
     "execution_count": 65,
     "metadata": {},
     "output_type": "execute_result"
    }
   ],
   "source": [
    "df_final.isna().sum()"
   ]
  },
  {
   "cell_type": "code",
   "execution_count": 66,
   "metadata": {
    "id": "s9pGlXjp5kmJ"
   },
   "outputs": [],
   "source": [
    "df_final = df_final.dropna()"
   ]
  },
  {
   "cell_type": "code",
   "execution_count": 67,
   "metadata": {
    "colab": {
     "base_uri": "https://localhost:8080/"
    },
    "id": "EZjHhHhh6XFJ",
    "outputId": "e5980951-767a-49f0-a4eb-6f1821f8af0b"
   },
   "outputs": [
    {
     "data": {
      "text/plain": [
       "probe              0\n",
       "211050_x_at        0\n",
       "220399_at          0\n",
       "202115_s_at        0\n",
       "224501_at          0\n",
       "                  ..\n",
       "207916_at          0\n",
       "202829_s_at        0\n",
       "214950_at          0\n",
       "208164_s_at        0\n",
       "LymphNodeStatus    0\n",
       "Length: 24713, dtype: int64"
      ]
     },
     "execution_count": 67,
     "metadata": {},
     "output_type": "execute_result"
    }
   ],
   "source": [
    "df_final.isna().sum()"
   ]
  },
  {
   "cell_type": "markdown",
   "metadata": {
    "id": "dX9ehcf25Cax"
   },
   "source": [
    "## Imbalance data in the Target Variable"
   ]
  },
  {
   "cell_type": "code",
   "execution_count": 68,
   "metadata": {
    "colab": {
     "base_uri": "https://localhost:8080/",
     "height": 389
    },
    "id": "2BxbmSJL5Cay",
    "outputId": "f38ecc69-648a-44dc-ab77-65a6715f78ab"
   },
   "outputs": [
    {
     "name": "stdout",
     "output_type": "stream",
     "text": [
      "LN-    158\n",
      "LN+     84\n",
      "Name: LymphNodeStatus, dtype: int64\n"
     ]
    },
    {
     "data": {
      "text/plain": [
       "<function matplotlib.pyplot.show(close=None, block=None)>"
      ]
     },
     "execution_count": 68,
     "metadata": {},
     "output_type": "execute_result"
    }
   ],
   "source": [
    "print(df_final['LymphNodeStatus'].value_counts())\n",
    "plt.figure(figsize=(1.5,1.5), dpi=227)\n",
    "plt.pie(df_final['LymphNodeStatus'].value_counts(), labels=['LN-', 'LN+'], textprops={'fontsize':6}, startangle=0, autopct='%1.1f%%')\n",
    "plt.show"
   ]
  },
  {
   "cell_type": "markdown",
   "metadata": {
    "id": "WDvhOHCU5Cay"
   },
   "source": [
    "We could see that the Target Variable has \n",
    "\n",
    "LN- : 158  &  LN3+ : 84,\n",
    "\n",
    "Data looks imbalanced. Imbalanced dataset may make the model to perform poor."
   ]
  },
  {
   "cell_type": "code",
   "execution_count": 69,
   "metadata": {
    "id": "zPbEGEbj5Cay"
   },
   "outputs": [],
   "source": [
    "from sklearn.linear_model import LinearRegression\n",
    "from sklearn.feature_selection import RFE\n",
    "from sklearn import preprocessing\n",
    "\n",
    "\n",
    "X = df_final.drop(columns = ['probe','LymphNodeStatus'],axis=1)\n",
    "Y = df_final['LymphNodeStatus']\n",
    "\n",
    "X=X.astype(float)\n",
    "le = preprocessing.LabelEncoder()\n",
    "Y = le.fit_transform(Y)\n"
   ]
  },
  {
   "cell_type": "markdown",
   "metadata": {
    "id": "dkgnVehB5Cay"
   },
   "source": [
    "Label Encoder is used to encode the categorical value into numerical value in the Target Variable"
   ]
  },
  {
   "cell_type": "code",
   "execution_count": 70,
   "metadata": {
    "colab": {
     "base_uri": "https://localhost:8080/"
    },
    "id": "EarJ80iE5Cay",
    "outputId": "fcff0e31-7082-4deb-a477-8640b980b0ec"
   },
   "outputs": [
    {
     "name": "stdout",
     "output_type": "stream",
     "text": [
      "Original dataset shape Counter({1: 158, 0: 84})\n",
      "Resample dataset shape Counter({1: 158, 0: 158})\n"
     ]
    },
    {
     "data": {
      "text/plain": [
       "(316, 24711)"
      ]
     },
     "execution_count": 70,
     "metadata": {},
     "output_type": "execute_result"
    }
   ],
   "source": [
    "from imblearn.over_sampling import SMOTE\n",
    "from collections import Counter\n",
    "\n",
    "smote = SMOTE()\n",
    "\n",
    "# fit predictor and target variable\n",
    "x_smote, y_smote = smote.fit_resample(X,Y)\n",
    "\n",
    "print('Original dataset shape', Counter(Y))\n",
    "print('Resample dataset shape', Counter(y_smote))\n",
    "x_smote.shape"
   ]
  },
  {
   "cell_type": "markdown",
   "metadata": {
    "id": "rdjjqxQq5Cay"
   },
   "source": [
    "Synthetic Minority Oversampling Technique (SMOTE) is used to balance the dataset.\n",
    "\n",
    "Here, Oversampling is done, since we have less number of samples."
   ]
  },
  {
   "cell_type": "code",
   "execution_count": 71,
   "metadata": {
    "colab": {
     "base_uri": "https://localhost:8080/"
    },
    "id": "YiD33ZIf5Cay",
    "outputId": "f3409f99-6727-4b01-dbe1-93c24192ca57"
   },
   "outputs": [
    {
     "name": "stdout",
     "output_type": "stream",
     "text": [
      "(316, 24711) (316,)\n"
     ]
    }
   ],
   "source": [
    "print(x_smote.shape, y_smote.shape)"
   ]
  },
  {
   "cell_type": "markdown",
   "metadata": {
    "id": "MI7T4bJl5Cay"
   },
   "source": [
    "We could see that the X shape is 316 rows and 24711 columns.\n",
    "More columns can make the model to perform poor, so its better to reject the features, which is highly correlated. \n",
    "\n",
    "Here, we have choosen Forward Feature selection to select the best feature for the target variable - LymphNodeStatus."
   ]
  },
  {
   "cell_type": "markdown",
   "metadata": {
    "id": "VK9oTVLa5Cay"
   },
   "source": [
    "### Feature Selection - Forward Feature Selection:"
   ]
  },
  {
   "cell_type": "code",
   "execution_count": 72,
   "metadata": {
    "id": "G8rhdU515Caz"
   },
   "outputs": [],
   "source": [
    "from sklearn.feature_selection import f_regression\n",
    "ffs = f_regression(x_smote,y_smote)\n",
    "\n",
    "variable = [ ]\n",
    "for i in range(0,len(x_smote.columns)-1):\n",
    "    if ffs[0][i] >=10:\n",
    "       variable.append(x_smote.columns[i])"
   ]
  },
  {
   "cell_type": "code",
   "execution_count": 73,
   "metadata": {
    "colab": {
     "base_uri": "https://localhost:8080/"
    },
    "id": "i-GNuhq65Caz",
    "outputId": "304f0a12-5b37-4fb1-a83d-1336d9160843"
   },
   "outputs": [
    {
     "data": {
      "text/plain": [
       "(316, 1560)"
      ]
     },
     "execution_count": 73,
     "metadata": {},
     "output_type": "execute_result"
    }
   ],
   "source": [
    "df_best = x_smote[variable]\n",
    "\n",
    "df_best.shape"
   ]
  },
  {
   "cell_type": "markdown",
   "metadata": {
    "id": "_NvjiVMD5Caz"
   },
   "source": [
    "We have choosen f-value as 10. Based on the value, 1882 features were selected out of 24711."
   ]
  },
  {
   "cell_type": "code",
   "execution_count": 74,
   "metadata": {
    "colab": {
     "base_uri": "https://localhost:8080/"
    },
    "id": "3kccXfo_5Caz",
    "outputId": "37992f91-56fe-42e3-ae09-7931fdb192fd"
   },
   "outputs": [
    {
     "name": "stdout",
     "output_type": "stream",
     "text": [
      "<class 'pandas.core.frame.DataFrame'>\n",
      "RangeIndex: 316 entries, 0 to 315\n",
      "Columns: 1560 entries, 205483_s_at to 202829_s_at\n",
      "dtypes: float64(1560)\n",
      "memory usage: 3.8 MB\n"
     ]
    }
   ],
   "source": [
    "#converting all the datatypes of dataframe to float\n",
    "df_best = df_best.astype(float)\n",
    "df_best.info()"
   ]
  },
  {
   "cell_type": "markdown",
   "metadata": {
    "id": "fgUXt-by5Caz"
   },
   "source": [
    "## Principle component analysis & Naive Bayes:"
   ]
  },
  {
   "cell_type": "markdown",
   "metadata": {
    "id": "q8_a4nxl5Caz"
   },
   "source": [
    "Principle Component Analysis is used to reduce the dimension of the obtained feature(9215).\n",
    "\n",
    "PCA reduce the total features less than or equal to the samples."
   ]
  },
  {
   "cell_type": "code",
   "execution_count": 75,
   "metadata": {
    "id": "xt-Eo_EZ5Caz"
   },
   "outputs": [],
   "source": [
    "#Naive Bayes model is used here for the classification\n",
    "from sklearn.model_selection import train_test_split\n",
    "from sklearn.metrics import confusion_matrix,classification_report,accuracy_score\n",
    "from sklearn.decomposition import PCA\n",
    "from sklearn.naive_bayes import GaussianNB\n",
    "\n",
    "nb_acc = []\n",
    "val = []\n",
    "acc =0\n",
    "for i in range(10,250,10):\n",
    "\n",
    "  pca = PCA(n_components = i)\n",
    "  x_pca = pca.fit_transform(df_best)\n",
    "  \n",
    "  X_train, X_test, y_train, y_test = train_test_split(x_pca, y_smote, train_size=0.7, random_state=11, shuffle=True) #Train Test Split\n",
    "\n",
    "  #Splitting the training data into training and validation data using K-Fold\n",
    "  acc_score = []\n",
    "  k = 3\n",
    "  kf = KFold(n_splits=k, shuffle=False, random_state=None)\n",
    "  for train_index , test_index in kf.split(X_train):\n",
    "    X_train1 , X_test1 = X_train[train_index,:],X_train[test_index,:]\n",
    "    y_train1 , y_test1 = y_train[train_index] , y_train[test_index]\n",
    "\n",
    "    GNB = GaussianNB()\n",
    "    GNB.fit(X_train1, y_train1)\n",
    "    pred4 = GNB.predict(X_test1)\n",
    "    accuracy = accuracy_score(y_test1,pred4)*100\n",
    "    acc_score.append(accuracy)\n",
    "     \n",
    "  avg_acc_score = sum(acc_score)/k\n",
    "  nb_acc.append(avg_acc_score)\n",
    "  val.append(i)\n",
    "  if (acc < avg_acc_score):\n",
    "    acc = avg_acc_score\n",
    "    best_feat = i\n",
    "    best_pca = x_pca"
   ]
  },
  {
   "cell_type": "markdown",
   "metadata": {
    "id": "TADi9CR-5Caz"
   },
   "source": [
    "Here, K-Fold cross validation is used for the training and validating the data with the best number of features which we have choosen from the above.\n",
    "\n",
    "This helps the model to avoid overfitting"
   ]
  },
  {
   "cell_type": "markdown",
   "metadata": {
    "id": "zirZk1QH5Caz"
   },
   "source": [
    "## Visualising and selecting the best number of features"
   ]
  },
  {
   "cell_type": "code",
   "execution_count": 76,
   "metadata": {
    "colab": {
     "base_uri": "https://localhost:8080/",
     "height": 406
    },
    "id": "VTBlnoyc5Ca0",
    "outputId": "91818d27-ee83-4a11-cb3d-e334e58fd0a5"
   },
   "outputs": [
    {
     "name": "stdout",
     "output_type": "stream",
     "text": [
      "Maximum Accuracy is  87.78847340491177  Best number of features :  220\n"
     ]
    },
    {
     "name": "stderr",
     "output_type": "stream",
     "text": [
      "C:\\Users\\kvman\\anaconda3\\lib\\site-packages\\seaborn\\_decorators.py:36: FutureWarning: Pass the following variables as keyword args: x, y. From version 0.12, the only valid positional argument will be `data`, and passing other arguments without an explicit keyword will result in an error or misinterpretation.\n",
      "  warnings.warn(\n"
     ]
    }
   ],
   "source": [
    "plt.figure(figsize=(18,5))\n",
    "#plt.bar(models,accuracies)\n",
    "plt.xlabel(\"Number of Features\")\n",
    "plt.ylabel(\"Accuracy in %\")\n",
    "sns.barplot(val,svr_acc)\n",
    "print(\"Maximum Accuracy is \",acc, \" Best number of features : \", best_feat)"
   ]
  },
  {
   "cell_type": "markdown",
   "metadata": {
    "id": "KYnmxpl45Ca0"
   },
   "source": [
    "### Predicting the Test Data"
   ]
  },
  {
   "cell_type": "code",
   "execution_count": 77,
   "metadata": {
    "colab": {
     "base_uri": "https://localhost:8080/"
    },
    "id": "fZrV9VwU5Ca0",
    "outputId": "12219374-7a55-4340-d2f7-db378d05438a"
   },
   "outputs": [
    {
     "data": {
      "text/plain": [
       "86.31578947368422"
      ]
     },
     "execution_count": 77,
     "metadata": {},
     "output_type": "execute_result"
    }
   ],
   "source": [
    "accuracy_score(y_test,GNB.predict(X_test))*100"
   ]
  },
  {
   "cell_type": "markdown",
   "metadata": {
    "id": "bBuYQpUG5Ca0"
   },
   "source": [
    "Conclusion:\n",
    "\n",
    "Model Performs good in both Training and Testing data.\n",
    "\n",
    "Required Number of features to achieve good accuracy = **210**\n",
    "\n",
    "Training Accuracy =**87%**\n",
    "\n",
    "Testing Accuracy = **88%**"
   ]
  },
  {
   "cell_type": "code",
   "execution_count": null,
   "metadata": {
    "id": "zrPU0xHQDih6"
   },
   "outputs": [],
   "source": []
  },
  {
   "cell_type": "markdown",
   "metadata": {
    "id": "iDueuzZRDuLM"
   },
   "source": [
    "# 6. Target Variable - EistonHistologicGrade:"
   ]
  },
  {
   "cell_type": "code",
   "execution_count": 78,
   "metadata": {
    "id": "eSRoVRKjDuLN"
   },
   "outputs": [],
   "source": [
    "df = df_main.copy()\n",
    "df1 =df_output.copy()"
   ]
  },
  {
   "cell_type": "markdown",
   "metadata": {
    "id": "8S0nWRgiDuLN"
   },
   "source": [
    "### Combining both Input data and Output data(EistonHistologicGrade)"
   ]
  },
  {
   "cell_type": "markdown",
   "metadata": {
    "id": "0qGWJspDDuLN"
   },
   "source": [
    "Merging all the input data from the dataframe \"df\" and \"EistonHistologicGrade\" variable from the dataframe \"df1\"\n"
   ]
  },
  {
   "cell_type": "code",
   "execution_count": 79,
   "metadata": {
    "id": "ppCr4i3kDuLN"
   },
   "outputs": [],
   "source": [
    "df_final = pd.merge(df,df1[['EistonHistologicGrade']], left_on=['probe'],right_on=[df1['_PATIENT']],how='inner')"
   ]
  },
  {
   "cell_type": "code",
   "execution_count": 80,
   "metadata": {
    "colab": {
     "base_uri": "https://localhost:8080/",
     "height": 299
    },
    "id": "aqr4SsvSDuLN",
    "outputId": "f8fe1918-5caa-4a48-aa0c-1bce9964fb4e"
   },
   "outputs": [
    {
     "data": {
      "text/html": [
       "<div>\n",
       "<style scoped>\n",
       "    .dataframe tbody tr th:only-of-type {\n",
       "        vertical-align: middle;\n",
       "    }\n",
       "\n",
       "    .dataframe tbody tr th {\n",
       "        vertical-align: top;\n",
       "    }\n",
       "\n",
       "    .dataframe thead th {\n",
       "        text-align: right;\n",
       "    }\n",
       "</style>\n",
       "<table border=\"1\" class=\"dataframe\">\n",
       "  <thead>\n",
       "    <tr style=\"text-align: right;\">\n",
       "      <th></th>\n",
       "      <th>probe</th>\n",
       "      <th>211050_x_at</th>\n",
       "      <th>220399_at</th>\n",
       "      <th>202115_s_at</th>\n",
       "      <th>224501_at</th>\n",
       "      <th>227347_x_at</th>\n",
       "      <th>205483_s_at</th>\n",
       "      <th>212283_at</th>\n",
       "      <th>212285_s_at</th>\n",
       "      <th>217419_x_at</th>\n",
       "      <th>...</th>\n",
       "      <th>208331_at</th>\n",
       "      <th>211461_at</th>\n",
       "      <th>232402_at</th>\n",
       "      <th>207647_at</th>\n",
       "      <th>207646_s_at</th>\n",
       "      <th>207916_at</th>\n",
       "      <th>202829_s_at</th>\n",
       "      <th>214950_at</th>\n",
       "      <th>208164_s_at</th>\n",
       "      <th>EistonHistologicGrade</th>\n",
       "    </tr>\n",
       "  </thead>\n",
       "  <tbody>\n",
       "    <tr>\n",
       "      <th>0</th>\n",
       "      <td>X100B08</td>\n",
       "      <td>-0.60609845997949</td>\n",
       "      <td>0.297761884637424</td>\n",
       "      <td>-0.0207199586993729</td>\n",
       "      <td>0.0191163830257484</td>\n",
       "      <td>0.217003285274825</td>\n",
       "      <td>-0.959765619734105</td>\n",
       "      <td>0.31905965380238</td>\n",
       "      <td>0.26743053282687</td>\n",
       "      <td>0.0546245393746343</td>\n",
       "      <td>...</td>\n",
       "      <td>0.677886</td>\n",
       "      <td>0.294886</td>\n",
       "      <td>0.334739</td>\n",
       "      <td>-0.922423</td>\n",
       "      <td>0.525822</td>\n",
       "      <td>0.65593</td>\n",
       "      <td>-0.373383</td>\n",
       "      <td>0.533709</td>\n",
       "      <td>0.9551</td>\n",
       "      <td>G1</td>\n",
       "    </tr>\n",
       "    <tr>\n",
       "      <th>1</th>\n",
       "      <td>X101B88</td>\n",
       "      <td>-0.71211732736651</td>\n",
       "      <td>0.108554028539094</td>\n",
       "      <td>-0.329812842420013</td>\n",
       "      <td>-0.508559867759712</td>\n",
       "      <td>0.750268555716166</td>\n",
       "      <td>-0.739373617253365</td>\n",
       "      <td>-0.63507596067365</td>\n",
       "      <td>0.404148351178069</td>\n",
       "      <td>0.553476301226864</td>\n",
       "      <td>...</td>\n",
       "      <td>-0.37717</td>\n",
       "      <td>-0.146836</td>\n",
       "      <td>-0.027103</td>\n",
       "      <td>0.108189</td>\n",
       "      <td>-0.108456</td>\n",
       "      <td>0.800626</td>\n",
       "      <td>0.0473873</td>\n",
       "      <td>-0.630866</td>\n",
       "      <td>0.550008</td>\n",
       "      <td>G3</td>\n",
       "    </tr>\n",
       "    <tr>\n",
       "      <th>2</th>\n",
       "      <td>X102B06</td>\n",
       "      <td>-0.24902371657542</td>\n",
       "      <td>0.529915688630775</td>\n",
       "      <td>-0.455559869614984</td>\n",
       "      <td>0.0562016961050977</td>\n",
       "      <td>0.469504094265635</td>\n",
       "      <td>0.436695502974866</td>\n",
       "      <td>0.253222377924609</td>\n",
       "      <td>0.236893737236249</td>\n",
       "      <td>0.263843536673264</td>\n",
       "      <td>...</td>\n",
       "      <td>-0.264924</td>\n",
       "      <td>-0.403073</td>\n",
       "      <td>-0.273291</td>\n",
       "      <td>0.408303</td>\n",
       "      <td>0.256424</td>\n",
       "      <td>0.0524039</td>\n",
       "      <td>-0.0767656</td>\n",
       "      <td>0.170939</td>\n",
       "      <td>-0.016254</td>\n",
       "      <td>G3</td>\n",
       "    </tr>\n",
       "    <tr>\n",
       "      <th>3</th>\n",
       "      <td>X103B41</td>\n",
       "      <td>0.47339419538929</td>\n",
       "      <td>-0.0236977596184555</td>\n",
       "      <td>0.335866503578156</td>\n",
       "      <td>-0.0112785620922615</td>\n",
       "      <td>-0.182405554283685</td>\n",
       "      <td>0.913890761259296</td>\n",
       "      <td>0.134584773097739</td>\n",
       "      <td>0.46841163348552</td>\n",
       "      <td>0.508556696455114</td>\n",
       "      <td>...</td>\n",
       "      <td>-0.182134</td>\n",
       "      <td>-0.132613</td>\n",
       "      <td>0.314508</td>\n",
       "      <td>0.147834</td>\n",
       "      <td>-0.766659</td>\n",
       "      <td>-1.51796</td>\n",
       "      <td>0.487872</td>\n",
       "      <td>0.394624</td>\n",
       "      <td>0.440938</td>\n",
       "      <td>G3</td>\n",
       "    </tr>\n",
       "    <tr>\n",
       "      <th>4</th>\n",
       "      <td>X104B91</td>\n",
       "      <td>-0.54907184258026</td>\n",
       "      <td>-0.240674552924416</td>\n",
       "      <td>0.0914735642808466</td>\n",
       "      <td>0.189045651599998</td>\n",
       "      <td>-0.472259746631345</td>\n",
       "      <td>1.18484495173342</td>\n",
       "      <td>0.204097424289389</td>\n",
       "      <td>0.397235706101899</td>\n",
       "      <td>0.107319891585904</td>\n",
       "      <td>...</td>\n",
       "      <td>-0.0511183</td>\n",
       "      <td>-0.149773</td>\n",
       "      <td>-0.304061</td>\n",
       "      <td>-1.2299</td>\n",
       "      <td>-0.000545084</td>\n",
       "      <td>0.574513</td>\n",
       "      <td>0.597032</td>\n",
       "      <td>0.196972</td>\n",
       "      <td>0.120323</td>\n",
       "      <td>G3</td>\n",
       "    </tr>\n",
       "  </tbody>\n",
       "</table>\n",
       "<p>5 rows × 24713 columns</p>\n",
       "</div>"
      ],
      "text/plain": [
       "     probe        211050_x_at            220399_at          202115_s_at  \\\n",
       "0  X100B08  -0.60609845997949    0.297761884637424  -0.0207199586993729   \n",
       "1  X101B88  -0.71211732736651    0.108554028539094   -0.329812842420013   \n",
       "2  X102B06  -0.24902371657542    0.529915688630775   -0.455559869614984   \n",
       "3  X103B41   0.47339419538929  -0.0236977596184555    0.335866503578156   \n",
       "4  X104B91  -0.54907184258026   -0.240674552924416   0.0914735642808466   \n",
       "\n",
       "             224501_at         227347_x_at         205483_s_at  \\\n",
       "0   0.0191163830257484   0.217003285274825  -0.959765619734105   \n",
       "1   -0.508559867759712   0.750268555716166  -0.739373617253365   \n",
       "2   0.0562016961050977   0.469504094265635   0.436695502974866   \n",
       "3  -0.0112785620922615  -0.182405554283685   0.913890761259296   \n",
       "4    0.189045651599998  -0.472259746631345    1.18484495173342   \n",
       "\n",
       "           212283_at        212285_s_at         217419_x_at  ...  208331_at  \\\n",
       "0   0.31905965380238   0.26743053282687  0.0546245393746343  ...   0.677886   \n",
       "1  -0.63507596067365  0.404148351178069   0.553476301226864  ...   -0.37717   \n",
       "2  0.253222377924609  0.236893737236249   0.263843536673264  ...  -0.264924   \n",
       "3  0.134584773097739   0.46841163348552   0.508556696455114  ...  -0.182134   \n",
       "4  0.204097424289389  0.397235706101899   0.107319891585904  ... -0.0511183   \n",
       "\n",
       "  211461_at 232402_at 207647_at  207646_s_at  207916_at 202829_s_at 214950_at  \\\n",
       "0  0.294886  0.334739 -0.922423     0.525822    0.65593   -0.373383  0.533709   \n",
       "1 -0.146836 -0.027103  0.108189    -0.108456   0.800626   0.0473873 -0.630866   \n",
       "2 -0.403073 -0.273291  0.408303     0.256424  0.0524039  -0.0767656  0.170939   \n",
       "3 -0.132613  0.314508  0.147834    -0.766659   -1.51796    0.487872  0.394624   \n",
       "4 -0.149773 -0.304061   -1.2299 -0.000545084   0.574513    0.597032  0.196972   \n",
       "\n",
       "  208164_s_at EistonHistologicGrade  \n",
       "0      0.9551                    G1  \n",
       "1    0.550008                    G3  \n",
       "2   -0.016254                    G3  \n",
       "3    0.440938                    G3  \n",
       "4    0.120323                    G3  \n",
       "\n",
       "[5 rows x 24713 columns]"
      ]
     },
     "execution_count": 80,
     "metadata": {},
     "output_type": "execute_result"
    }
   ],
   "source": [
    "df_final.head()"
   ]
  },
  {
   "cell_type": "markdown",
   "metadata": {
    "id": "Mp29i8AMDuLN"
   },
   "source": [
    "## Missing Values"
   ]
  },
  {
   "cell_type": "markdown",
   "metadata": {
    "id": "_QC2PH4wDuLN"
   },
   "source": [
    "Removing the missing values"
   ]
  },
  {
   "cell_type": "code",
   "execution_count": 81,
   "metadata": {
    "colab": {
     "base_uri": "https://localhost:8080/"
    },
    "id": "lvKlD-L9DuLN",
    "outputId": "89944e38-3423-4984-b51f-66beb458c924"
   },
   "outputs": [
    {
     "data": {
      "text/plain": [
       "probe                    0\n",
       "211050_x_at              0\n",
       "220399_at                0\n",
       "202115_s_at              0\n",
       "224501_at                0\n",
       "                        ..\n",
       "207916_at                0\n",
       "202829_s_at              0\n",
       "214950_at                0\n",
       "208164_s_at              0\n",
       "EistonHistologicGrade    2\n",
       "Length: 24713, dtype: int64"
      ]
     },
     "execution_count": 81,
     "metadata": {},
     "output_type": "execute_result"
    }
   ],
   "source": [
    "df_final.isna().sum()"
   ]
  },
  {
   "cell_type": "code",
   "execution_count": 82,
   "metadata": {
    "id": "3-axUqroDuLN"
   },
   "outputs": [],
   "source": [
    "df_final = df_final.dropna()"
   ]
  },
  {
   "cell_type": "code",
   "execution_count": 83,
   "metadata": {
    "colab": {
     "base_uri": "https://localhost:8080/"
    },
    "id": "JpXoozrgDuLO",
    "outputId": "ba36e5d9-1da9-4979-a988-38e1b9b5f5c1"
   },
   "outputs": [
    {
     "data": {
      "text/plain": [
       "probe                    0\n",
       "211050_x_at              0\n",
       "220399_at                0\n",
       "202115_s_at              0\n",
       "224501_at                0\n",
       "                        ..\n",
       "207916_at                0\n",
       "202829_s_at              0\n",
       "214950_at                0\n",
       "208164_s_at              0\n",
       "EistonHistologicGrade    0\n",
       "Length: 24713, dtype: int64"
      ]
     },
     "execution_count": 83,
     "metadata": {},
     "output_type": "execute_result"
    }
   ],
   "source": [
    "df_final.isna().sum()"
   ]
  },
  {
   "cell_type": "markdown",
   "metadata": {
    "id": "isCLf7JMDuLO"
   },
   "source": [
    "## Imbalance data in the Target Variable"
   ]
  },
  {
   "cell_type": "code",
   "execution_count": 84,
   "metadata": {
    "colab": {
     "base_uri": "https://localhost:8080/",
     "height": 406
    },
    "id": "XDwDsBhuDuLO",
    "outputId": "f82edd9f-908a-46cd-b20f-9db78c44afe4"
   },
   "outputs": [
    {
     "name": "stdout",
     "output_type": "stream",
     "text": [
      "G2    128\n",
      "G1     67\n",
      "G3     54\n",
      "Name: EistonHistologicGrade, dtype: int64\n"
     ]
    },
    {
     "data": {
      "text/plain": [
       "<function matplotlib.pyplot.show(close=None, block=None)>"
      ]
     },
     "execution_count": 84,
     "metadata": {},
     "output_type": "execute_result"
    }
   ],
   "source": [
    "print(df_final['EistonHistologicGrade'].value_counts())\n",
    "plt.figure(figsize=(1.5,1.5), dpi=227)\n",
    "plt.pie(df_final['EistonHistologicGrade'].value_counts(), labels=['G2', 'G1', 'G3'], textprops={'fontsize':6}, startangle=0, autopct='%1.1f%%')\n",
    "plt.show"
   ]
  },
  {
   "cell_type": "markdown",
   "metadata": {
    "id": "bJuXiheQDuLO"
   },
   "source": [
    "We could see that the Target Variable has \n",
    "\n",
    "G1 - 67, G2 - 128, G3 - 54\n",
    "\n",
    "Data looks imbalanced. Imbalanced dataset may make the model to perform poor."
   ]
  },
  {
   "cell_type": "code",
   "execution_count": 85,
   "metadata": {
    "id": "44_qADhTDuLO"
   },
   "outputs": [],
   "source": [
    "from sklearn.linear_model import LinearRegression\n",
    "from sklearn.feature_selection import RFE\n",
    "from sklearn import preprocessing\n",
    "\n",
    "\n",
    "X = df_final.drop(columns = ['probe','EistonHistologicGrade'],axis=1)\n",
    "Y = df_final['EistonHistologicGrade']\n",
    "\n",
    "X=X.astype(float)\n",
    "le = preprocessing.LabelEncoder()\n",
    "Y = le.fit_transform(Y)\n"
   ]
  },
  {
   "cell_type": "markdown",
   "metadata": {
    "id": "5rDIWGmcDuLO"
   },
   "source": [
    "Label Encoder is used to encode the categorical value into numerical value in the Target Variable"
   ]
  },
  {
   "cell_type": "code",
   "execution_count": 86,
   "metadata": {
    "colab": {
     "base_uri": "https://localhost:8080/"
    },
    "id": "ODSGMuwxDuLO",
    "outputId": "4400d686-c327-4140-d238-9e33fb58e1bb"
   },
   "outputs": [
    {
     "name": "stdout",
     "output_type": "stream",
     "text": [
      "Original dataset shape Counter({1: 128, 0: 67, 2: 54})\n",
      "Resample dataset shape Counter({0: 128, 2: 128, 1: 128})\n"
     ]
    },
    {
     "data": {
      "text/plain": [
       "(384, 24711)"
      ]
     },
     "execution_count": 86,
     "metadata": {},
     "output_type": "execute_result"
    }
   ],
   "source": [
    "from imblearn.over_sampling import SMOTE\n",
    "from collections import Counter\n",
    "\n",
    "smote = SMOTE()\n",
    "\n",
    "# fit predictor and target variable\n",
    "x_smote, y_smote = smote.fit_resample(X,Y)\n",
    "\n",
    "print('Original dataset shape', Counter(Y))\n",
    "print('Resample dataset shape', Counter(y_smote))\n",
    "x_smote.shape"
   ]
  },
  {
   "cell_type": "markdown",
   "metadata": {
    "id": "e3oJvfp1DuLO"
   },
   "source": [
    "Synthetic Minority Oversampling Technique (SMOTE) is used to balance the dataset.\n",
    "\n",
    "Here, Oversampling is done, since we have less number of samples."
   ]
  },
  {
   "cell_type": "code",
   "execution_count": 87,
   "metadata": {
    "colab": {
     "base_uri": "https://localhost:8080/"
    },
    "id": "FqynujU4DuLO",
    "outputId": "191610fd-f0f3-478f-ce7a-e371cd96f1bb"
   },
   "outputs": [
    {
     "name": "stdout",
     "output_type": "stream",
     "text": [
      "(384, 24711) (384,)\n"
     ]
    }
   ],
   "source": [
    "print(x_smote.shape, y_smote.shape)"
   ]
  },
  {
   "cell_type": "markdown",
   "metadata": {
    "id": "4OnRL2WODuLP"
   },
   "source": [
    "We could see that the X shape is 384 rows and 24711 columns.\n",
    "More columns can make the model to perform poor, so its better to reject the features, which is highly correlated. \n",
    "\n",
    "Here, we have choosen Forward Feature selection to select the best feature for the target variable - EistonHistologicGrade."
   ]
  },
  {
   "cell_type": "markdown",
   "metadata": {
    "id": "HbiS4M-gDuLP"
   },
   "source": [
    "### Feature Selection - Forward Feature Selection:"
   ]
  },
  {
   "cell_type": "code",
   "execution_count": 88,
   "metadata": {
    "id": "H08qjo55DuLP"
   },
   "outputs": [],
   "source": [
    "from sklearn.feature_selection import f_regression\n",
    "ffs = f_regression(x_smote,y_smote)\n",
    "\n",
    "variable = [ ]\n",
    "for i in range(0,len(x_smote.columns)-1):\n",
    "    if ffs[0][i] >=10:\n",
    "       variable.append(x_smote.columns[i])"
   ]
  },
  {
   "cell_type": "code",
   "execution_count": 89,
   "metadata": {
    "colab": {
     "base_uri": "https://localhost:8080/"
    },
    "id": "RkJ3hVX4DuLP",
    "outputId": "cbd8d1c5-8baa-4fca-c299-37238e6ade8b"
   },
   "outputs": [
    {
     "data": {
      "text/plain": [
       "(384, 10204)"
      ]
     },
     "execution_count": 89,
     "metadata": {},
     "output_type": "execute_result"
    }
   ],
   "source": [
    "df_best = x_smote[variable]\n",
    "\n",
    "df_best.shape"
   ]
  },
  {
   "cell_type": "markdown",
   "metadata": {
    "id": "1-f-GiWyDuLP"
   },
   "source": [
    "We have choosen f-value as 10. Based on the value, 10336 features were selected out of 24711."
   ]
  },
  {
   "cell_type": "code",
   "execution_count": 90,
   "metadata": {
    "colab": {
     "base_uri": "https://localhost:8080/"
    },
    "id": "rKypBsKpDuLP",
    "outputId": "7239e79e-c20f-45bb-b38f-29f2c3f25f30"
   },
   "outputs": [
    {
     "name": "stdout",
     "output_type": "stream",
     "text": [
      "<class 'pandas.core.frame.DataFrame'>\n",
      "RangeIndex: 384 entries, 0 to 383\n",
      "Columns: 10204 entries, 202115_s_at to 202829_s_at\n",
      "dtypes: float64(10204)\n",
      "memory usage: 29.9 MB\n"
     ]
    }
   ],
   "source": [
    "#converting all the datatypes of dataframe to float\n",
    "df_best = df_best.astype(float)\n",
    "df_best.info()"
   ]
  },
  {
   "cell_type": "markdown",
   "metadata": {
    "id": "aEyjCdv7DuLP"
   },
   "source": [
    "## Principle component analysis & Naive Bayes:"
   ]
  },
  {
   "cell_type": "markdown",
   "metadata": {
    "id": "-y6sek1QDuLP"
   },
   "source": [
    "Principle Component Analysis is used to reduce the dimension of the obtained feature(9215).\n",
    "\n",
    "PCA reduce the total features less than or equal to the samples."
   ]
  },
  {
   "cell_type": "code",
   "execution_count": 91,
   "metadata": {
    "id": "-MRdg8G1DuLQ"
   },
   "outputs": [],
   "source": [
    "#Naive Bayes model is used here for the classification\n",
    "from sklearn.model_selection import train_test_split\n",
    "from sklearn.metrics import confusion_matrix,classification_report,accuracy_score\n",
    "from sklearn.decomposition import PCA\n",
    "from sklearn.neighbors import (NeighborhoodComponentsAnalysis, KNeighborsClassifier)\n",
    "from sklearn.pipeline import Pipeline\n",
    "\n",
    "nca_acc = []\n",
    "val = []\n",
    "acc =0\n",
    "for i in range(10,250,10):\n",
    "\n",
    "  pca = PCA(n_components = i)\n",
    "  x_pca = pca.fit_transform(df_best)\n",
    "  \n",
    "  X_train, X_test, y_train, y_test = train_test_split(x_pca, y_smote, train_size=0.7, random_state=11, shuffle=True) #Train Test Split\n",
    "\n",
    "  #Splitting the training data into training and validation data using K-Fold\n",
    "  acc_score = []\n",
    "  k = 3\n",
    "  kf = KFold(n_splits=k, shuffle=False, random_state=None)\n",
    "  for train_index , test_index in kf.split(X_train):\n",
    "    X_train1 , X_test1 = X_train[train_index,:],X_train[test_index,:]\n",
    "    y_train1 , y_test1 = y_train[train_index] , y_train[test_index]\n",
    "\n",
    "    \n",
    "\n",
    "    nca = NeighborhoodComponentsAnalysis(random_state=42)\n",
    "    knn = KNeighborsClassifier(n_neighbors=3)\n",
    "    nca_pipe = Pipeline([('nca', nca), ('knn', knn)])\n",
    "    nca_pipe.fit(X_train1, y_train1)\n",
    "    accuracy = nca_pipe.score(X_test1, y_test1)*100\n",
    "    acc_score.append(accuracy)\n",
    "     \n",
    "  avg_acc_score = sum(acc_score)/k\n",
    "  nca_acc.append(avg_acc_score)\n",
    "  val.append(i)\n",
    "  if (acc < avg_acc_score):\n",
    "    acc = avg_acc_score\n",
    "    best_feat = i\n",
    "    best_pca = x_pca"
   ]
  },
  {
   "cell_type": "markdown",
   "metadata": {
    "id": "1-KGB443DuLQ"
   },
   "source": [
    "Here, K-Fold cross validation is used for the training and validating the data with the best number of features which we have choosen from the above.\n",
    "\n",
    "This helps the model to avoid overfitting"
   ]
  },
  {
   "cell_type": "markdown",
   "metadata": {
    "id": "_aDBzRdlDuLQ"
   },
   "source": [
    "## Visualising and selecting the best number of features"
   ]
  },
  {
   "cell_type": "code",
   "execution_count": 92,
   "metadata": {
    "colab": {
     "base_uri": "https://localhost:8080/",
     "height": 406
    },
    "id": "2T8COJQ0DuLQ",
    "outputId": "d116bbaa-63dc-437a-aced-92bbd2483269"
   },
   "outputs": [
    {
     "name": "stdout",
     "output_type": "stream",
     "text": [
      "Maximum Accuracy is  77.57802746566792  Best number of features :  140\n"
     ]
    },
    {
     "name": "stderr",
     "output_type": "stream",
     "text": [
      "C:\\Users\\kvman\\anaconda3\\lib\\site-packages\\seaborn\\_decorators.py:36: FutureWarning: Pass the following variables as keyword args: x, y. From version 0.12, the only valid positional argument will be `data`, and passing other arguments without an explicit keyword will result in an error or misinterpretation.\n",
      "  warnings.warn(\n"
     ]
    }
   ],
   "source": [
    "plt.figure(figsize=(18,5))\n",
    "#plt.bar(models,accuracies)\n",
    "plt.xlabel(\"Number of Features\")\n",
    "plt.ylabel(\"Accuracy in %\")\n",
    "sns.barplot(val,svr_acc)\n",
    "print(\"Maximum Accuracy is \",acc, \" Best number of features : \", best_feat)"
   ]
  },
  {
   "cell_type": "markdown",
   "metadata": {
    "id": "Erh07ruoDuLQ"
   },
   "source": [
    "### Predicting the Test Data"
   ]
  },
  {
   "cell_type": "code",
   "execution_count": 93,
   "metadata": {
    "colab": {
     "base_uri": "https://localhost:8080/"
    },
    "id": "TDGvLI7ADuLQ",
    "outputId": "75bc4490-f84f-445d-c771-77099181e8a1"
   },
   "outputs": [
    {
     "data": {
      "text/plain": [
       "62.93103448275862"
      ]
     },
     "execution_count": 93,
     "metadata": {},
     "output_type": "execute_result"
    }
   ],
   "source": [
    "nca_pipe.score(X_test, y_test)*100"
   ]
  },
  {
   "cell_type": "markdown",
   "metadata": {
    "id": "qwYItEFHHUgn"
   },
   "source": [
    "## Logistic Regression"
   ]
  },
  {
   "cell_type": "code",
   "execution_count": 94,
   "metadata": {
    "id": "WWeAKvUdGL0U"
   },
   "outputs": [
    {
     "name": "stderr",
     "output_type": "stream",
     "text": [
      "C:\\Users\\kvman\\anaconda3\\lib\\site-packages\\sklearn\\linear_model\\_logistic.py:763: ConvergenceWarning: lbfgs failed to converge (status=1):\n",
      "STOP: TOTAL NO. of ITERATIONS REACHED LIMIT.\n",
      "\n",
      "Increase the number of iterations (max_iter) or scale the data as shown in:\n",
      "    https://scikit-learn.org/stable/modules/preprocessing.html\n",
      "Please also refer to the documentation for alternative solver options:\n",
      "    https://scikit-learn.org/stable/modules/linear_model.html#logistic-regression\n",
      "  n_iter_i = _check_optimize_result(\n",
      "C:\\Users\\kvman\\anaconda3\\lib\\site-packages\\sklearn\\linear_model\\_logistic.py:763: ConvergenceWarning: lbfgs failed to converge (status=1):\n",
      "STOP: TOTAL NO. of ITERATIONS REACHED LIMIT.\n",
      "\n",
      "Increase the number of iterations (max_iter) or scale the data as shown in:\n",
      "    https://scikit-learn.org/stable/modules/preprocessing.html\n",
      "Please also refer to the documentation for alternative solver options:\n",
      "    https://scikit-learn.org/stable/modules/linear_model.html#logistic-regression\n",
      "  n_iter_i = _check_optimize_result(\n",
      "C:\\Users\\kvman\\anaconda3\\lib\\site-packages\\sklearn\\linear_model\\_logistic.py:763: ConvergenceWarning: lbfgs failed to converge (status=1):\n",
      "STOP: TOTAL NO. of ITERATIONS REACHED LIMIT.\n",
      "\n",
      "Increase the number of iterations (max_iter) or scale the data as shown in:\n",
      "    https://scikit-learn.org/stable/modules/preprocessing.html\n",
      "Please also refer to the documentation for alternative solver options:\n",
      "    https://scikit-learn.org/stable/modules/linear_model.html#logistic-regression\n",
      "  n_iter_i = _check_optimize_result(\n",
      "C:\\Users\\kvman\\anaconda3\\lib\\site-packages\\sklearn\\linear_model\\_logistic.py:763: ConvergenceWarning: lbfgs failed to converge (status=1):\n",
      "STOP: TOTAL NO. of ITERATIONS REACHED LIMIT.\n",
      "\n",
      "Increase the number of iterations (max_iter) or scale the data as shown in:\n",
      "    https://scikit-learn.org/stable/modules/preprocessing.html\n",
      "Please also refer to the documentation for alternative solver options:\n",
      "    https://scikit-learn.org/stable/modules/linear_model.html#logistic-regression\n",
      "  n_iter_i = _check_optimize_result(\n",
      "C:\\Users\\kvman\\anaconda3\\lib\\site-packages\\sklearn\\linear_model\\_logistic.py:763: ConvergenceWarning: lbfgs failed to converge (status=1):\n",
      "STOP: TOTAL NO. of ITERATIONS REACHED LIMIT.\n",
      "\n",
      "Increase the number of iterations (max_iter) or scale the data as shown in:\n",
      "    https://scikit-learn.org/stable/modules/preprocessing.html\n",
      "Please also refer to the documentation for alternative solver options:\n",
      "    https://scikit-learn.org/stable/modules/linear_model.html#logistic-regression\n",
      "  n_iter_i = _check_optimize_result(\n",
      "C:\\Users\\kvman\\anaconda3\\lib\\site-packages\\sklearn\\linear_model\\_logistic.py:763: ConvergenceWarning: lbfgs failed to converge (status=1):\n",
      "STOP: TOTAL NO. of ITERATIONS REACHED LIMIT.\n",
      "\n",
      "Increase the number of iterations (max_iter) or scale the data as shown in:\n",
      "    https://scikit-learn.org/stable/modules/preprocessing.html\n",
      "Please also refer to the documentation for alternative solver options:\n",
      "    https://scikit-learn.org/stable/modules/linear_model.html#logistic-regression\n",
      "  n_iter_i = _check_optimize_result(\n",
      "C:\\Users\\kvman\\anaconda3\\lib\\site-packages\\sklearn\\linear_model\\_logistic.py:763: ConvergenceWarning: lbfgs failed to converge (status=1):\n",
      "STOP: TOTAL NO. of ITERATIONS REACHED LIMIT.\n",
      "\n",
      "Increase the number of iterations (max_iter) or scale the data as shown in:\n",
      "    https://scikit-learn.org/stable/modules/preprocessing.html\n",
      "Please also refer to the documentation for alternative solver options:\n",
      "    https://scikit-learn.org/stable/modules/linear_model.html#logistic-regression\n",
      "  n_iter_i = _check_optimize_result(\n",
      "C:\\Users\\kvman\\anaconda3\\lib\\site-packages\\sklearn\\linear_model\\_logistic.py:763: ConvergenceWarning: lbfgs failed to converge (status=1):\n",
      "STOP: TOTAL NO. of ITERATIONS REACHED LIMIT.\n",
      "\n",
      "Increase the number of iterations (max_iter) or scale the data as shown in:\n",
      "    https://scikit-learn.org/stable/modules/preprocessing.html\n",
      "Please also refer to the documentation for alternative solver options:\n",
      "    https://scikit-learn.org/stable/modules/linear_model.html#logistic-regression\n",
      "  n_iter_i = _check_optimize_result(\n"
     ]
    }
   ],
   "source": [
    "#Logistic Regression model is used here for the classification\n",
    "from sklearn.linear_model import LogisticRegression\n",
    "from sklearn.model_selection import train_test_split\n",
    "from sklearn.metrics import confusion_matrix,classification_report,accuracy_score\n",
    "from sklearn.decomposition import PCA\n",
    "\n",
    "lr_acc = []\n",
    "val = []\n",
    "acc =0\n",
    "for i in range(10,250,10):\n",
    "\n",
    "  pca = PCA(n_components = i)\n",
    "  x_pca = pca.fit_transform(df_best)\n",
    "  \n",
    "  X_train, X_test, y_train, y_test = train_test_split(x_pca, y_smote, train_size=0.7, random_state=11, shuffle=True) #Train Test Split\n",
    "\n",
    "  #Splitting the training data into training and validation data using K-Fold\n",
    "  acc_score = []\n",
    "  k = 3\n",
    "  kf = KFold(n_splits=k, shuffle=False, random_state=None)\n",
    "  for train_index , test_index in kf.split(X_train):\n",
    "    X_train1 , X_test1 = X_train[train_index,:],X_train[test_index,:]\n",
    "    y_train1 , y_test1 = y_train[train_index] , y_train[test_index]\n",
    "\n",
    "    logreg = LogisticRegression(max_iter=500)\n",
    "    logreg.fit(X_train1, y_train1)\n",
    "    pred1 = logreg.predict(X_test1)\n",
    "    accuracy=accuracy_score(y_test1,pred1)*100\n",
    "    acc_score.append(accuracy)\n",
    "     \n",
    "  avg_acc_score = sum(acc_score)/k\n",
    "  lr_acc.append(avg_acc_score)\n",
    "  val.append(i)\n",
    "  if (acc < avg_acc_score):\n",
    "    acc = avg_acc_score\n",
    "    best_feat = i\n",
    "    best_pca = x_pca"
   ]
  },
  {
   "cell_type": "code",
   "execution_count": 95,
   "metadata": {
    "colab": {
     "base_uri": "https://localhost:8080/",
     "height": 406
    },
    "id": "_RaeiZuXGL0U",
    "outputId": "576deaf5-04bd-46ed-8c7b-01fc38379d0b"
   },
   "outputs": [
    {
     "name": "stdout",
     "output_type": "stream",
     "text": [
      "Maximum Accuracy is  82.45110278818144  Best number of features :  240\n"
     ]
    },
    {
     "name": "stderr",
     "output_type": "stream",
     "text": [
      "C:\\Users\\kvman\\anaconda3\\lib\\site-packages\\seaborn\\_decorators.py:36: FutureWarning: Pass the following variables as keyword args: x, y. From version 0.12, the only valid positional argument will be `data`, and passing other arguments without an explicit keyword will result in an error or misinterpretation.\n",
      "  warnings.warn(\n"
     ]
    }
   ],
   "source": [
    "plt.figure(figsize=(18,5))\n",
    "#plt.bar(models,accuracies)\n",
    "plt.xlabel(\"Number of Features\")\n",
    "plt.ylabel(\"Accuracy in %\")\n",
    "sns.barplot(val,lr_acc)\n",
    "print(\"Maximum Accuracy is \",acc, \" Best number of features : \", best_feat)"
   ]
  },
  {
   "cell_type": "code",
   "execution_count": 96,
   "metadata": {
    "colab": {
     "base_uri": "https://localhost:8080/"
    },
    "id": "WxXPL1kNGL0V",
    "outputId": "6c449d3e-6f86-40fd-9246-b27c0e72baaa"
   },
   "outputs": [
    {
     "data": {
      "text/plain": [
       "69.82758620689656"
      ]
     },
     "execution_count": 96,
     "metadata": {},
     "output_type": "execute_result"
    }
   ],
   "source": [
    "accuracy_score(y_test,logreg.predict(X_test))*100"
   ]
  },
  {
   "cell_type": "markdown",
   "metadata": {
    "id": "WsSS3ywCDuLR"
   },
   "source": [
    "Conclusion:\n",
    "\n",
    "Here, we have tried with 2 different models, since first model didn't work as expected.\n",
    "\n",
    "KNN Model:\n",
    "\n",
    "Required Number of features to achieve good accuracy = **60**\n",
    "\n",
    "Training Accuracy =**76%**\n",
    "\n",
    "Testing Accuracy = **64%**\n",
    "\n",
    "Logistic Regression Model:\n",
    "\n",
    "Required Number of features to achieve good accuracy = **160**\n",
    "\n",
    "Training Accuracy =**79%**\n",
    "\n",
    "Testing Accuracy = **77%**"
   ]
  },
  {
   "cell_type": "markdown",
   "metadata": {
    "id": "dbKA9qLJIKhg"
   },
   "source": [
    "# 7. Target Variable - ERstatus:"
   ]
  },
  {
   "cell_type": "code",
   "execution_count": 97,
   "metadata": {
    "id": "nauL4VwQIKhn"
   },
   "outputs": [],
   "source": [
    "df = df_main.copy()\n",
    "df1 =df_output.copy()"
   ]
  },
  {
   "cell_type": "markdown",
   "metadata": {
    "id": "0INQyeaEIKhn"
   },
   "source": [
    "### Combining both Input data and Output data(ERstatus)"
   ]
  },
  {
   "cell_type": "markdown",
   "metadata": {
    "id": "QCEGctSXIKhn"
   },
   "source": [
    "Merging all the input data from the dataframe \"df\" and \"ERstatus\" variable from the dataframe \"df1\"\n"
   ]
  },
  {
   "cell_type": "code",
   "execution_count": 98,
   "metadata": {
    "id": "CHKivR_RIKhn"
   },
   "outputs": [],
   "source": [
    "df_final = pd.merge(df,df1[['ERstatus']], left_on=['probe'],right_on=[df1['_PATIENT']],how='inner')"
   ]
  },
  {
   "cell_type": "code",
   "execution_count": 99,
   "metadata": {
    "colab": {
     "base_uri": "https://localhost:8080/",
     "height": 299
    },
    "id": "XZhdZlMNIKhn",
    "outputId": "b4e6d2f0-f84e-4f3b-c12b-191d9c1af223"
   },
   "outputs": [
    {
     "data": {
      "text/html": [
       "<div>\n",
       "<style scoped>\n",
       "    .dataframe tbody tr th:only-of-type {\n",
       "        vertical-align: middle;\n",
       "    }\n",
       "\n",
       "    .dataframe tbody tr th {\n",
       "        vertical-align: top;\n",
       "    }\n",
       "\n",
       "    .dataframe thead th {\n",
       "        text-align: right;\n",
       "    }\n",
       "</style>\n",
       "<table border=\"1\" class=\"dataframe\">\n",
       "  <thead>\n",
       "    <tr style=\"text-align: right;\">\n",
       "      <th></th>\n",
       "      <th>probe</th>\n",
       "      <th>211050_x_at</th>\n",
       "      <th>220399_at</th>\n",
       "      <th>202115_s_at</th>\n",
       "      <th>224501_at</th>\n",
       "      <th>227347_x_at</th>\n",
       "      <th>205483_s_at</th>\n",
       "      <th>212283_at</th>\n",
       "      <th>212285_s_at</th>\n",
       "      <th>217419_x_at</th>\n",
       "      <th>...</th>\n",
       "      <th>208331_at</th>\n",
       "      <th>211461_at</th>\n",
       "      <th>232402_at</th>\n",
       "      <th>207647_at</th>\n",
       "      <th>207646_s_at</th>\n",
       "      <th>207916_at</th>\n",
       "      <th>202829_s_at</th>\n",
       "      <th>214950_at</th>\n",
       "      <th>208164_s_at</th>\n",
       "      <th>ERstatus</th>\n",
       "    </tr>\n",
       "  </thead>\n",
       "  <tbody>\n",
       "    <tr>\n",
       "      <th>0</th>\n",
       "      <td>X100B08</td>\n",
       "      <td>-0.60609845997949</td>\n",
       "      <td>0.297761884637424</td>\n",
       "      <td>-0.0207199586993729</td>\n",
       "      <td>0.0191163830257484</td>\n",
       "      <td>0.217003285274825</td>\n",
       "      <td>-0.959765619734105</td>\n",
       "      <td>0.31905965380238</td>\n",
       "      <td>0.26743053282687</td>\n",
       "      <td>0.0546245393746343</td>\n",
       "      <td>...</td>\n",
       "      <td>0.677886</td>\n",
       "      <td>0.294886</td>\n",
       "      <td>0.334739</td>\n",
       "      <td>-0.922423</td>\n",
       "      <td>0.525822</td>\n",
       "      <td>0.65593</td>\n",
       "      <td>-0.373383</td>\n",
       "      <td>0.533709</td>\n",
       "      <td>0.9551</td>\n",
       "      <td>ER+</td>\n",
       "    </tr>\n",
       "    <tr>\n",
       "      <th>1</th>\n",
       "      <td>X101B88</td>\n",
       "      <td>-0.71211732736651</td>\n",
       "      <td>0.108554028539094</td>\n",
       "      <td>-0.329812842420013</td>\n",
       "      <td>-0.508559867759712</td>\n",
       "      <td>0.750268555716166</td>\n",
       "      <td>-0.739373617253365</td>\n",
       "      <td>-0.63507596067365</td>\n",
       "      <td>0.404148351178069</td>\n",
       "      <td>0.553476301226864</td>\n",
       "      <td>...</td>\n",
       "      <td>-0.37717</td>\n",
       "      <td>-0.146836</td>\n",
       "      <td>-0.027103</td>\n",
       "      <td>0.108189</td>\n",
       "      <td>-0.108456</td>\n",
       "      <td>0.800626</td>\n",
       "      <td>0.0473873</td>\n",
       "      <td>-0.630866</td>\n",
       "      <td>0.550008</td>\n",
       "      <td>ER-</td>\n",
       "    </tr>\n",
       "    <tr>\n",
       "      <th>2</th>\n",
       "      <td>X102B06</td>\n",
       "      <td>-0.24902371657542</td>\n",
       "      <td>0.529915688630775</td>\n",
       "      <td>-0.455559869614984</td>\n",
       "      <td>0.0562016961050977</td>\n",
       "      <td>0.469504094265635</td>\n",
       "      <td>0.436695502974866</td>\n",
       "      <td>0.253222377924609</td>\n",
       "      <td>0.236893737236249</td>\n",
       "      <td>0.263843536673264</td>\n",
       "      <td>...</td>\n",
       "      <td>-0.264924</td>\n",
       "      <td>-0.403073</td>\n",
       "      <td>-0.273291</td>\n",
       "      <td>0.408303</td>\n",
       "      <td>0.256424</td>\n",
       "      <td>0.0524039</td>\n",
       "      <td>-0.0767656</td>\n",
       "      <td>0.170939</td>\n",
       "      <td>-0.016254</td>\n",
       "      <td>ER+</td>\n",
       "    </tr>\n",
       "    <tr>\n",
       "      <th>3</th>\n",
       "      <td>X103B41</td>\n",
       "      <td>0.47339419538929</td>\n",
       "      <td>-0.0236977596184555</td>\n",
       "      <td>0.335866503578156</td>\n",
       "      <td>-0.0112785620922615</td>\n",
       "      <td>-0.182405554283685</td>\n",
       "      <td>0.913890761259296</td>\n",
       "      <td>0.134584773097739</td>\n",
       "      <td>0.46841163348552</td>\n",
       "      <td>0.508556696455114</td>\n",
       "      <td>...</td>\n",
       "      <td>-0.182134</td>\n",
       "      <td>-0.132613</td>\n",
       "      <td>0.314508</td>\n",
       "      <td>0.147834</td>\n",
       "      <td>-0.766659</td>\n",
       "      <td>-1.51796</td>\n",
       "      <td>0.487872</td>\n",
       "      <td>0.394624</td>\n",
       "      <td>0.440938</td>\n",
       "      <td>ER-</td>\n",
       "    </tr>\n",
       "    <tr>\n",
       "      <th>4</th>\n",
       "      <td>X104B91</td>\n",
       "      <td>-0.54907184258026</td>\n",
       "      <td>-0.240674552924416</td>\n",
       "      <td>0.0914735642808466</td>\n",
       "      <td>0.189045651599998</td>\n",
       "      <td>-0.472259746631345</td>\n",
       "      <td>1.18484495173342</td>\n",
       "      <td>0.204097424289389</td>\n",
       "      <td>0.397235706101899</td>\n",
       "      <td>0.107319891585904</td>\n",
       "      <td>...</td>\n",
       "      <td>-0.0511183</td>\n",
       "      <td>-0.149773</td>\n",
       "      <td>-0.304061</td>\n",
       "      <td>-1.2299</td>\n",
       "      <td>-0.000545084</td>\n",
       "      <td>0.574513</td>\n",
       "      <td>0.597032</td>\n",
       "      <td>0.196972</td>\n",
       "      <td>0.120323</td>\n",
       "      <td>ER+</td>\n",
       "    </tr>\n",
       "  </tbody>\n",
       "</table>\n",
       "<p>5 rows × 24713 columns</p>\n",
       "</div>"
      ],
      "text/plain": [
       "     probe        211050_x_at            220399_at          202115_s_at  \\\n",
       "0  X100B08  -0.60609845997949    0.297761884637424  -0.0207199586993729   \n",
       "1  X101B88  -0.71211732736651    0.108554028539094   -0.329812842420013   \n",
       "2  X102B06  -0.24902371657542    0.529915688630775   -0.455559869614984   \n",
       "3  X103B41   0.47339419538929  -0.0236977596184555    0.335866503578156   \n",
       "4  X104B91  -0.54907184258026   -0.240674552924416   0.0914735642808466   \n",
       "\n",
       "             224501_at         227347_x_at         205483_s_at  \\\n",
       "0   0.0191163830257484   0.217003285274825  -0.959765619734105   \n",
       "1   -0.508559867759712   0.750268555716166  -0.739373617253365   \n",
       "2   0.0562016961050977   0.469504094265635   0.436695502974866   \n",
       "3  -0.0112785620922615  -0.182405554283685   0.913890761259296   \n",
       "4    0.189045651599998  -0.472259746631345    1.18484495173342   \n",
       "\n",
       "           212283_at        212285_s_at         217419_x_at  ...  208331_at  \\\n",
       "0   0.31905965380238   0.26743053282687  0.0546245393746343  ...   0.677886   \n",
       "1  -0.63507596067365  0.404148351178069   0.553476301226864  ...   -0.37717   \n",
       "2  0.253222377924609  0.236893737236249   0.263843536673264  ...  -0.264924   \n",
       "3  0.134584773097739   0.46841163348552   0.508556696455114  ...  -0.182134   \n",
       "4  0.204097424289389  0.397235706101899   0.107319891585904  ... -0.0511183   \n",
       "\n",
       "  211461_at 232402_at 207647_at  207646_s_at  207916_at 202829_s_at 214950_at  \\\n",
       "0  0.294886  0.334739 -0.922423     0.525822    0.65593   -0.373383  0.533709   \n",
       "1 -0.146836 -0.027103  0.108189    -0.108456   0.800626   0.0473873 -0.630866   \n",
       "2 -0.403073 -0.273291  0.408303     0.256424  0.0524039  -0.0767656  0.170939   \n",
       "3 -0.132613  0.314508  0.147834    -0.766659   -1.51796    0.487872  0.394624   \n",
       "4 -0.149773 -0.304061   -1.2299 -0.000545084   0.574513    0.597032  0.196972   \n",
       "\n",
       "  208164_s_at ERstatus  \n",
       "0      0.9551      ER+  \n",
       "1    0.550008      ER-  \n",
       "2   -0.016254      ER+  \n",
       "3    0.440938      ER-  \n",
       "4    0.120323      ER+  \n",
       "\n",
       "[5 rows x 24713 columns]"
      ]
     },
     "execution_count": 99,
     "metadata": {},
     "output_type": "execute_result"
    }
   ],
   "source": [
    "df_final.head()"
   ]
  },
  {
   "cell_type": "markdown",
   "metadata": {
    "id": "f4yISZp6IKho"
   },
   "source": [
    "## Missing Values"
   ]
  },
  {
   "cell_type": "markdown",
   "metadata": {
    "id": "1xCd1yjqIKho"
   },
   "source": [
    "Removing the missing values"
   ]
  },
  {
   "cell_type": "code",
   "execution_count": 100,
   "metadata": {
    "colab": {
     "base_uri": "https://localhost:8080/"
    },
    "id": "L9U2a4qbIKho",
    "outputId": "be4fa340-1379-440a-ca21-4926890f231e"
   },
   "outputs": [
    {
     "data": {
      "text/plain": [
       "probe          0\n",
       "211050_x_at    0\n",
       "220399_at      0\n",
       "202115_s_at    0\n",
       "224501_at      0\n",
       "              ..\n",
       "207916_at      0\n",
       "202829_s_at    0\n",
       "214950_at      0\n",
       "208164_s_at    0\n",
       "ERstatus       4\n",
       "Length: 24713, dtype: int64"
      ]
     },
     "execution_count": 100,
     "metadata": {},
     "output_type": "execute_result"
    }
   ],
   "source": [
    "df_final.isna().sum()"
   ]
  },
  {
   "cell_type": "code",
   "execution_count": 101,
   "metadata": {
    "id": "HwBSBsCcIKho"
   },
   "outputs": [],
   "source": [
    "df_final = df_final.dropna()"
   ]
  },
  {
   "cell_type": "code",
   "execution_count": 102,
   "metadata": {
    "colab": {
     "base_uri": "https://localhost:8080/"
    },
    "id": "LhtL1kJcIKho",
    "outputId": "bfd3bdb3-4d6f-4c0e-f00f-314aaa7bec9b"
   },
   "outputs": [
    {
     "data": {
      "text/plain": [
       "probe          0\n",
       "211050_x_at    0\n",
       "220399_at      0\n",
       "202115_s_at    0\n",
       "224501_at      0\n",
       "              ..\n",
       "207916_at      0\n",
       "202829_s_at    0\n",
       "214950_at      0\n",
       "208164_s_at    0\n",
       "ERstatus       0\n",
       "Length: 24713, dtype: int64"
      ]
     },
     "execution_count": 102,
     "metadata": {},
     "output_type": "execute_result"
    }
   ],
   "source": [
    "df_final.isna().sum()"
   ]
  },
  {
   "cell_type": "markdown",
   "metadata": {
    "id": "pDL5B9TnIKho"
   },
   "source": [
    "## Imbalance data in the Target Variable"
   ]
  },
  {
   "cell_type": "code",
   "execution_count": 103,
   "metadata": {
    "colab": {
     "base_uri": "https://localhost:8080/",
     "height": 389
    },
    "id": "r_LUTLpRIKho",
    "outputId": "6b05498c-457e-412a-ec55-da0a5c539a5f"
   },
   "outputs": [
    {
     "name": "stdout",
     "output_type": "stream",
     "text": [
      "ER+    213\n",
      "ER-     34\n",
      "Name: ERstatus, dtype: int64\n"
     ]
    },
    {
     "data": {
      "text/plain": [
       "<function matplotlib.pyplot.show(close=None, block=None)>"
      ]
     },
     "execution_count": 103,
     "metadata": {},
     "output_type": "execute_result"
    }
   ],
   "source": [
    "print(df_final['ERstatus'].value_counts())\n",
    "plt.figure(figsize=(1.5,1.5), dpi=227)\n",
    "plt.pie(df_final['ERstatus'].value_counts(), labels=['ER+', 'ER-'], textprops={'fontsize':6}, startangle=0, autopct='%1.1f%%')\n",
    "plt.show"
   ]
  },
  {
   "cell_type": "markdown",
   "metadata": {
    "id": "ThcQvM1QIKho"
   },
   "source": [
    "We could see that the Target Variable has \n",
    "\n",
    "ER+ : 213  &  ER- : 34,\n",
    "\n",
    "Data looks imbalanced. Imbalanced dataset may make the model to perform poor."
   ]
  },
  {
   "cell_type": "code",
   "execution_count": 104,
   "metadata": {
    "id": "kP4LZFvnIKho"
   },
   "outputs": [],
   "source": [
    "from sklearn.linear_model import LinearRegression\n",
    "from sklearn.feature_selection import RFE\n",
    "from sklearn import preprocessing\n",
    "\n",
    "\n",
    "X = df_final.drop(columns = ['probe','ERstatus'],axis=1)\n",
    "Y = df_final['ERstatus']\n",
    "\n",
    "X=X.astype(float)\n",
    "le = preprocessing.LabelEncoder()\n",
    "Y = le.fit_transform(Y)\n"
   ]
  },
  {
   "cell_type": "markdown",
   "metadata": {
    "id": "aIltY26rIKho"
   },
   "source": [
    "Label Encoder is used to encode the categorical value into numerical value in the Target Variable"
   ]
  },
  {
   "cell_type": "code",
   "execution_count": 105,
   "metadata": {
    "colab": {
     "base_uri": "https://localhost:8080/"
    },
    "id": "angkV2ITIKho",
    "outputId": "58b232b7-400b-451c-c9e0-5cfe45983783"
   },
   "outputs": [
    {
     "name": "stdout",
     "output_type": "stream",
     "text": [
      "Original dataset shape Counter({0: 213, 1: 34})\n",
      "Resample dataset shape Counter({0: 213, 1: 213})\n"
     ]
    },
    {
     "data": {
      "text/plain": [
       "(426, 24711)"
      ]
     },
     "execution_count": 105,
     "metadata": {},
     "output_type": "execute_result"
    }
   ],
   "source": [
    "from imblearn.over_sampling import SMOTE\n",
    "from collections import Counter\n",
    "\n",
    "smote = SMOTE()\n",
    "\n",
    "# fit predictor and target variable\n",
    "x_smote, y_smote = smote.fit_resample(X,Y)\n",
    "\n",
    "print('Original dataset shape', Counter(Y))\n",
    "print('Resample dataset shape', Counter(y_smote))\n",
    "x_smote.shape"
   ]
  },
  {
   "cell_type": "markdown",
   "metadata": {
    "id": "F5F4WlVpIKhp"
   },
   "source": [
    "Synthetic Minority Oversampling Technique (SMOTE) is used to balance the dataset.\n",
    "\n",
    "Here, Oversampling is done, since we have less number of samples."
   ]
  },
  {
   "cell_type": "code",
   "execution_count": 106,
   "metadata": {
    "colab": {
     "base_uri": "https://localhost:8080/"
    },
    "id": "6nZhfWMhIKhp",
    "outputId": "b4026677-9c73-4d59-cf64-278685ac732e"
   },
   "outputs": [
    {
     "name": "stdout",
     "output_type": "stream",
     "text": [
      "(426, 24711) (426,)\n"
     ]
    }
   ],
   "source": [
    "print(x_smote.shape, y_smote.shape)"
   ]
  },
  {
   "cell_type": "markdown",
   "metadata": {
    "id": "W52axQX_IKhp"
   },
   "source": [
    "We could see that the X shape is 426 rows and 24711 columns.\n",
    "More columns can make the model to perform poor, so its better to reject the features, which is highly correlated. \n",
    "\n",
    "Here, we have choosen Forward Feature selection to select the best feature for the target variable - ERstatus."
   ]
  },
  {
   "cell_type": "markdown",
   "metadata": {
    "id": "hSD_e-ceIKhp"
   },
   "source": [
    "### Feature Selection - Forward Feature Selection:"
   ]
  },
  {
   "cell_type": "code",
   "execution_count": 107,
   "metadata": {
    "id": "y_T3T9urIKhp"
   },
   "outputs": [],
   "source": [
    "from sklearn.feature_selection import f_regression\n",
    "ffs = f_regression(x_smote,y_smote)\n",
    "\n",
    "variable = [ ]\n",
    "for i in range(0,len(x_smote.columns)-1):\n",
    "    if ffs[0][i] >=10:\n",
    "       variable.append(x_smote.columns[i])"
   ]
  },
  {
   "cell_type": "code",
   "execution_count": 108,
   "metadata": {
    "colab": {
     "base_uri": "https://localhost:8080/"
    },
    "id": "TyzXE5oYIKhp",
    "outputId": "29b588cc-41a7-422a-9f52-f9c0b94db624"
   },
   "outputs": [
    {
     "data": {
      "text/plain": [
       "(426, 10508)"
      ]
     },
     "execution_count": 108,
     "metadata": {},
     "output_type": "execute_result"
    }
   ],
   "source": [
    "df_best = x_smote[variable]\n",
    "\n",
    "df_best.shape"
   ]
  },
  {
   "cell_type": "markdown",
   "metadata": {
    "id": "SyWeQCi4IKhp"
   },
   "source": [
    "We have choosen f-value as 10. Based on the value, 10502 features were selected out of 24711."
   ]
  },
  {
   "cell_type": "code",
   "execution_count": 109,
   "metadata": {
    "colab": {
     "base_uri": "https://localhost:8080/"
    },
    "id": "hoUMrpUEIKhq",
    "outputId": "e1a96887-b7d6-4efa-80f0-c3b8202ec196"
   },
   "outputs": [
    {
     "name": "stdout",
     "output_type": "stream",
     "text": [
      "<class 'pandas.core.frame.DataFrame'>\n",
      "RangeIndex: 426 entries, 0 to 425\n",
      "Columns: 10508 entries, 205483_s_at to 207647_at\n",
      "dtypes: float64(10508)\n",
      "memory usage: 34.2 MB\n"
     ]
    }
   ],
   "source": [
    "#converting all the datatypes of dataframe to float\n",
    "df_best = df_best.astype(float)\n",
    "df_best.info()"
   ]
  },
  {
   "cell_type": "markdown",
   "metadata": {
    "id": "qh23bOCyIKhq"
   },
   "source": [
    "## Principle component analysis & Naive Bayes:"
   ]
  },
  {
   "cell_type": "markdown",
   "metadata": {
    "id": "RfuUVwfkIKhq"
   },
   "source": [
    "Principle Component Analysis is used to reduce the dimension of the obtained feature(10502).\n",
    "\n",
    "PCA reduce the total features less than or equal to the samples."
   ]
  },
  {
   "cell_type": "code",
   "execution_count": 110,
   "metadata": {
    "id": "qdHNgo-zIKhq"
   },
   "outputs": [],
   "source": [
    "#Naive Bayes model is used here for the classification\n",
    "from sklearn.model_selection import train_test_split\n",
    "from sklearn.metrics import confusion_matrix,classification_report,accuracy_score\n",
    "from sklearn.decomposition import PCA\n",
    "from sklearn.naive_bayes import GaussianNB\n",
    "\n",
    "nb_acc = []\n",
    "val = []\n",
    "acc =0\n",
    "for i in range(10,250,10):\n",
    "\n",
    "  pca = PCA(n_components = i)\n",
    "  x_pca = pca.fit_transform(df_best)\n",
    "  \n",
    "  X_train, X_test, y_train, y_test = train_test_split(x_pca, y_smote, train_size=0.7, random_state=11, shuffle=True) #Train Test Split\n",
    "\n",
    "  #Splitting the training data into training and validation data using K-Fold\n",
    "  acc_score = []\n",
    "  k = 3\n",
    "  kf = KFold(n_splits=k, shuffle=False, random_state=None)\n",
    "  for train_index , test_index in kf.split(X_train):\n",
    "    X_train1 , X_test1 = X_train[train_index,:],X_train[test_index,:]\n",
    "    y_train1 , y_test1 = y_train[train_index] , y_train[test_index]\n",
    "\n",
    "    GNB = GaussianNB()\n",
    "    GNB.fit(X_train1, y_train1)\n",
    "    pred4 = GNB.predict(X_test1)\n",
    "    accuracy = accuracy_score(y_test1,pred4)*100\n",
    "    acc_score.append(accuracy)\n",
    "     \n",
    "  avg_acc_score = sum(acc_score)/k\n",
    "  nb_acc.append(avg_acc_score)\n",
    "  val.append(i)\n",
    "  if (acc < avg_acc_score):\n",
    "    acc = avg_acc_score\n",
    "    best_feat = i\n",
    "    best_pca = x_pca"
   ]
  },
  {
   "cell_type": "markdown",
   "metadata": {
    "id": "g_cz-lTcIKhq"
   },
   "source": [
    "Here, K-Fold cross validation is used for the training and validating the data with the best number of features which we have choosen from the above.\n",
    "\n",
    "This helps the model to avoid overfitting"
   ]
  },
  {
   "cell_type": "markdown",
   "metadata": {
    "id": "FwMfXtdtIKhq"
   },
   "source": [
    "## Visualising and selecting the best number of features"
   ]
  },
  {
   "cell_type": "code",
   "execution_count": 111,
   "metadata": {
    "colab": {
     "base_uri": "https://localhost:8080/",
     "height": 406
    },
    "id": "RtJPV0rBIKhq",
    "outputId": "d38a3c2d-bcda-4aa7-b611-c2d6c5cb2c36"
   },
   "outputs": [
    {
     "name": "stdout",
     "output_type": "stream",
     "text": [
      "Maximum Accuracy is  97.993265993266  Best number of features :  100\n"
     ]
    },
    {
     "name": "stderr",
     "output_type": "stream",
     "text": [
      "C:\\Users\\kvman\\anaconda3\\lib\\site-packages\\seaborn\\_decorators.py:36: FutureWarning: Pass the following variables as keyword args: x, y. From version 0.12, the only valid positional argument will be `data`, and passing other arguments without an explicit keyword will result in an error or misinterpretation.\n",
      "  warnings.warn(\n"
     ]
    }
   ],
   "source": [
    "plt.figure(figsize=(18,5))\n",
    "#plt.bar(models,accuracies)\n",
    "plt.xlabel(\"Number of Features\")\n",
    "plt.ylabel(\"Accuracy in %\")\n",
    "sns.barplot(val,svr_acc)\n",
    "print(\"Maximum Accuracy is \",acc, \" Best number of features : \", best_feat)"
   ]
  },
  {
   "cell_type": "markdown",
   "metadata": {
    "id": "xkvE7mTCIKhq"
   },
   "source": [
    "### Predicting the Test Data"
   ]
  },
  {
   "cell_type": "code",
   "execution_count": 112,
   "metadata": {
    "colab": {
     "base_uri": "https://localhost:8080/"
    },
    "id": "Mji1zsTvIKhq",
    "outputId": "791cc032-bfc6-429b-b760-7df8b2c807f4"
   },
   "outputs": [
    {
     "data": {
      "text/plain": [
       "100.0"
      ]
     },
     "execution_count": 112,
     "metadata": {},
     "output_type": "execute_result"
    }
   ],
   "source": [
    "accuracy_score(y_test,GNB.predict(X_test))*100"
   ]
  },
  {
   "cell_type": "markdown",
   "metadata": {
    "id": "UPSkVaeVIKhr"
   },
   "source": [
    "Conclusion:\n",
    "\n",
    "Model Performs good in both Training and Testing data.\n",
    "\n",
    "Required Number of features to achieve good accuracy = **210**\n",
    "\n",
    "Training Accuracy =**99%**\n",
    "\n",
    "Testing Accuracy = **98%**"
   ]
  },
  {
   "cell_type": "markdown",
   "metadata": {
    "id": "m7P5FeAkJYKf"
   },
   "source": [
    "# 8. Target Variable - DSS:"
   ]
  },
  {
   "cell_type": "code",
   "execution_count": 113,
   "metadata": {
    "id": "euDCNOnyJYKm"
   },
   "outputs": [],
   "source": [
    "df = df_main.copy()\n",
    "df1 =df_output.copy()"
   ]
  },
  {
   "cell_type": "markdown",
   "metadata": {
    "id": "jQaUwFuSJYKm"
   },
   "source": [
    "### Combining both Input data and Output data(DSS)"
   ]
  },
  {
   "cell_type": "markdown",
   "metadata": {
    "id": "ZExL78TMJYKm"
   },
   "source": [
    "Merging all the input data from the dataframe \"df\" and \"DSS\" variable from the dataframe \"df1\"\n"
   ]
  },
  {
   "cell_type": "code",
   "execution_count": 114,
   "metadata": {
    "id": "m74sEjXeJYKm"
   },
   "outputs": [],
   "source": [
    "df_final = pd.merge(df,df1[['DSS']], left_on=['probe'],right_on=[df1['_PATIENT']],how='inner')"
   ]
  },
  {
   "cell_type": "code",
   "execution_count": 115,
   "metadata": {
    "colab": {
     "base_uri": "https://localhost:8080/",
     "height": 299
    },
    "id": "QIVegvgpJYKm",
    "outputId": "cddc7d94-01d9-4d9d-d278-be2d8a99a435"
   },
   "outputs": [
    {
     "data": {
      "text/html": [
       "<div>\n",
       "<style scoped>\n",
       "    .dataframe tbody tr th:only-of-type {\n",
       "        vertical-align: middle;\n",
       "    }\n",
       "\n",
       "    .dataframe tbody tr th {\n",
       "        vertical-align: top;\n",
       "    }\n",
       "\n",
       "    .dataframe thead th {\n",
       "        text-align: right;\n",
       "    }\n",
       "</style>\n",
       "<table border=\"1\" class=\"dataframe\">\n",
       "  <thead>\n",
       "    <tr style=\"text-align: right;\">\n",
       "      <th></th>\n",
       "      <th>probe</th>\n",
       "      <th>211050_x_at</th>\n",
       "      <th>220399_at</th>\n",
       "      <th>202115_s_at</th>\n",
       "      <th>224501_at</th>\n",
       "      <th>227347_x_at</th>\n",
       "      <th>205483_s_at</th>\n",
       "      <th>212283_at</th>\n",
       "      <th>212285_s_at</th>\n",
       "      <th>217419_x_at</th>\n",
       "      <th>...</th>\n",
       "      <th>208331_at</th>\n",
       "      <th>211461_at</th>\n",
       "      <th>232402_at</th>\n",
       "      <th>207647_at</th>\n",
       "      <th>207646_s_at</th>\n",
       "      <th>207916_at</th>\n",
       "      <th>202829_s_at</th>\n",
       "      <th>214950_at</th>\n",
       "      <th>208164_s_at</th>\n",
       "      <th>DSS</th>\n",
       "    </tr>\n",
       "  </thead>\n",
       "  <tbody>\n",
       "    <tr>\n",
       "      <th>0</th>\n",
       "      <td>X100B08</td>\n",
       "      <td>-0.60609845997949</td>\n",
       "      <td>0.297761884637424</td>\n",
       "      <td>-0.0207199586993729</td>\n",
       "      <td>0.0191163830257484</td>\n",
       "      <td>0.217003285274825</td>\n",
       "      <td>-0.959765619734105</td>\n",
       "      <td>0.31905965380238</td>\n",
       "      <td>0.26743053282687</td>\n",
       "      <td>0.0546245393746343</td>\n",
       "      <td>...</td>\n",
       "      <td>0.677886</td>\n",
       "      <td>0.294886</td>\n",
       "      <td>0.334739</td>\n",
       "      <td>-0.922423</td>\n",
       "      <td>0.525822</td>\n",
       "      <td>0.65593</td>\n",
       "      <td>-0.373383</td>\n",
       "      <td>0.533709</td>\n",
       "      <td>0.9551</td>\n",
       "      <td>AliveOrCensored</td>\n",
       "    </tr>\n",
       "    <tr>\n",
       "      <th>1</th>\n",
       "      <td>X101B88</td>\n",
       "      <td>-0.71211732736651</td>\n",
       "      <td>0.108554028539094</td>\n",
       "      <td>-0.329812842420013</td>\n",
       "      <td>-0.508559867759712</td>\n",
       "      <td>0.750268555716166</td>\n",
       "      <td>-0.739373617253365</td>\n",
       "      <td>-0.63507596067365</td>\n",
       "      <td>0.404148351178069</td>\n",
       "      <td>0.553476301226864</td>\n",
       "      <td>...</td>\n",
       "      <td>-0.37717</td>\n",
       "      <td>-0.146836</td>\n",
       "      <td>-0.027103</td>\n",
       "      <td>0.108189</td>\n",
       "      <td>-0.108456</td>\n",
       "      <td>0.800626</td>\n",
       "      <td>0.0473873</td>\n",
       "      <td>-0.630866</td>\n",
       "      <td>0.550008</td>\n",
       "      <td>AliveOrCensored</td>\n",
       "    </tr>\n",
       "    <tr>\n",
       "      <th>2</th>\n",
       "      <td>X102B06</td>\n",
       "      <td>-0.24902371657542</td>\n",
       "      <td>0.529915688630775</td>\n",
       "      <td>-0.455559869614984</td>\n",
       "      <td>0.0562016961050977</td>\n",
       "      <td>0.469504094265635</td>\n",
       "      <td>0.436695502974866</td>\n",
       "      <td>0.253222377924609</td>\n",
       "      <td>0.236893737236249</td>\n",
       "      <td>0.263843536673264</td>\n",
       "      <td>...</td>\n",
       "      <td>-0.264924</td>\n",
       "      <td>-0.403073</td>\n",
       "      <td>-0.273291</td>\n",
       "      <td>0.408303</td>\n",
       "      <td>0.256424</td>\n",
       "      <td>0.0524039</td>\n",
       "      <td>-0.0767656</td>\n",
       "      <td>0.170939</td>\n",
       "      <td>-0.016254</td>\n",
       "      <td>AliveOrCensored</td>\n",
       "    </tr>\n",
       "    <tr>\n",
       "      <th>3</th>\n",
       "      <td>X103B41</td>\n",
       "      <td>0.47339419538929</td>\n",
       "      <td>-0.0236977596184555</td>\n",
       "      <td>0.335866503578156</td>\n",
       "      <td>-0.0112785620922615</td>\n",
       "      <td>-0.182405554283685</td>\n",
       "      <td>0.913890761259296</td>\n",
       "      <td>0.134584773097739</td>\n",
       "      <td>0.46841163348552</td>\n",
       "      <td>0.508556696455114</td>\n",
       "      <td>...</td>\n",
       "      <td>-0.182134</td>\n",
       "      <td>-0.132613</td>\n",
       "      <td>0.314508</td>\n",
       "      <td>0.147834</td>\n",
       "      <td>-0.766659</td>\n",
       "      <td>-1.51796</td>\n",
       "      <td>0.487872</td>\n",
       "      <td>0.394624</td>\n",
       "      <td>0.440938</td>\n",
       "      <td>NaN</td>\n",
       "    </tr>\n",
       "    <tr>\n",
       "      <th>4</th>\n",
       "      <td>X104B91</td>\n",
       "      <td>-0.54907184258026</td>\n",
       "      <td>-0.240674552924416</td>\n",
       "      <td>0.0914735642808466</td>\n",
       "      <td>0.189045651599998</td>\n",
       "      <td>-0.472259746631345</td>\n",
       "      <td>1.18484495173342</td>\n",
       "      <td>0.204097424289389</td>\n",
       "      <td>0.397235706101899</td>\n",
       "      <td>0.107319891585904</td>\n",
       "      <td>...</td>\n",
       "      <td>-0.0511183</td>\n",
       "      <td>-0.149773</td>\n",
       "      <td>-0.304061</td>\n",
       "      <td>-1.2299</td>\n",
       "      <td>-0.000545084</td>\n",
       "      <td>0.574513</td>\n",
       "      <td>0.597032</td>\n",
       "      <td>0.196972</td>\n",
       "      <td>0.120323</td>\n",
       "      <td>AliveOrCensored</td>\n",
       "    </tr>\n",
       "  </tbody>\n",
       "</table>\n",
       "<p>5 rows × 24713 columns</p>\n",
       "</div>"
      ],
      "text/plain": [
       "     probe        211050_x_at            220399_at          202115_s_at  \\\n",
       "0  X100B08  -0.60609845997949    0.297761884637424  -0.0207199586993729   \n",
       "1  X101B88  -0.71211732736651    0.108554028539094   -0.329812842420013   \n",
       "2  X102B06  -0.24902371657542    0.529915688630775   -0.455559869614984   \n",
       "3  X103B41   0.47339419538929  -0.0236977596184555    0.335866503578156   \n",
       "4  X104B91  -0.54907184258026   -0.240674552924416   0.0914735642808466   \n",
       "\n",
       "             224501_at         227347_x_at         205483_s_at  \\\n",
       "0   0.0191163830257484   0.217003285274825  -0.959765619734105   \n",
       "1   -0.508559867759712   0.750268555716166  -0.739373617253365   \n",
       "2   0.0562016961050977   0.469504094265635   0.436695502974866   \n",
       "3  -0.0112785620922615  -0.182405554283685   0.913890761259296   \n",
       "4    0.189045651599998  -0.472259746631345    1.18484495173342   \n",
       "\n",
       "           212283_at        212285_s_at         217419_x_at  ...  208331_at  \\\n",
       "0   0.31905965380238   0.26743053282687  0.0546245393746343  ...   0.677886   \n",
       "1  -0.63507596067365  0.404148351178069   0.553476301226864  ...   -0.37717   \n",
       "2  0.253222377924609  0.236893737236249   0.263843536673264  ...  -0.264924   \n",
       "3  0.134584773097739   0.46841163348552   0.508556696455114  ...  -0.182134   \n",
       "4  0.204097424289389  0.397235706101899   0.107319891585904  ... -0.0511183   \n",
       "\n",
       "  211461_at 232402_at 207647_at  207646_s_at  207916_at 202829_s_at 214950_at  \\\n",
       "0  0.294886  0.334739 -0.922423     0.525822    0.65593   -0.373383  0.533709   \n",
       "1 -0.146836 -0.027103  0.108189    -0.108456   0.800626   0.0473873 -0.630866   \n",
       "2 -0.403073 -0.273291  0.408303     0.256424  0.0524039  -0.0767656  0.170939   \n",
       "3 -0.132613  0.314508  0.147834    -0.766659   -1.51796    0.487872  0.394624   \n",
       "4 -0.149773 -0.304061   -1.2299 -0.000545084   0.574513    0.597032  0.196972   \n",
       "\n",
       "  208164_s_at              DSS  \n",
       "0      0.9551  AliveOrCensored  \n",
       "1    0.550008  AliveOrCensored  \n",
       "2   -0.016254  AliveOrCensored  \n",
       "3    0.440938              NaN  \n",
       "4    0.120323  AliveOrCensored  \n",
       "\n",
       "[5 rows x 24713 columns]"
      ]
     },
     "execution_count": 115,
     "metadata": {},
     "output_type": "execute_result"
    }
   ],
   "source": [
    "df_final.head()"
   ]
  },
  {
   "cell_type": "markdown",
   "metadata": {
    "id": "EzrpoFkOKP5O"
   },
   "source": [
    "## Missing Values"
   ]
  },
  {
   "cell_type": "markdown",
   "metadata": {
    "id": "KPutZffWKP5U"
   },
   "source": [
    "Removing the missing values"
   ]
  },
  {
   "cell_type": "code",
   "execution_count": 116,
   "metadata": {
    "colab": {
     "base_uri": "https://localhost:8080/"
    },
    "id": "3gqjvcruKP5V",
    "outputId": "54385dd0-d18f-491e-9be0-9832bf462734"
   },
   "outputs": [
    {
     "data": {
      "text/plain": [
       "probe           0\n",
       "211050_x_at     0\n",
       "220399_at       0\n",
       "202115_s_at     0\n",
       "224501_at       0\n",
       "               ..\n",
       "207916_at       0\n",
       "202829_s_at     0\n",
       "214950_at       0\n",
       "208164_s_at     0\n",
       "DSS            15\n",
       "Length: 24713, dtype: int64"
      ]
     },
     "execution_count": 116,
     "metadata": {},
     "output_type": "execute_result"
    }
   ],
   "source": [
    "df_final.isna().sum()"
   ]
  },
  {
   "cell_type": "code",
   "execution_count": 117,
   "metadata": {
    "id": "R_EnOiGDKP5V"
   },
   "outputs": [],
   "source": [
    "df_final['DSS'] = df_final['DSS'].dropna()"
   ]
  },
  {
   "cell_type": "code",
   "execution_count": 118,
   "metadata": {
    "colab": {
     "base_uri": "https://localhost:8080/"
    },
    "id": "mH8oCTuIKP5V",
    "outputId": "418fb572-8adc-462e-992b-ca8719c2d353"
   },
   "outputs": [
    {
     "data": {
      "text/plain": [
       "probe           0\n",
       "211050_x_at     0\n",
       "220399_at       0\n",
       "202115_s_at     0\n",
       "224501_at       0\n",
       "               ..\n",
       "207916_at       0\n",
       "202829_s_at     0\n",
       "214950_at       0\n",
       "208164_s_at     0\n",
       "DSS            15\n",
       "Length: 24713, dtype: int64"
      ]
     },
     "execution_count": 118,
     "metadata": {},
     "output_type": "execute_result"
    }
   ],
   "source": [
    "df_final.isna().sum()"
   ]
  },
  {
   "cell_type": "markdown",
   "metadata": {
    "id": "Mq8W5jnOJYKm"
   },
   "source": [
    "## Imbalance data in the Target Variable"
   ]
  },
  {
   "cell_type": "code",
   "execution_count": 119,
   "metadata": {
    "colab": {
     "base_uri": "https://localhost:8080/",
     "height": 389
    },
    "id": "GUYPRFtUJYKm",
    "outputId": "ace23cc0-3bfe-4225-ad3d-e9fa8cb6c578"
   },
   "outputs": [
    {
     "name": "stdout",
     "output_type": "stream",
     "text": [
      "AliveOrCensored    181\n",
      "DeathFromCancer     55\n",
      "Name: DSS, dtype: int64\n"
     ]
    },
    {
     "data": {
      "text/plain": [
       "<function matplotlib.pyplot.show(close=None, block=None)>"
      ]
     },
     "execution_count": 119,
     "metadata": {},
     "output_type": "execute_result"
    }
   ],
   "source": [
    "print(df_final['DSS'].value_counts())\n",
    "plt.figure(figsize=(1.5,1.5), dpi=227)\n",
    "plt.pie(df_final['DSS'].value_counts(), labels=['AliveOrCensored', 'DeathFromCancer'], textprops={'fontsize':6}, startangle=0, autopct='%1.1f%%')\n",
    "plt.show"
   ]
  },
  {
   "cell_type": "markdown",
   "metadata": {
    "id": "bxfbn2_8JYKn"
   },
   "source": [
    "We could see that the Target Variable has \n",
    "\n",
    "AliveOrCensored    181\n",
    "DeathFromCancer     55,\n",
    "\n",
    "Data looks imbalanced. Imbalanced dataset may make the model to perform poor."
   ]
  },
  {
   "cell_type": "code",
   "execution_count": 120,
   "metadata": {
    "id": "3ZfdD1IaJYKn"
   },
   "outputs": [],
   "source": [
    "from sklearn.linear_model import LinearRegression\n",
    "from sklearn.feature_selection import RFE\n",
    "from sklearn import preprocessing\n",
    "\n",
    "\n",
    "X = df_final.drop(columns = ['probe','DSS'],axis=1)\n",
    "Y = df_final['DSS']\n",
    "\n",
    "X=X.astype(float)\n",
    "le = preprocessing.LabelEncoder()\n",
    "Y = le.fit_transform(Y)\n"
   ]
  },
  {
   "cell_type": "markdown",
   "metadata": {
    "id": "8CfuAFtLJYKn"
   },
   "source": [
    "Label Encoder is used to encode the categorical value into numerical value in the Target Variable"
   ]
  },
  {
   "cell_type": "code",
   "execution_count": 121,
   "metadata": {
    "colab": {
     "base_uri": "https://localhost:8080/"
    },
    "id": "1V211qCdJYKn",
    "outputId": "978cec06-9e51-4cc4-e393-c664f0d80e92"
   },
   "outputs": [
    {
     "name": "stdout",
     "output_type": "stream",
     "text": [
      "Original dataset shape Counter({0: 181, 1: 55, 2: 15})\n",
      "Resample dataset shape Counter({0: 181, 2: 181, 1: 181})\n"
     ]
    },
    {
     "data": {
      "text/plain": [
       "(543, 24711)"
      ]
     },
     "execution_count": 121,
     "metadata": {},
     "output_type": "execute_result"
    }
   ],
   "source": [
    "from imblearn.over_sampling import SMOTE\n",
    "from collections import Counter\n",
    "\n",
    "smote = SMOTE()\n",
    "\n",
    "# fit predictor and target variable\n",
    "x_smote, y_smote = smote.fit_resample(X,Y)\n",
    "\n",
    "print('Original dataset shape', Counter(Y))\n",
    "print('Resample dataset shape', Counter(y_smote))\n",
    "x_smote.shape"
   ]
  },
  {
   "cell_type": "markdown",
   "metadata": {
    "id": "9CL5JwhtJYKn"
   },
   "source": [
    "Synthetic Minority Oversampling Technique (SMOTE) is used to balance the dataset.\n",
    "\n",
    "Here, Oversampling is done, since we have less number of samples."
   ]
  },
  {
   "cell_type": "code",
   "execution_count": 122,
   "metadata": {
    "colab": {
     "base_uri": "https://localhost:8080/"
    },
    "id": "5FriFSlYJYKn",
    "outputId": "498daadd-7df2-4b64-f24d-f73235ab764f"
   },
   "outputs": [
    {
     "name": "stdout",
     "output_type": "stream",
     "text": [
      "(543, 24711) (543,)\n"
     ]
    }
   ],
   "source": [
    "print(x_smote.shape, y_smote.shape)"
   ]
  },
  {
   "cell_type": "markdown",
   "metadata": {
    "id": "OL1VZe3kJYKn"
   },
   "source": [
    "We could see that the X shape is 543 rows and 24711 columns.\n",
    "More columns can make the model to perform poor, so its better to reject the features, which is highly correlated. \n",
    "\n",
    "Here, we have choosen Forward Feature selection to select the best feature for the target variable - DSS."
   ]
  },
  {
   "cell_type": "markdown",
   "metadata": {
    "id": "o47YPylbJYKn"
   },
   "source": [
    "### Feature Selection - Forward Feature Selection:"
   ]
  },
  {
   "cell_type": "code",
   "execution_count": 123,
   "metadata": {
    "id": "bEuVo9ZMJYKo"
   },
   "outputs": [],
   "source": [
    "from sklearn.feature_selection import f_regression\n",
    "ffs = f_regression(x_smote,y_smote)\n",
    "\n",
    "variable = [ ]\n",
    "for i in range(0,len(x_smote.columns)-1):\n",
    "    if ffs[0][i] >=10:\n",
    "       variable.append(x_smote.columns[i])"
   ]
  },
  {
   "cell_type": "code",
   "execution_count": 124,
   "metadata": {
    "colab": {
     "base_uri": "https://localhost:8080/"
    },
    "id": "ADFXAqeLJYKo",
    "outputId": "5512f0a0-3372-40c4-e374-b069dc147669"
   },
   "outputs": [
    {
     "data": {
      "text/plain": [
       "(543, 5879)"
      ]
     },
     "execution_count": 124,
     "metadata": {},
     "output_type": "execute_result"
    }
   ],
   "source": [
    "df_best = x_smote[variable]\n",
    "\n",
    "df_best.shape"
   ]
  },
  {
   "cell_type": "markdown",
   "metadata": {
    "id": "Nb6JhljIJYKo"
   },
   "source": [
    "We have choosen f-value as 10. Based on the value, 6580 features were selected out of 24711."
   ]
  },
  {
   "cell_type": "code",
   "execution_count": 125,
   "metadata": {
    "colab": {
     "base_uri": "https://localhost:8080/"
    },
    "id": "snrNUFLHJYKo",
    "outputId": "95e54363-d868-4d6d-871e-b3f5175e167a"
   },
   "outputs": [
    {
     "name": "stdout",
     "output_type": "stream",
     "text": [
      "<class 'pandas.core.frame.DataFrame'>\n",
      "RangeIndex: 543 entries, 0 to 542\n",
      "Columns: 5879 entries, 211050_x_at to 214950_at\n",
      "dtypes: float64(5879)\n",
      "memory usage: 24.4 MB\n"
     ]
    }
   ],
   "source": [
    "#converting all the datatypes of dataframe to float\n",
    "df_best = df_best.astype(float)\n",
    "df_best.info()"
   ]
  },
  {
   "cell_type": "markdown",
   "metadata": {
    "id": "s4c6-wDmJYKo"
   },
   "source": [
    "## Principle component analysis & SVC:"
   ]
  },
  {
   "cell_type": "markdown",
   "metadata": {
    "id": "kDE5_ICUJYKo"
   },
   "source": [
    "Principle Component Analysis is used to reduce the dimension of the obtained feature(6580).\n",
    "\n",
    "PCA reduce the total features less than or equal to the samples."
   ]
  },
  {
   "cell_type": "code",
   "execution_count": 126,
   "metadata": {
    "id": "w7Y_ucQWJYKo"
   },
   "outputs": [],
   "source": [
    "from re import A\n",
    "#Support Vector Classification (SVC) model is used here for the classification\n",
    "from sklearn import svm\n",
    "from sklearn.model_selection import train_test_split\n",
    "from sklearn.metrics import confusion_matrix,classification_report,accuracy_score\n",
    "from sklearn.decomposition import PCA\n",
    "\n",
    "svr_acc = []\n",
    "val = []\n",
    "acc =0\n",
    "for i in range(10,250,10):\n",
    "\n",
    "  pca = PCA(n_components = i)\n",
    "  x_pca = pca.fit_transform(df_best)\n",
    "  \n",
    "  X_train, X_test, y_train, y_test = train_test_split(x_pca, y_smote, train_size=0.7, random_state=11, shuffle=True) #Train Test Split\n",
    "\n",
    "  #Splitting the training data into training and validation data using K-Fold\n",
    "  acc_score = []\n",
    "  k = 3\n",
    "  kf = KFold(n_splits=k, shuffle=False, random_state=None)\n",
    "  for train_index , test_index in kf.split(X_train):\n",
    "    X_train1 , X_test1 = X_train[train_index,:],X_train[test_index,:]\n",
    "    y_train1 , y_test1 = y_train[train_index] , y_train[test_index]\n",
    "\n",
    "    svc = svm.SVC(kernel='rbf', C =10)\n",
    "    svc.fit(X_train1,y_train1)\n",
    "    pred3 = svc.predict(X_test1)\n",
    "    accuracy = accuracy_score(y_test1,pred3)*100\n",
    "    acc_score.append(accuracy)\n",
    "     \n",
    "  avg_acc_score = sum(acc_score)/k\n",
    "  svr_acc.append(avg_acc_score)\n",
    "  val.append(i)\n",
    "  if (acc < avg_acc_score):\n",
    "    acc = avg_acc_score\n",
    "    best_feat = i\n",
    "    best_pca = x_pca"
   ]
  },
  {
   "cell_type": "markdown",
   "metadata": {
    "id": "W_cNjZ0XJYKp"
   },
   "source": [
    "Here, K-Fold cross validation is used for the training and validating the data with the best number of features which we have choosen from the above.\n",
    "\n",
    "This helps the model to avoid overfitting"
   ]
  },
  {
   "cell_type": "markdown",
   "metadata": {
    "id": "26DMTQsAJYKp"
   },
   "source": [
    "## Visualising and selecting the best number of features"
   ]
  },
  {
   "cell_type": "code",
   "execution_count": 127,
   "metadata": {
    "colab": {
     "base_uri": "https://localhost:8080/",
     "height": 407
    },
    "id": "Bjt0WIWHJYKp",
    "outputId": "4affd452-a3fb-4caf-985e-fc6d7c3e24b4"
   },
   "outputs": [
    {
     "name": "stdout",
     "output_type": "stream",
     "text": [
      "Maximum Accuracy is  97.62737991084447  Best number of features :  80\n"
     ]
    },
    {
     "name": "stderr",
     "output_type": "stream",
     "text": [
      "C:\\Users\\kvman\\anaconda3\\lib\\site-packages\\seaborn\\_decorators.py:36: FutureWarning: Pass the following variables as keyword args: x, y. From version 0.12, the only valid positional argument will be `data`, and passing other arguments without an explicit keyword will result in an error or misinterpretation.\n",
      "  warnings.warn(\n"
     ]
    }
   ],
   "source": [
    "plt.figure(figsize=(18,5))\n",
    "#plt.bar(models,accuracies)\n",
    "plt.xlabel(\"Number of Features\")\n",
    "plt.ylabel(\"Accuracy in %\")\n",
    "sns.barplot(val,svr_acc)\n",
    "print(\"Maximum Accuracy is \",acc, \" Best number of features : \", best_feat)"
   ]
  },
  {
   "cell_type": "markdown",
   "metadata": {
    "id": "Y3iOK3WeJYKp"
   },
   "source": [
    "### Predicting the Test Data"
   ]
  },
  {
   "cell_type": "code",
   "execution_count": 128,
   "metadata": {
    "colab": {
     "base_uri": "https://localhost:8080/"
    },
    "id": "yc6Anr8iJYKp",
    "outputId": "c479f2d5-f574-4a21-9cb3-45cba0e6ad3d"
   },
   "outputs": [
    {
     "data": {
      "text/plain": [
       "95.0920245398773"
      ]
     },
     "execution_count": 128,
     "metadata": {},
     "output_type": "execute_result"
    }
   ],
   "source": [
    "accuracy_score(y_test,svc.predict(X_test))*100"
   ]
  },
  {
   "cell_type": "markdown",
   "metadata": {
    "id": "D-w4-_oKJYKp"
   },
   "source": [
    "Conclusion:\n",
    "\n",
    "Model Performs good in both Training and Testing data.\n",
    "\n",
    "Required Number of features to achieve good accuracy = **70**\n",
    "\n",
    "Training Accuracy =**96%**\n",
    "\n",
    "Testing Accuracy = **92%**"
   ]
  },
  {
   "cell_type": "markdown",
   "metadata": {
    "id": "aaMDyzGgK6wv"
   },
   "source": [
    "# 9. Target Variable - TumorSize:"
   ]
  },
  {
   "cell_type": "code",
   "execution_count": 129,
   "metadata": {
    "id": "KKG5ZHb0K6w2"
   },
   "outputs": [],
   "source": [
    "df = df_main.copy()\n",
    "df1 =df_output.copy()"
   ]
  },
  {
   "cell_type": "markdown",
   "metadata": {
    "id": "kZaRqZHdK6w2"
   },
   "source": [
    "### Combining both Input data and Output data(TumorSize)"
   ]
  },
  {
   "cell_type": "markdown",
   "metadata": {
    "id": "dg2d6s2AK6w2"
   },
   "source": [
    "Merging all the input data from the dataframe \"df\" and \"TumorSize\" variable from the dataframe \"df1\"\n"
   ]
  },
  {
   "cell_type": "code",
   "execution_count": 130,
   "metadata": {
    "id": "TeYioFLOK6w2"
   },
   "outputs": [],
   "source": [
    "df_final = pd.merge(df,df1[['TumorSize']], left_on=['probe'],right_on=[df1['_PATIENT']],how='inner')"
   ]
  },
  {
   "cell_type": "code",
   "execution_count": 131,
   "metadata": {
    "colab": {
     "base_uri": "https://localhost:8080/",
     "height": 299
    },
    "id": "Qup_9eE-K6w3",
    "outputId": "fc6c0138-ab75-4ae1-b59a-f61b16f49514"
   },
   "outputs": [
    {
     "data": {
      "text/html": [
       "<div>\n",
       "<style scoped>\n",
       "    .dataframe tbody tr th:only-of-type {\n",
       "        vertical-align: middle;\n",
       "    }\n",
       "\n",
       "    .dataframe tbody tr th {\n",
       "        vertical-align: top;\n",
       "    }\n",
       "\n",
       "    .dataframe thead th {\n",
       "        text-align: right;\n",
       "    }\n",
       "</style>\n",
       "<table border=\"1\" class=\"dataframe\">\n",
       "  <thead>\n",
       "    <tr style=\"text-align: right;\">\n",
       "      <th></th>\n",
       "      <th>probe</th>\n",
       "      <th>211050_x_at</th>\n",
       "      <th>220399_at</th>\n",
       "      <th>202115_s_at</th>\n",
       "      <th>224501_at</th>\n",
       "      <th>227347_x_at</th>\n",
       "      <th>205483_s_at</th>\n",
       "      <th>212283_at</th>\n",
       "      <th>212285_s_at</th>\n",
       "      <th>217419_x_at</th>\n",
       "      <th>...</th>\n",
       "      <th>208331_at</th>\n",
       "      <th>211461_at</th>\n",
       "      <th>232402_at</th>\n",
       "      <th>207647_at</th>\n",
       "      <th>207646_s_at</th>\n",
       "      <th>207916_at</th>\n",
       "      <th>202829_s_at</th>\n",
       "      <th>214950_at</th>\n",
       "      <th>208164_s_at</th>\n",
       "      <th>TumorSize</th>\n",
       "    </tr>\n",
       "  </thead>\n",
       "  <tbody>\n",
       "    <tr>\n",
       "      <th>0</th>\n",
       "      <td>X100B08</td>\n",
       "      <td>-0.60609845997949</td>\n",
       "      <td>0.297761884637424</td>\n",
       "      <td>-0.0207199586993729</td>\n",
       "      <td>0.0191163830257484</td>\n",
       "      <td>0.217003285274825</td>\n",
       "      <td>-0.959765619734105</td>\n",
       "      <td>0.31905965380238</td>\n",
       "      <td>0.26743053282687</td>\n",
       "      <td>0.0546245393746343</td>\n",
       "      <td>...</td>\n",
       "      <td>0.677886</td>\n",
       "      <td>0.294886</td>\n",
       "      <td>0.334739</td>\n",
       "      <td>-0.922423</td>\n",
       "      <td>0.525822</td>\n",
       "      <td>0.65593</td>\n",
       "      <td>-0.373383</td>\n",
       "      <td>0.533709</td>\n",
       "      <td>0.9551</td>\n",
       "      <td>9.0</td>\n",
       "    </tr>\n",
       "    <tr>\n",
       "      <th>1</th>\n",
       "      <td>X101B88</td>\n",
       "      <td>-0.71211732736651</td>\n",
       "      <td>0.108554028539094</td>\n",
       "      <td>-0.329812842420013</td>\n",
       "      <td>-0.508559867759712</td>\n",
       "      <td>0.750268555716166</td>\n",
       "      <td>-0.739373617253365</td>\n",
       "      <td>-0.63507596067365</td>\n",
       "      <td>0.404148351178069</td>\n",
       "      <td>0.553476301226864</td>\n",
       "      <td>...</td>\n",
       "      <td>-0.37717</td>\n",
       "      <td>-0.146836</td>\n",
       "      <td>-0.027103</td>\n",
       "      <td>0.108189</td>\n",
       "      <td>-0.108456</td>\n",
       "      <td>0.800626</td>\n",
       "      <td>0.0473873</td>\n",
       "      <td>-0.630866</td>\n",
       "      <td>0.550008</td>\n",
       "      <td>12.0</td>\n",
       "    </tr>\n",
       "    <tr>\n",
       "      <th>2</th>\n",
       "      <td>X102B06</td>\n",
       "      <td>-0.24902371657542</td>\n",
       "      <td>0.529915688630775</td>\n",
       "      <td>-0.455559869614984</td>\n",
       "      <td>0.0562016961050977</td>\n",
       "      <td>0.469504094265635</td>\n",
       "      <td>0.436695502974866</td>\n",
       "      <td>0.253222377924609</td>\n",
       "      <td>0.236893737236249</td>\n",
       "      <td>0.263843536673264</td>\n",
       "      <td>...</td>\n",
       "      <td>-0.264924</td>\n",
       "      <td>-0.403073</td>\n",
       "      <td>-0.273291</td>\n",
       "      <td>0.408303</td>\n",
       "      <td>0.256424</td>\n",
       "      <td>0.0524039</td>\n",
       "      <td>-0.0767656</td>\n",
       "      <td>0.170939</td>\n",
       "      <td>-0.016254</td>\n",
       "      <td>26.0</td>\n",
       "    </tr>\n",
       "    <tr>\n",
       "      <th>3</th>\n",
       "      <td>X103B41</td>\n",
       "      <td>0.47339419538929</td>\n",
       "      <td>-0.0236977596184555</td>\n",
       "      <td>0.335866503578156</td>\n",
       "      <td>-0.0112785620922615</td>\n",
       "      <td>-0.182405554283685</td>\n",
       "      <td>0.913890761259296</td>\n",
       "      <td>0.134584773097739</td>\n",
       "      <td>0.46841163348552</td>\n",
       "      <td>0.508556696455114</td>\n",
       "      <td>...</td>\n",
       "      <td>-0.182134</td>\n",
       "      <td>-0.132613</td>\n",
       "      <td>0.314508</td>\n",
       "      <td>0.147834</td>\n",
       "      <td>-0.766659</td>\n",
       "      <td>-1.51796</td>\n",
       "      <td>0.487872</td>\n",
       "      <td>0.394624</td>\n",
       "      <td>0.440938</td>\n",
       "      <td>22.0</td>\n",
       "    </tr>\n",
       "    <tr>\n",
       "      <th>4</th>\n",
       "      <td>X104B91</td>\n",
       "      <td>-0.54907184258026</td>\n",
       "      <td>-0.240674552924416</td>\n",
       "      <td>0.0914735642808466</td>\n",
       "      <td>0.189045651599998</td>\n",
       "      <td>-0.472259746631345</td>\n",
       "      <td>1.18484495173342</td>\n",
       "      <td>0.204097424289389</td>\n",
       "      <td>0.397235706101899</td>\n",
       "      <td>0.107319891585904</td>\n",
       "      <td>...</td>\n",
       "      <td>-0.0511183</td>\n",
       "      <td>-0.149773</td>\n",
       "      <td>-0.304061</td>\n",
       "      <td>-1.2299</td>\n",
       "      <td>-0.000545084</td>\n",
       "      <td>0.574513</td>\n",
       "      <td>0.597032</td>\n",
       "      <td>0.196972</td>\n",
       "      <td>0.120323</td>\n",
       "      <td>24.0</td>\n",
       "    </tr>\n",
       "  </tbody>\n",
       "</table>\n",
       "<p>5 rows × 24713 columns</p>\n",
       "</div>"
      ],
      "text/plain": [
       "     probe        211050_x_at            220399_at          202115_s_at  \\\n",
       "0  X100B08  -0.60609845997949    0.297761884637424  -0.0207199586993729   \n",
       "1  X101B88  -0.71211732736651    0.108554028539094   -0.329812842420013   \n",
       "2  X102B06  -0.24902371657542    0.529915688630775   -0.455559869614984   \n",
       "3  X103B41   0.47339419538929  -0.0236977596184555    0.335866503578156   \n",
       "4  X104B91  -0.54907184258026   -0.240674552924416   0.0914735642808466   \n",
       "\n",
       "             224501_at         227347_x_at         205483_s_at  \\\n",
       "0   0.0191163830257484   0.217003285274825  -0.959765619734105   \n",
       "1   -0.508559867759712   0.750268555716166  -0.739373617253365   \n",
       "2   0.0562016961050977   0.469504094265635   0.436695502974866   \n",
       "3  -0.0112785620922615  -0.182405554283685   0.913890761259296   \n",
       "4    0.189045651599998  -0.472259746631345    1.18484495173342   \n",
       "\n",
       "           212283_at        212285_s_at         217419_x_at  ...  208331_at  \\\n",
       "0   0.31905965380238   0.26743053282687  0.0546245393746343  ...   0.677886   \n",
       "1  -0.63507596067365  0.404148351178069   0.553476301226864  ...   -0.37717   \n",
       "2  0.253222377924609  0.236893737236249   0.263843536673264  ...  -0.264924   \n",
       "3  0.134584773097739   0.46841163348552   0.508556696455114  ...  -0.182134   \n",
       "4  0.204097424289389  0.397235706101899   0.107319891585904  ... -0.0511183   \n",
       "\n",
       "  211461_at 232402_at 207647_at  207646_s_at  207916_at 202829_s_at 214950_at  \\\n",
       "0  0.294886  0.334739 -0.922423     0.525822    0.65593   -0.373383  0.533709   \n",
       "1 -0.146836 -0.027103  0.108189    -0.108456   0.800626   0.0473873 -0.630866   \n",
       "2 -0.403073 -0.273291  0.408303     0.256424  0.0524039  -0.0767656  0.170939   \n",
       "3 -0.132613  0.314508  0.147834    -0.766659   -1.51796    0.487872  0.394624   \n",
       "4 -0.149773 -0.304061   -1.2299 -0.000545084   0.574513    0.597032  0.196972   \n",
       "\n",
       "  208164_s_at TumorSize  \n",
       "0      0.9551       9.0  \n",
       "1    0.550008      12.0  \n",
       "2   -0.016254      26.0  \n",
       "3    0.440938      22.0  \n",
       "4    0.120323      24.0  \n",
       "\n",
       "[5 rows x 24713 columns]"
      ]
     },
     "execution_count": 131,
     "metadata": {},
     "output_type": "execute_result"
    }
   ],
   "source": [
    "df_final.head()"
   ]
  },
  {
   "cell_type": "markdown",
   "metadata": {
    "id": "bnzvcVilK6w3"
   },
   "source": [
    "## Missing Values"
   ]
  },
  {
   "cell_type": "markdown",
   "metadata": {
    "id": "qo4jR6s6K6w3"
   },
   "source": [
    "Removing the missing values"
   ]
  },
  {
   "cell_type": "code",
   "execution_count": 132,
   "metadata": {
    "colab": {
     "base_uri": "https://localhost:8080/"
    },
    "id": "U_A4FheVK6w3",
    "outputId": "7d63dba8-13b1-40fc-d399-45da641284c7"
   },
   "outputs": [
    {
     "data": {
      "text/plain": [
       "probe          0\n",
       "211050_x_at    0\n",
       "220399_at      0\n",
       "202115_s_at    0\n",
       "224501_at      0\n",
       "              ..\n",
       "207916_at      0\n",
       "202829_s_at    0\n",
       "214950_at      0\n",
       "208164_s_at    0\n",
       "TumorSize      0\n",
       "Length: 24713, dtype: int64"
      ]
     },
     "execution_count": 132,
     "metadata": {},
     "output_type": "execute_result"
    }
   ],
   "source": [
    "df_final.isna().sum()"
   ]
  },
  {
   "cell_type": "code",
   "execution_count": 133,
   "metadata": {
    "id": "PnUpRNfxK6w4"
   },
   "outputs": [],
   "source": [
    "X = df_final.drop(columns = ['probe','TumorSize'],axis=1)\n",
    "Y = df_final['TumorSize']\n"
   ]
  },
  {
   "cell_type": "code",
   "execution_count": 134,
   "metadata": {
    "colab": {
     "base_uri": "https://localhost:8080/"
    },
    "id": "U753EmfWK6w4",
    "outputId": "d2bed680-1830-45c0-c6f6-8deb83d7499e"
   },
   "outputs": [
    {
     "name": "stdout",
     "output_type": "stream",
     "text": [
      "(251, 24711) (251,)\n"
     ]
    }
   ],
   "source": [
    "print(X.shape, Y.shape)"
   ]
  },
  {
   "cell_type": "markdown",
   "metadata": {
    "id": "rwuzg6gSK6w4"
   },
   "source": [
    "We could see that the X shape is 251 rows and 24711 columns.\n",
    "More columns can make the model to perform poor, so its better to reject the features, which is highly correlated. \n",
    "\n",
    "Here, we have choosen Forward Feature selection to select the best feature for the target variable - TumorSize."
   ]
  },
  {
   "cell_type": "markdown",
   "metadata": {
    "id": "FprFJvbHK6w5"
   },
   "source": [
    "### Feature Selection - Forward Feature Selection:"
   ]
  },
  {
   "cell_type": "code",
   "execution_count": 135,
   "metadata": {
    "id": "AWB-zPmRK6w5"
   },
   "outputs": [],
   "source": [
    "from sklearn.feature_selection import f_regression\n",
    "ffs = f_regression(X,Y)\n",
    "\n",
    "variable = [ ]\n",
    "for i in range(0,len(X.columns)-1):\n",
    "    if ffs[0][i] >=10:\n",
    "       variable.append(X.columns[i])"
   ]
  },
  {
   "cell_type": "code",
   "execution_count": 136,
   "metadata": {
    "colab": {
     "base_uri": "https://localhost:8080/"
    },
    "id": "izOI__uOK6w5",
    "outputId": "564ee016-f41e-4b81-e2ab-15c49569e0cb"
   },
   "outputs": [
    {
     "data": {
      "text/plain": [
       "(251, 391)"
      ]
     },
     "execution_count": 136,
     "metadata": {},
     "output_type": "execute_result"
    }
   ],
   "source": [
    "df_best = X[variable]\n",
    "\n",
    "df_best.shape"
   ]
  },
  {
   "cell_type": "markdown",
   "metadata": {
    "id": "Ahb9e0-iK6w5"
   },
   "source": [
    "We have choosen f-value as 10. Based on the value, 391 features were selected out of 24711."
   ]
  },
  {
   "cell_type": "code",
   "execution_count": 137,
   "metadata": {
    "colab": {
     "base_uri": "https://localhost:8080/"
    },
    "id": "q9KiwhV6K6w5",
    "outputId": "ee57f9f2-410f-4433-ad76-7f3cb6450c88"
   },
   "outputs": [
    {
     "name": "stdout",
     "output_type": "stream",
     "text": [
      "<class 'pandas.core.frame.DataFrame'>\n",
      "Int64Index: 251 entries, 0 to 250\n",
      "Columns: 391 entries, 225209_s_at to 227068_at\n",
      "dtypes: float64(391)\n",
      "memory usage: 768.7 KB\n"
     ]
    }
   ],
   "source": [
    "#converting all the datatypes of dataframe to float\n",
    "df_best = df_best.astype(float)\n",
    "Y = Y.astype(float)\n",
    "df_best.info()"
   ]
  },
  {
   "cell_type": "markdown",
   "metadata": {
    "id": "rJ8sTsKhK6w5"
   },
   "source": [
    "## Principle component analysis & SVC:"
   ]
  },
  {
   "cell_type": "markdown",
   "metadata": {
    "id": "dh4Y7T_xK6w5"
   },
   "source": [
    "Principle Component Analysis is used to reduce the dimension of the obtained feature(391).\n",
    "\n",
    "PCA reduce the total features less than or equal to the samples."
   ]
  },
  {
   "cell_type": "code",
   "execution_count": 138,
   "metadata": {
    "id": "W5KY1D7WRr-_"
   },
   "outputs": [
    {
     "ename": "NameError",
     "evalue": "name 'r2_score' is not defined",
     "output_type": "error",
     "traceback": [
      "\u001b[1;31m---------------------------------------------------------------------------\u001b[0m",
      "\u001b[1;31mNameError\u001b[0m                                 Traceback (most recent call last)",
      "Input \u001b[1;32mIn [138]\u001b[0m, in \u001b[0;36m<cell line: 6>\u001b[1;34m()\u001b[0m\n\u001b[0;32m     18\u001b[0m forest_regressor\u001b[38;5;241m.\u001b[39mfit(X_train1, y_train1)\n\u001b[0;32m     20\u001b[0m y_predict3 \u001b[38;5;241m=\u001b[39m forest_regressor\u001b[38;5;241m.\u001b[39mpredict(X_test1)\n\u001b[1;32m---> 21\u001b[0m accuracy \u001b[38;5;241m=\u001b[39m r2_score(y_test1, y_predict3)\n\u001b[0;32m     22\u001b[0m acc_score\u001b[38;5;241m.\u001b[39mappend(accuracy)\n\u001b[0;32m     24\u001b[0m RFR_acc\u001b[38;5;241m.\u001b[39mappend(accuracy)\n",
      "\u001b[1;31mNameError\u001b[0m: name 'r2_score' is not defined"
     ]
    }
   ],
   "source": [
    "from sklearn.ensemble import RandomForestRegressor\n",
    "\n",
    "RFR_acc = []\n",
    "val = []\n",
    "acc =0\n",
    "for i in range(10,250,10):\n",
    "\n",
    "  pca = PCA(n_components = i)\n",
    "  x_pca = pca.fit_transform(df_best)\n",
    "  \n",
    "  X_train, X_test, y_train, y_test = train_test_split(x_pca, Y, train_size=0.7, random_state=11, shuffle=True) #Train Test Split\n",
    "\n",
    "  #Splitting the training data into training and validation data using K-Fold\n",
    "  acc_score = []\n",
    "  X_train1, X_test1, y_train1, y_test1 = train_test_split(X_train, y_train, train_size=0.7, random_state=11, shuffle=True) #Train Test Split\n",
    "  \n",
    "  forest_regressor = RandomForestRegressor(n_estimators = 300, random_state = 0)\n",
    "  forest_regressor.fit(X_train1, y_train1)\n",
    "\n",
    "  y_predict3 = forest_regressor.predict(X_test1)\n",
    "  accuracy = r2_score(y_test1, y_predict3)\n",
    "  acc_score.append(accuracy)\n",
    "     \n",
    "  RFR_acc.append(accuracy)\n",
    "  val.append(i)\n",
    "  if (acc < accuracy):\n",
    "    acc = accuracy\n",
    "    best_feat = i\n",
    "    best_pca = x_pca"
   ]
  },
  {
   "cell_type": "markdown",
   "metadata": {
    "id": "UAf_Q6UDK6w6"
   },
   "source": [
    "## Visualising and selecting the best number of features"
   ]
  },
  {
   "cell_type": "code",
   "execution_count": null,
   "metadata": {
    "colab": {
     "base_uri": "https://localhost:8080/",
     "height": 406
    },
    "id": "QYs3KlTYSGe7",
    "outputId": "a7338abb-e590-436a-b47e-99c7cc1b7403"
   },
   "outputs": [],
   "source": [
    "plt.figure(figsize=(18,5))\n",
    "#plt.bar(models,accuracies)\n",
    "plt.xlabel(\"Number of Features\")\n",
    "plt.ylabel(\"Accuracy in %\")\n",
    "sns.barplot(val,RFR_acc)\n",
    "print(\"Maximum Accuracy is \",acc, \" Best number of features : \", best_feat)"
   ]
  },
  {
   "cell_type": "markdown",
   "metadata": {
    "id": "uIdzBRzVK6w6"
   },
   "source": [
    "### Predicting the Test Data"
   ]
  },
  {
   "cell_type": "code",
   "execution_count": null,
   "metadata": {
    "colab": {
     "base_uri": "https://localhost:8080/"
    },
    "id": "VfnoJ2TTSLNJ",
    "outputId": "7965460b-fe2f-4929-80a8-75e2255a116f"
   },
   "outputs": [],
   "source": [
    "r2_score(y_test,forest_regressor.predict(X_test))*100"
   ]
  },
  {
   "cell_type": "markdown",
   "metadata": {
    "id": "BYUtsGqfK6w7"
   },
   "source": [
    "Conclusion:\n",
    "\n",
    "Model Performs in both Training and Testing data. But the accuracy is not impressive.\n",
    "\n",
    "Required Number of features to achieve good accuracy = **30**\n",
    "\n",
    "Training Accuracy =**24%**\n",
    "\n",
    "Testing Accuracy = **6%**"
   ]
  },
  {
   "cell_type": "code",
   "execution_count": null,
   "metadata": {
    "id": "LhinOCATSgy_"
   },
   "outputs": [],
   "source": []
  },
  {
   "cell_type": "code",
   "execution_count": null,
   "metadata": {
    "id": "CaS7WDnEK6w6"
   },
   "outputs": [],
   "source": [
    "#XG Boost Regression model is used here for the classification\n",
    "from sklearn.model_selection import train_test_split\n",
    "from sklearn.decomposition import PCA\n",
    "from xgboost.sklearn import XGBRegressor\n",
    "from sklearn.model_selection import KFold\n",
    "from sklearn.metrics import r2_score\n",
    "from sklearn.metrics import mean_squared_error\n",
    "\n",
    "XGB_acc = []\n",
    "val = []\n",
    "acc =0\n",
    "for i in range(10,250,10):\n",
    "\n",
    "  pca = PCA(n_components = i)\n",
    "  x_pca = pca.fit_transform(df_best)\n",
    "  \n",
    "  X_train, X_test, y_train, y_test = train_test_split(x_pca, Y, train_size=0.7, random_state=11, shuffle=True) #Train Test Split\n",
    "\n",
    "  #Splitting the training data into training and validation data using K-Fold\n",
    "  acc_score = []\n",
    "  X_train1, X_test1, y_train1, y_test1 = train_test_split(X_train, y_train, train_size=0.7, random_state=11, shuffle=True) #Train Test Split\n",
    "    \n",
    "  XGBR = XGBRegressor(objective ='reg:squarederror')\n",
    "  XGBR.fit(X_train1, y_train1)\n",
    "\n",
    "  y_predict5 = XGBR.predict(X_test1)\n",
    "  accuracy = r2_score(y_test1, y_predict5)\n",
    "  acc_score.append(accuracy)\n",
    "     \n",
    "  XGB_acc.append(accuracy)\n",
    "  val.append(i)\n",
    "  if (acc < accuracy):\n",
    "    acc = accuracy\n",
    "    best_feat = i\n",
    "    best_pca = x_pca"
   ]
  },
  {
   "cell_type": "code",
   "execution_count": null,
   "metadata": {
    "colab": {
     "base_uri": "https://localhost:8080/",
     "height": 406
    },
    "id": "hKpXzdzNK6w6",
    "outputId": "1b7ab4d6-5faf-402b-a94f-1950f2577d1b"
   },
   "outputs": [],
   "source": [
    "plt.figure(figsize=(18,5))\n",
    "#plt.bar(models,accuracies)\n",
    "plt.xlabel(\"Number of Features\")\n",
    "plt.ylabel(\"Accuracy in %\")\n",
    "sns.barplot(val,XGB_acc)\n",
    "print(\"Maximum Accuracy is \",acc, \" Best number of features : \", best_feat)"
   ]
  },
  {
   "cell_type": "code",
   "execution_count": null,
   "metadata": {
    "colab": {
     "base_uri": "https://localhost:8080/"
    },
    "id": "Zrs8tW44K6w6",
    "outputId": "5f68c7b8-80ea-4f0c-98b1-503f7c1a736a"
   },
   "outputs": [],
   "source": [
    "r2_score(y_test,XGBR.predict(X_test))*100"
   ]
  },
  {
   "cell_type": "markdown",
   "metadata": {
    "id": "sH5dti8kS6q_"
   },
   "source": [
    "# 10. Target Variable - DSSTime:"
   ]
  },
  {
   "cell_type": "code",
   "execution_count": null,
   "metadata": {
    "id": "NCuQT49nS6q_"
   },
   "outputs": [],
   "source": [
    "df = df_main.copy()\n",
    "df1 =df_output.copy()"
   ]
  },
  {
   "cell_type": "markdown",
   "metadata": {
    "id": "PSUeXtNKS6q_"
   },
   "source": [
    "### Combining both Input data and Output data(DSSTime)"
   ]
  },
  {
   "cell_type": "markdown",
   "metadata": {
    "id": "L_9M9troS6rA"
   },
   "source": [
    "Merging all the input data from the dataframe \"df\" and \"DSSTime\" variable from the dataframe \"df1\"\n"
   ]
  },
  {
   "cell_type": "code",
   "execution_count": null,
   "metadata": {
    "id": "B7XB28G1S6rA"
   },
   "outputs": [],
   "source": [
    "df_final = pd.merge(df,df1[['DSS.time']], left_on=['probe'],right_on=[df1['_PATIENT']],how='inner')"
   ]
  },
  {
   "cell_type": "code",
   "execution_count": null,
   "metadata": {
    "colab": {
     "base_uri": "https://localhost:8080/",
     "height": 299
    },
    "id": "Z-vEMc3bS6rA",
    "outputId": "96ca105b-6279-4372-da13-0e3aee7478c8"
   },
   "outputs": [],
   "source": [
    "df_final.head()"
   ]
  },
  {
   "cell_type": "markdown",
   "metadata": {
    "id": "ax-aDuCrS6rA"
   },
   "source": [
    "## Missing Values"
   ]
  },
  {
   "cell_type": "markdown",
   "metadata": {
    "id": "MNH_rUcYS6rA"
   },
   "source": [
    "Removing the missing values"
   ]
  },
  {
   "cell_type": "code",
   "execution_count": null,
   "metadata": {
    "colab": {
     "base_uri": "https://localhost:8080/"
    },
    "id": "mwUwQRQ7S6rB",
    "outputId": "d1d364c7-cdb4-4245-96ec-5945283ee119"
   },
   "outputs": [],
   "source": [
    "df_final.isna().sum()"
   ]
  },
  {
   "cell_type": "markdown",
   "metadata": {
    "id": "nRhKGhHoTy3K"
   },
   "source": [
    "Replaced missing values with the mean of the same target variable"
   ]
  },
  {
   "cell_type": "code",
   "execution_count": null,
   "metadata": {
    "id": "_jTq0cFyTgED"
   },
   "outputs": [],
   "source": [
    "df_final['DSS.time'] = df_final['DSS.time'].replace(np.NaN,df_final['DSS.time'].mean())"
   ]
  },
  {
   "cell_type": "code",
   "execution_count": null,
   "metadata": {
    "colab": {
     "base_uri": "https://localhost:8080/"
    },
    "id": "YchMl3UnT4zV",
    "outputId": "961c551e-2ec9-4d87-bf34-7e7c4013b69f"
   },
   "outputs": [],
   "source": [
    "df_final.isna().sum()"
   ]
  },
  {
   "cell_type": "code",
   "execution_count": null,
   "metadata": {
    "id": "hm4mFmKSS6rB"
   },
   "outputs": [],
   "source": [
    "X = df_final.drop(columns = ['probe','DSS.time'],axis=1)\n",
    "Y = df_final['DSS.time']\n"
   ]
  },
  {
   "cell_type": "code",
   "execution_count": null,
   "metadata": {
    "colab": {
     "base_uri": "https://localhost:8080/"
    },
    "id": "F2wd-MD_S6rB",
    "outputId": "ed316216-07f6-4738-f395-7ba1dcc6efc1"
   },
   "outputs": [],
   "source": [
    "print(X.shape, Y.shape)"
   ]
  },
  {
   "cell_type": "markdown",
   "metadata": {
    "id": "lyyg0WoES6rB"
   },
   "source": [
    "We could see that the X shape is 251 rows and 24711 columns.\n",
    "More columns can make the model to perform poor, so its better to reject the features, which is highly correlated. \n",
    "\n",
    "Here, we have choosen Forward Feature selection to select the best feature for the target variable - DSS.time."
   ]
  },
  {
   "cell_type": "markdown",
   "metadata": {
    "id": "zznvzqStS6rB"
   },
   "source": [
    "### Feature Selection - Forward Feature Selection:"
   ]
  },
  {
   "cell_type": "code",
   "execution_count": null,
   "metadata": {
    "id": "kzt2qOMxS6rC"
   },
   "outputs": [],
   "source": [
    "from sklearn.feature_selection import f_regression\n",
    "ffs = f_regression(X,Y)\n",
    "\n",
    "variable = [ ]\n",
    "for i in range(0,len(X.columns)-1):\n",
    "    if ffs[0][i] >=10:\n",
    "       variable.append(X.columns[i])"
   ]
  },
  {
   "cell_type": "code",
   "execution_count": null,
   "metadata": {
    "colab": {
     "base_uri": "https://localhost:8080/"
    },
    "id": "4aHGp82QS6rC",
    "outputId": "1b1618d6-4505-4ab2-bb4a-b1ef5376a04e"
   },
   "outputs": [],
   "source": [
    "df_best = X[variable]\n",
    "\n",
    "df_best.shape"
   ]
  },
  {
   "cell_type": "markdown",
   "metadata": {
    "id": "oGwGBpydS6rC"
   },
   "source": [
    "We have choosen f-value as 10. Based on the value, 963 features were selected out of 24711."
   ]
  },
  {
   "cell_type": "code",
   "execution_count": null,
   "metadata": {
    "colab": {
     "base_uri": "https://localhost:8080/"
    },
    "id": "w5QKfuY_S6rC",
    "outputId": "04619c23-583a-456f-be15-51a4e6b70c27"
   },
   "outputs": [],
   "source": [
    "#converting all the datatypes of dataframe to float\n",
    "df_best = df_best.astype(float)\n",
    "Y = Y.astype(float)\n",
    "df_best.info()"
   ]
  },
  {
   "cell_type": "markdown",
   "metadata": {
    "id": "NXgHIqeKS6rC"
   },
   "source": [
    "## Principle component analysis & XG Boost Regressor:"
   ]
  },
  {
   "cell_type": "markdown",
   "metadata": {
    "id": "NlkFbmDLS6rC"
   },
   "source": [
    "Principle Component Analysis is used to reduce the dimension of the obtained feature(963).\n",
    "\n",
    "PCA reduce the total features less than or equal to the samples."
   ]
  },
  {
   "cell_type": "code",
   "execution_count": null,
   "metadata": {
    "id": "XMfZb0ufS6rE"
   },
   "outputs": [],
   "source": [
    "#XG Boost Regression model is used here for the Regression\n",
    "from sklearn.model_selection import train_test_split\n",
    "from sklearn.decomposition import PCA\n",
    "from xgboost.sklearn import XGBRegressor\n",
    "from sklearn.model_selection import KFold\n",
    "from sklearn.metrics import r2_score\n",
    "from sklearn.metrics import mean_squared_error\n",
    "\n",
    "XGB_acc = []\n",
    "val = []\n",
    "acc =0\n",
    "for i in range(10,250,10):\n",
    "\n",
    "  pca = PCA(n_components = i)\n",
    "  x_pca = pca.fit_transform(df_best)\n",
    "  \n",
    "  X_train, X_test, y_train, y_test = train_test_split(x_pca, Y, train_size=0.7, random_state=11, shuffle=True) #Train Test Split\n",
    "\n",
    "  acc_score = []\n",
    "  X_train1, X_test1, y_train1, y_test1 = train_test_split(X_train, y_train, train_size=0.7, random_state=11, shuffle=True) #Train Test Split\n",
    "    \n",
    "  XGBR = XGBRegressor(objective ='reg:squarederror')\n",
    "  XGBR.fit(X_train1, y_train1)\n",
    "\n",
    "  y_predict5 = XGBR.predict(X_test1)\n",
    "  accuracy = r2_score(y_test1, y_predict5)\n",
    "  acc_score.append(accuracy)\n",
    "     \n",
    "  XGB_acc.append(accuracy)\n",
    "  val.append(i)\n",
    "  if (acc < accuracy):\n",
    "    acc = accuracy\n",
    "    best_feat = i\n",
    "    best_pca = x_pca"
   ]
  },
  {
   "cell_type": "markdown",
   "metadata": {
    "id": "BsYcy_mVS6rD"
   },
   "source": [
    "## Visualising and selecting the best number of features"
   ]
  },
  {
   "cell_type": "code",
   "execution_count": null,
   "metadata": {
    "colab": {
     "base_uri": "https://localhost:8080/",
     "height": 406
    },
    "id": "QjVJR4NoS6rF",
    "outputId": "9a072b44-03d0-49af-9d69-34de5fb6c73f"
   },
   "outputs": [],
   "source": [
    "plt.figure(figsize=(18,5))\n",
    "#plt.bar(models,accuracies)\n",
    "plt.xlabel(\"Number of Features\")\n",
    "plt.ylabel(\"Accuracy in %\")\n",
    "sns.barplot(val,XGB_acc)\n",
    "print(\"Maximum Accuracy is \",acc, \" Best number of features : \", best_feat)"
   ]
  },
  {
   "cell_type": "markdown",
   "metadata": {
    "id": "TM2SdB89S6rD"
   },
   "source": [
    "### Predicting the Test Data"
   ]
  },
  {
   "cell_type": "code",
   "execution_count": null,
   "metadata": {
    "colab": {
     "base_uri": "https://localhost:8080/"
    },
    "id": "CMzjAD1sS6rF",
    "outputId": "778de495-e2c1-4829-a6b4-89a210e971ed"
   },
   "outputs": [],
   "source": [
    "r2_score(y_test,XGBR.predict(X_test))*100"
   ]
  },
  {
   "cell_type": "markdown",
   "metadata": {
    "id": "5AO1CgWRS6rE"
   },
   "source": [
    "Conclusion:\n",
    "\n",
    "XGBoost Model Performs poor in both Training and Testing data. The accuracy is not impressive.\n",
    "\n",
    "Required Number of features to achieve good accuracy = **30**\n",
    "\n",
    "Training Accuracy =**16%**\n",
    "\n",
    "Testing Accuracy = **-10%**\n",
    "\n",
    "So, we can try with different model"
   ]
  },
  {
   "cell_type": "code",
   "execution_count": null,
   "metadata": {
    "id": "YlzjeYIsUv3n"
   },
   "outputs": [],
   "source": [
    "#Gradient Boosting Regression model is used here for the Regression\n",
    "from sklearn.model_selection import train_test_split\n",
    "from sklearn.decomposition import PCA\n",
    "from sklearn.metrics import r2_score\n",
    "from sklearn.metrics import mean_squared_error\n",
    "from sklearn.svm import SVR\n",
    "\n",
    "XGB_acc = []\n",
    "val = []\n",
    "acc =0\n",
    "for i in range(10,250,10):\n",
    "\n",
    "  pca = PCA(n_components = i)\n",
    "  x_pca = pca.fit_transform(df_best)\n",
    "  \n",
    "  X_train, X_test, y_train, y_test = train_test_split(x_pca, Y, train_size=0.7, random_state=11, shuffle=True) #Train Test Split\n",
    "\n",
    "  acc_score = []\n",
    "  X_train1, X_test1, y_train1, y_test1 = train_test_split(X_train, y_train, train_size=0.7, random_state=11, shuffle=True) #Train Test Split\n",
    "    \n",
    "\n",
    "  svr_regressor = SVR(kernel='linear', C=10, gamma='auto')\n",
    "  svr_regressor.fit(X_train1, y_train1)\n",
    "\n",
    "  y_predict1 = svr_regressor.predict(X_test1)\n",
    "  accuracy = r2_score(y_test1, y_predict1)\n",
    "  acc_score.append(accuracy)\n",
    "      \n",
    "  XGB_acc.append(accuracy)\n",
    "  val.append(i)\n",
    "  if (acc < accuracy):\n",
    "    acc = accuracy\n",
    "    best_feat = i\n",
    "    best_pca = x_pca"
   ]
  },
  {
   "cell_type": "code",
   "execution_count": null,
   "metadata": {
    "colab": {
     "base_uri": "https://localhost:8080/",
     "height": 406
    },
    "id": "3NKhofZTUv36",
    "outputId": "cdf19a1b-b59a-4969-c54b-cac92c6eef9f"
   },
   "outputs": [],
   "source": [
    "plt.figure(figsize=(18,5))\n",
    "#plt.bar(models,accuracies)\n",
    "plt.xlabel(\"Number of Features\")\n",
    "plt.ylabel(\"Accuracy in %\")\n",
    "sns.barplot(val,XGB_acc)\n",
    "print(\"Maximum Accuracy is \",acc, \" Best number of features : \", best_feat)"
   ]
  },
  {
   "cell_type": "code",
   "execution_count": null,
   "metadata": {
    "colab": {
     "base_uri": "https://localhost:8080/"
    },
    "id": "RyEhOUBLUv36",
    "outputId": "e4404afe-90e5-4652-aa91-398a0ed67e47"
   },
   "outputs": [],
   "source": [
    "r2_score(y_test,svr_regressor.predict(X_test))*100"
   ]
  },
  {
   "cell_type": "markdown",
   "metadata": {
    "id": "fCCgmsf-WQ93"
   },
   "source": [
    "Conclusion:\n",
    "\n",
    "SVR Model Performs both in Training and Testing data.\n",
    "\n",
    "Required Number of features to achieve good accuracy = 240\n",
    "\n",
    "Training Accuracy =32%\n",
    "\n",
    "Testing Accuracy = 11%"
   ]
  },
  {
   "cell_type": "code",
   "execution_count": null,
   "metadata": {
    "id": "w7S5U0I1Wdv5"
   },
   "outputs": [],
   "source": []
  },
  {
   "cell_type": "markdown",
   "metadata": {
    "id": "3IQ49JOJWjN9"
   },
   "source": [
    "# 11. Target Variable - AgeAtDiagnosis:"
   ]
  },
  {
   "cell_type": "code",
   "execution_count": null,
   "metadata": {
    "id": "L-w0JNn8WjN-"
   },
   "outputs": [],
   "source": [
    "df = df_main.copy()\n",
    "df1 =df_output.copy()"
   ]
  },
  {
   "cell_type": "markdown",
   "metadata": {
    "id": "sZjN6e8-WjN-"
   },
   "source": [
    "### Combining both Input data and Output data(AgeAtDiagnosis)"
   ]
  },
  {
   "cell_type": "markdown",
   "metadata": {
    "id": "t3FTrwFJWjN-"
   },
   "source": [
    "Merging all the input data from the dataframe \"df\" and \"AgeAtDiagnosis\" variable from the dataframe \"df1\"\n"
   ]
  },
  {
   "cell_type": "code",
   "execution_count": null,
   "metadata": {
    "id": "0ZBDHnvRWjN-"
   },
   "outputs": [],
   "source": [
    "df_final = pd.merge(df,df1[['AgeAtDiagnosis']], left_on=['probe'],right_on=[df1['_PATIENT']],how='inner')"
   ]
  },
  {
   "cell_type": "code",
   "execution_count": null,
   "metadata": {
    "colab": {
     "base_uri": "https://localhost:8080/",
     "height": 299
    },
    "id": "WnSx5nxCWjN-",
    "outputId": "4d41fccb-4483-41c1-ffdb-c766e1c0ca18"
   },
   "outputs": [],
   "source": [
    "df_final.head()"
   ]
  },
  {
   "cell_type": "markdown",
   "metadata": {
    "id": "X358IezFWjN-"
   },
   "source": [
    "## Missing Values"
   ]
  },
  {
   "cell_type": "markdown",
   "metadata": {
    "id": "dWuKMJo5WjN-"
   },
   "source": [
    "Checking if there is any missing values"
   ]
  },
  {
   "cell_type": "code",
   "execution_count": null,
   "metadata": {
    "colab": {
     "base_uri": "https://localhost:8080/"
    },
    "id": "sdSSDFtjWjN-",
    "outputId": "0ea2bf6d-33c9-4ea1-fefd-dffd1dcc42ac"
   },
   "outputs": [],
   "source": [
    "df_final.isna().sum()"
   ]
  },
  {
   "cell_type": "code",
   "execution_count": null,
   "metadata": {
    "id": "NuT5aXgDWjN_"
   },
   "outputs": [],
   "source": [
    "X = df_final.drop(columns = ['probe','AgeAtDiagnosis'],axis=1)\n",
    "Y = df_final['AgeAtDiagnosis']\n"
   ]
  },
  {
   "cell_type": "code",
   "execution_count": null,
   "metadata": {
    "colab": {
     "base_uri": "https://localhost:8080/"
    },
    "id": "ZGRZ5ENRWjN_",
    "outputId": "a47722b7-36e1-4b3b-f4dd-57a47003b5ca"
   },
   "outputs": [],
   "source": [
    "print(X.shape, Y.shape)"
   ]
  },
  {
   "cell_type": "markdown",
   "metadata": {
    "id": "MmdZ2vRjWjN_"
   },
   "source": [
    "We could see that the X shape is 251 rows and 24711 columns.\n",
    "More columns can make the model to perform poor, so its better to reject the features, which is highly correlated. \n",
    "\n",
    "Here, we have choosen Forward Feature selection to select the best feature for the target variable - AgeAtDiagnosis."
   ]
  },
  {
   "cell_type": "markdown",
   "metadata": {
    "id": "1yukfHqBWjN_"
   },
   "source": [
    "### Feature Selection - Forward Feature Selection:"
   ]
  },
  {
   "cell_type": "code",
   "execution_count": null,
   "metadata": {
    "id": "Jta-Q8OjWjN_"
   },
   "outputs": [],
   "source": [
    "from sklearn.feature_selection import f_regression\n",
    "ffs = f_regression(X,Y)\n",
    "\n",
    "variable = [ ]\n",
    "for i in range(0,len(X.columns)-1):\n",
    "    if ffs[0][i] >=10:\n",
    "       variable.append(X.columns[i])"
   ]
  },
  {
   "cell_type": "code",
   "execution_count": null,
   "metadata": {
    "colab": {
     "base_uri": "https://localhost:8080/"
    },
    "id": "8_zCQ_7oWjN_",
    "outputId": "3d8d5de6-0eeb-4b5f-97b9-bea1a4aca559"
   },
   "outputs": [],
   "source": [
    "df_best = X[variable]\n",
    "\n",
    "df_best.shape"
   ]
  },
  {
   "cell_type": "markdown",
   "metadata": {
    "id": "v4AlKoeHWjN_"
   },
   "source": [
    "We have choosen f-value as 10. Based on the value, 1120 features were selected out of 24711."
   ]
  },
  {
   "cell_type": "code",
   "execution_count": null,
   "metadata": {
    "colab": {
     "base_uri": "https://localhost:8080/"
    },
    "id": "7Cbk821UWjN_",
    "outputId": "909bba21-97d9-4306-a526-cf5eacba15f0"
   },
   "outputs": [],
   "source": [
    "#converting all the datatypes of dataframe to float\n",
    "df_best = df_best.astype(float)\n",
    "Y = Y.astype(int)\n",
    "df_best.info()"
   ]
  },
  {
   "cell_type": "markdown",
   "metadata": {
    "id": "iPyJuXUEWjOA"
   },
   "source": [
    "## Principle component analysis & Linear Regression:"
   ]
  },
  {
   "cell_type": "markdown",
   "metadata": {
    "id": "7TiGygV7WjOA"
   },
   "source": [
    "Principle Component Analysis is used to reduce the dimension of the obtained feature(1120).\n",
    "\n",
    "PCA reduce the total features less than or equal to the samples."
   ]
  },
  {
   "cell_type": "code",
   "execution_count": null,
   "metadata": {
    "id": "cfg9QhyiWjOA"
   },
   "outputs": [],
   "source": [
    "from sklearn.linear_model import LinearRegression\n",
    "\n",
    "RFR_acc = []\n",
    "val = []\n",
    "acc =0\n",
    "\n",
    "for i in range(10,250,10):\n",
    "\n",
    "  pca = PCA(n_components = i)\n",
    "  x_pca = pca.fit_transform(df_best)\n",
    "  \n",
    "  X_train, X_test, y_train, y_test = train_test_split(x_pca, Y.values, train_size=0.7, random_state=11, shuffle=True) #Train Test Split\n",
    "\n",
    "  acc_score = []\n",
    "  kf = KFold(n_splits=k, shuffle=False, random_state=None)\n",
    "  for train_index , test_index in kf.split(X_train):\n",
    "    X_train1 , X_test1 = X_train[train_index,:],X_train[test_index,:]\n",
    "    y_train1 , y_test1 = y_train[train_index] , y_train[test_index]\n",
    "  \n",
    "    linear_regressor = LinearRegression(normalize=True)\n",
    "    linear_regressor.fit(X_train1, y_train1)\n",
    "\n",
    "    y_predict = linear_regressor.predict(X_test1)\n",
    "    accuracy = (r2_score(y_test1, y_predict))*100\n",
    "    acc_score.append(accuracy)\n",
    "\n",
    "  avg_acc_score = sum(acc_score)/k   \n",
    "  RFR_acc.append(avg_acc_score)\n",
    "  val.append(i)\n",
    "  if (acc < avg_acc_score):\n",
    "    acc = accuracy\n",
    "    best_feat = i\n",
    "    best_pca = x_pca"
   ]
  },
  {
   "cell_type": "markdown",
   "metadata": {
    "id": "Gv2ETLkoWjOA"
   },
   "source": [
    "## Visualising and selecting the best number of features"
   ]
  },
  {
   "cell_type": "code",
   "execution_count": null,
   "metadata": {
    "colab": {
     "base_uri": "https://localhost:8080/",
     "height": 406
    },
    "id": "-2ZhN9SBWjOA",
    "outputId": "ff5d44d3-8f76-4d25-a109-42ea89189cce"
   },
   "outputs": [],
   "source": [
    "plt.figure(figsize=(18,5))\n",
    "#plt.bar(models,accuracies)\n",
    "plt.xlabel(\"Number of Features\")\n",
    "plt.ylabel(\"Accuracy in %\")\n",
    "sns.barplot(val,RFR_acc)\n",
    "print(\"Maximum Accuracy is \",acc, \" Best number of features : \", best_feat)"
   ]
  },
  {
   "cell_type": "markdown",
   "metadata": {
    "id": "dtPAWa3zWjOA"
   },
   "source": [
    "### Predicting the Test Data"
   ]
  },
  {
   "cell_type": "code",
   "execution_count": null,
   "metadata": {
    "colab": {
     "base_uri": "https://localhost:8080/"
    },
    "id": "ECTglUq4WjOA",
    "outputId": "fa9f2afa-3825-4648-89b3-498e350a6a66"
   },
   "outputs": [],
   "source": [
    "r2_score(y_test,linear_regressor.predict(X_test))*100"
   ]
  },
  {
   "cell_type": "markdown",
   "metadata": {
    "id": "93fDlKQyWjOA"
   },
   "source": [
    "Conclusion:\n",
    "\n",
    "Model Performs poor in both Training and Testing data. The accuracy is not impressive.\n",
    "\n",
    "Required Number of features to achieve good accuracy = **240**\n",
    "\n",
    "Training Accuracy =**2%**\n",
    "\n",
    "Testing Accuracy = **-6%**\n",
    "\n",
    "First Model seems to be overfitting, since the model performs good in Training but poor in Test. SO, we have implemented K-Fold cross validation, but the performance of model is not impressive.\n",
    "\n",
    "Hence, lets try with different model to explore"
   ]
  },
  {
   "cell_type": "code",
   "execution_count": null,
   "metadata": {
    "id": "rVXKbs4OYo1U"
   },
   "outputs": [],
   "source": [
    "#Random Forest Regressor\n",
    "from sklearn.ensemble import RandomForestRegressor\n",
    "\n",
    "RFR_acc = []\n",
    "val = []\n",
    "acc =0\n",
    "for i in range(10,250,10):\n",
    "\n",
    "  pca = PCA(n_components = i)\n",
    "  x_pca = pca.fit_transform(df_best)\n",
    "  \n",
    "  X_train, X_test, y_train, y_test = train_test_split(x_pca, Y, train_size=0.7, random_state=11, shuffle=True) #Train Test Split\n",
    "\n",
    "  acc_score = []\n",
    "  X_train1, X_test1, y_train1, y_test1 = train_test_split(X_train, y_train, train_size=0.7, random_state=11, shuffle=True) #Train Test Split\n",
    "  \n",
    "  forest_regressor = RandomForestRegressor(n_estimators = 300, random_state = 0)\n",
    "  forest_regressor.fit(X_train1, y_train1)\n",
    "\n",
    "  y_predict3 = forest_regressor.predict(X_test1)\n",
    "  accuracy = r2_score(y_test1, y_predict3)\n",
    "  acc_score.append(accuracy)\n",
    "     \n",
    "  RFR_acc.append(accuracy)\n",
    "  val.append(i)\n",
    "  if (acc < accuracy):\n",
    "    acc = accuracy\n",
    "    best_feat = i\n",
    "    best_pca = x_pca"
   ]
  },
  {
   "cell_type": "code",
   "execution_count": null,
   "metadata": {
    "colab": {
     "base_uri": "https://localhost:8080/",
     "height": 406
    },
    "id": "1evzGoCcXurg",
    "outputId": "5d7720fe-b0b1-4789-d566-6e57cba0151a"
   },
   "outputs": [],
   "source": [
    "plt.figure(figsize=(18,5))\n",
    "#plt.bar(models,accuracies)\n",
    "plt.xlabel(\"Number of Features\")\n",
    "plt.ylabel(\"Accuracy in %\")\n",
    "sns.barplot(val,RFR_acc)\n",
    "print(\"Maximum Accuracy is \",acc, \" Best number of features : \", best_feat)"
   ]
  },
  {
   "cell_type": "code",
   "execution_count": null,
   "metadata": {
    "colab": {
     "base_uri": "https://localhost:8080/"
    },
    "id": "YClfRGd4Xurg",
    "outputId": "5c77e372-a25f-41d0-8fad-3fa0a493daf3"
   },
   "outputs": [],
   "source": [
    "r2_score(y_test,forest_regressor.predict(X_test))*100"
   ]
  },
  {
   "cell_type": "markdown",
   "metadata": {
    "id": "6_DNPayqYxgl"
   },
   "source": [
    "Conclusion:\n",
    "\n",
    "Model Performs both in Training and Testing data. The Testing accuracy looks better than previous model.\n",
    "\n",
    "Required Number of features to achieve good accuracy = **10**\n",
    "\n",
    "Training Accuracy =**36%**\n",
    "\n",
    "Testing Accuracy = **13%**"
   ]
  }
 ],
 "metadata": {
  "colab": {
   "name": "Breast_Cancer_Final.ipynb",
   "provenance": []
  },
  "kernelspec": {
   "display_name": "Python 3",
   "language": "python",
   "name": "python3"
  },
  "language_info": {
   "codemirror_mode": {
    "name": "ipython",
    "version": 3
   },
   "file_extension": ".py",
   "mimetype": "text/x-python",
   "name": "python",
   "nbconvert_exporter": "python",
   "pygments_lexer": "ipython3",
   "version": "3.8.5"
  }
 },
 "nbformat": 4,
 "nbformat_minor": 1
}
